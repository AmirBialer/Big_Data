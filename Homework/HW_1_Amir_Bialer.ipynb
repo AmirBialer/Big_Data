{
  "nbformat": 4,
  "nbformat_minor": 0,
  "metadata": {
    "kernelspec": {
      "display_name": "Python 3",
      "language": "python",
      "name": "python3"
    },
    "language_info": {
      "codemirror_mode": {
        "name": "ipython",
        "version": 3
      },
      "file_extension": ".py",
      "mimetype": "text/x-python",
      "name": "python",
      "nbconvert_exporter": "python",
      "pygments_lexer": "ipython3",
      "version": "3.6.9"
    },
    "colab": {
      "name": "HW 1_Amir_Bialer.ipynb",
      "provenance": [],
      "collapsed_sections": []
    }
  },
  "cells": [
    {
      "cell_type": "markdown",
      "metadata": {
        "id": "_fq8BHLiYCyE"
      },
      "source": [
        "# Homework Assignment 1\n",
        "### [The Art of Analyzing Big Data - The Data Scientist’s Toolbox](https://www.ise.bgu.ac.il/labs/fire/lectures.html)\n",
        "#### By Dr. Michael Fire "
      ]
    },
    {
      "cell_type": "markdown",
      "metadata": {
        "id": "jYvqtKSOYCyG"
      },
      "source": [
        "For this homework you will need to write code that analyzes real-world datasets. The code needs to be written in Python using the [sqlite3](https://docs.python.org/2/library/sqlite3.html) package. \n",
        "\n",
        "**Please note:** You need to answer only the questions that match your ID first digit."
      ]
    },
    {
      "cell_type": "markdown",
      "metadata": {
        "id": "AML-gkV-YCyI"
      },
      "source": [
        "# 1. Babies Names Dataset (35pt)"
      ]
    },
    {
      "cell_type": "markdown",
      "metadata": {
        "id": "jvkBrt7SYCyK"
      },
      "source": [
        "**Task 1 (for everyone):** Write a code that uses the  [**babies names dataset** ](https://www.kaggle.com/kaggle/us-baby-names?select=NationalNames.csv) (use NationalNames.csv) and creates a table named (Names) with the dataset data and the following columns: 'State', 'Gender', 'Name', 'Count' , and 'Year' (5pt)\n",
        "**Bonus:** Load the data using a Batch INSERT SQL Query (2pt)"
      ]
    },
    {
      "cell_type": "code",
      "metadata": {
        "id": "-vrdQhaLYCyL",
        "colab": {
          "base_uri": "https://localhost:8080/"
        },
        "outputId": "f013a62d-9191-42f5-e424-cc4c5253fa74"
      },
      "source": [
        "import json\n",
        "import os\n",
        "import pandas as pd\n",
        "!pip install kaggle \n",
        "import sqlite3\n",
        "import matplotlib\n",
        "import matplotlib.pyplot as plt\n",
        "import os\n",
        "%matplotlib inline"
      ],
      "execution_count": 1,
      "outputs": [
        {
          "output_type": "stream",
          "name": "stdout",
          "text": [
            "Requirement already satisfied: kaggle in /usr/local/lib/python3.7/dist-packages (1.5.12)\n",
            "Requirement already satisfied: certifi in /usr/local/lib/python3.7/dist-packages (from kaggle) (2021.5.30)\n",
            "Requirement already satisfied: requests in /usr/local/lib/python3.7/dist-packages (from kaggle) (2.23.0)\n",
            "Requirement already satisfied: urllib3 in /usr/local/lib/python3.7/dist-packages (from kaggle) (1.24.3)\n",
            "Requirement already satisfied: python-slugify in /usr/local/lib/python3.7/dist-packages (from kaggle) (5.0.2)\n",
            "Requirement already satisfied: python-dateutil in /usr/local/lib/python3.7/dist-packages (from kaggle) (2.8.2)\n",
            "Requirement already satisfied: tqdm in /usr/local/lib/python3.7/dist-packages (from kaggle) (4.62.3)\n",
            "Requirement already satisfied: six>=1.10 in /usr/local/lib/python3.7/dist-packages (from kaggle) (1.15.0)\n",
            "Requirement already satisfied: text-unidecode>=1.3 in /usr/local/lib/python3.7/dist-packages (from python-slugify->kaggle) (1.3)\n",
            "Requirement already satisfied: chardet<4,>=3.0.2 in /usr/local/lib/python3.7/dist-packages (from requests->kaggle) (3.0.4)\n",
            "Requirement already satisfied: idna<3,>=2.5 in /usr/local/lib/python3.7/dist-packages (from requests->kaggle) (2.10)\n"
          ]
        }
      ]
    },
    {
      "cell_type": "code",
      "metadata": {
        "id": "kdWt4YOJiLNH"
      },
      "source": [
        "api_token = {\"username\":\"amirbialer\",\"key\":\"f2af62d43f0aaf0ee3bea5998634a1b7\"}\n",
        "!mkdir /root/.kaggle/\n",
        "with open('/root/.kaggle/kaggle.json', 'w') as file:\n",
        "  json.dump(api_token, file)\n",
        "!chmod 600 /root/.kaggle/kaggle.json"
      ],
      "execution_count": 2,
      "outputs": []
    },
    {
      "cell_type": "code",
      "metadata": {
        "id": "X4c4TPBDkIjj"
      },
      "source": [
        "# Creating a dataset directory\n",
        "!mkdir ./datasets\n",
        "!mkdir ./datasets/us-baby-name"
      ],
      "execution_count": 3,
      "outputs": []
    },
    {
      "cell_type": "code",
      "metadata": {
        "colab": {
          "base_uri": "https://localhost:8080/"
        },
        "id": "0S1SigtmiznN",
        "outputId": "43b93ffe-52d3-4b64-937d-e9a19657af0e"
      },
      "source": [
        "# download the dataset from Kaggle and unzip it\n",
        "!kaggle datasets download kaggle/us-baby-names -f StateNames.csv -p ./datasets/us-baby-name/\n",
        "!unzip ./datasets/us-baby-name/*.zip  -d ./datasets/us-baby-name/\n"
      ],
      "execution_count": 4,
      "outputs": [
        {
          "output_type": "stream",
          "name": "stdout",
          "text": [
            "Downloading StateNames.csv.zip to ./datasets/us-baby-name\n",
            " 76% 23.0M/30.5M [00:00<00:00, 60.2MB/s]\n",
            "100% 30.5M/30.5M [00:00<00:00, 121MB/s] \n",
            "Archive:  ./datasets/us-baby-name/StateNames.csv.zip\n",
            "  inflating: ./datasets/us-baby-name/StateNames.csv  \n"
          ]
        }
      ]
    },
    {
      "cell_type": "code",
      "metadata": {
        "id": "LqmEhzeBkYcz"
      },
      "source": [
        "PATH = './datasets/us-baby-name/'\n",
        "conn = sqlite3.connect(f'{PATH}/Amir_DataBase.db') \n",
        "\n",
        "df = pd.read_csv(f'{PATH}/StateNames.csv')\n",
        "df.to_sql('StateNames', conn, index=False, if_exists='replace')"
      ],
      "execution_count": 5,
      "outputs": []
    },
    {
      "cell_type": "code",
      "metadata": {
        "id": "06ayeQVoYwVZ"
      },
      "source": [
        "#Create table\n",
        "c = conn.cursor()\n",
        "c.execute('''CREATE TABLE IF NOT EXISTS Names\n",
        "         ( 'State', 'Gender', 'Name', 'Count' , 'Year');''')\n",
        "c.close()"
      ],
      "execution_count": 6,
      "outputs": []
    },
    {
      "cell_type": "code",
      "metadata": {
        "id": "Dna90VJ2rhmS"
      },
      "source": [
        "#Batch insert data to Table\n",
        "c = conn.cursor()\n",
        "c.execute('''INSERT INTO Names (\"State\", \"Gender\", \"Name\", \"Count\" , \"Year\") SELECT \"State\", \"Gender\", \"Name\", \"Count\", \"Year\" FROM \"StateNames\";''')\n",
        "conn.commit()\n",
        "c.close()"
      ],
      "execution_count": 7,
      "outputs": []
    },
    {
      "cell_type": "markdown",
      "metadata": {
        "id": "QEbvkQhCYCyP"
      },
      "source": [
        "**Task 2 (for everyone):** Write a query that returns the statistics for the name Mary (5pt). Use the [the timeit package](https://docs.python.org/3/library/timeit.html) to measure the time it takes the query to run (5pt). **Bonus:** [Create an index](https://www.w3schools.com/sql/sql_create_index.asp)  on the _Name_ column and use the [the timeit package](https://docs.python.org/3/library/timeit.html) to measure the time it takes the query to run with the index (5pt)"
      ]
    },
    {
      "cell_type": "code",
      "metadata": {
        "id": "aLDurx_fiDch"
      },
      "source": [
        "import timeit"
      ],
      "execution_count": 5,
      "outputs": []
    },
    {
      "cell_type": "code",
      "metadata": {
        "id": "s1MH9S0PrDO7"
      },
      "source": [
        "def Get_Marys_Statistics():\n",
        "  c = conn.cursor()\n",
        "  print(\"Number of Marys in data: {}\".format(c.execute(''' SELECT SUM(COUNT) Name FROM Names Where Name=\"Mary\"''').fetchone()))\n",
        "  print(\"Number of States that have a Mary: {}\".format(c.execute(''' SELECT COUNT(DISTINCT(State)) FROM Names Where Name=\"Mary\"''').fetchone()))\n",
        "  s,n=c.execute(''' SELECT State, Sum(Count) FROM Names WHERE Name=\"Mary\" Group by State\n",
        "             Order by Sum(Count) DESC''').fetchone()\n",
        "  print(\"State with most Marys: {}. It has {} Marys \".format(s,n))\n",
        "  print(\"\")\n",
        "  c.close()\n"
      ],
      "execution_count": 9,
      "outputs": []
    },
    {
      "cell_type": "code",
      "metadata": {
        "colab": {
          "base_uri": "https://localhost:8080/"
        },
        "id": "3xapDHZ9wo_g",
        "outputId": "173c58ce-3dab-4eab-b5ea-a9c8ae0a7c71"
      },
      "source": [
        "print(\"program takes {} seconds\".format(timeit.timeit(Get_Marys_Statistics, number=1)))"
      ],
      "execution_count": 10,
      "outputs": [
        {
          "output_type": "stream",
          "name": "stdout",
          "text": [
            "Number of Marys in data: (3740495,)\n",
            "Number of States that have a Mary: (51,)\n",
            "State with most Marys: PA. It has 292159 Marys \n",
            "\n",
            "program takes 1.3925439110000042 seconds\n"
          ]
        }
      ]
    },
    {
      "cell_type": "markdown",
      "metadata": {
        "id": "6dClZxXjYCyU"
      },
      "source": [
        "### <span style=\"color:red\"> Please answer only **one** of the following questions according to your ID number (use the formula **<YOUR_ID> mod 4 +1**) </span>"
      ]
    },
    {
      "cell_type": "code",
      "metadata": {
        "id": "iDpqwgwQYCyV",
        "colab": {
          "base_uri": "https://localhost:8080/"
        },
        "outputId": "5c6947bc-3603-49b8-eba7-cd1b05e598c4"
      },
      "source": [
        "# which question to answer - put your ID number and run the code \n",
        "your_id  = \"203837695\"\n",
        "q = int(your_id) % 4 + 1\n",
        "print(\"You need to answer question number %s\" % q)"
      ],
      "execution_count": 11,
      "outputs": [
        {
          "output_type": "stream",
          "name": "stdout",
          "text": [
            "You need to answer question number 4\n"
          ]
        }
      ]
    },
    {
      "cell_type": "markdown",
      "metadata": {
        "id": "bGU71KQ8YCyZ"
      },
      "source": [
        "***Question 1:*** Write a function that returns how many babies were born in a given state in a given year.\n",
        "Use it to calculate the number of babies born in TX in 1986 (10pt)"
      ]
    },
    {
      "cell_type": "code",
      "metadata": {
        "id": "0RB3GjaaYCya"
      },
      "source": [
        ""
      ],
      "execution_count": 11,
      "outputs": []
    },
    {
      "cell_type": "markdown",
      "metadata": {
        "id": "510Wry5WYCye"
      },
      "source": [
        "***Question 2:*** Write a function that returns how many female babies were born between a given range of years.\n",
        "Use it to calculate how many babies were born between 1988 and 1995  (10pt)"
      ]
    },
    {
      "cell_type": "code",
      "metadata": {
        "id": "m5wOKWsBYCyf"
      },
      "source": [
        ""
      ],
      "execution_count": 11,
      "outputs": []
    },
    {
      "cell_type": "markdown",
      "metadata": {
        "id": "x721dD1NYCyi"
      },
      "source": [
        "**Question 3:** Write a function that returns the most common female name in a given state. Use it to calculate the most common female name in Wasington in 1987 (10pt)"
      ]
    },
    {
      "cell_type": "code",
      "metadata": {
        "id": "h3t_ouDoYCyj"
      },
      "source": [
        ""
      ],
      "execution_count": 11,
      "outputs": []
    },
    {
      "cell_type": "markdown",
      "metadata": {
        "id": "mRyUoBvhYCyl"
      },
      "source": [
        "**Question 4:** Write a function that returns how many male babies named _Robert where born in a given state in a given year. Use it to find the state in which the highest number of babies _Robert_ where born in 2010 (10pt)"
      ]
    },
    {
      "cell_type": "code",
      "metadata": {
        "id": "lz1q1mvPYCym",
        "colab": {
          "base_uri": "https://localhost:8080/"
        },
        "outputId": "49a73520-afd2-4abf-a915-fbbe6b4fa41d"
      },
      "source": [
        "def Count_Roberts(state, year):\n",
        "  c = conn.cursor()\n",
        "  s= c.execute(f''' SELECT \"Count\" FROM Names Where Name=\"Robert\" AND Gender=\"M\" AND Year={year} AND State={state}''').fetchone()\n",
        "  c.close()\n",
        "  return s[0]\n",
        "\n",
        "Count_Roberts('\"WA\"', 2010)"
      ],
      "execution_count": 12,
      "outputs": [
        {
          "output_type": "execute_result",
          "data": {
            "text/plain": [
              "122"
            ]
          },
          "metadata": {},
          "execution_count": 12
        }
      ]
    },
    {
      "cell_type": "code",
      "metadata": {
        "colab": {
          "base_uri": "https://localhost:8080/"
        },
        "id": "Jbe8yDmV0gPw",
        "outputId": "08d25c3e-34fc-461a-ff67-a1cc6f7b0f2c"
      },
      "source": [
        "def Most_Roberts(year):\n",
        "  c = conn.cursor()\n",
        "  states= c.execute(f''' SELECT DISTINCT \"State\" FROM Names''').fetchall()\n",
        "  df=pd.DataFrame()\n",
        "  for state in states:\n",
        "    cc=Count_Roberts(\"'\"+state[0]+\"'\",year)\n",
        "    df=df.append({\"State\":state, \"number\":cc}, ignore_index=True)\n",
        "  df.sort_values(by=\"number\", ascending=False, inplace=True)\n",
        "  print(df.iloc[0])\n",
        "  c.close()\n",
        "\n",
        "Most_Roberts(2010)"
      ],
      "execution_count": 15,
      "outputs": [
        {
          "output_type": "stream",
          "name": "stdout",
          "text": [
            "State     (CA,)\n",
            "number      852\n",
            "Name: 4, dtype: object\n"
          ]
        }
      ]
    },
    {
      "cell_type": "markdown",
      "metadata": {
        "id": "THz0vDHHYCyo"
      },
      "source": [
        "**Question (for everyone):** For the state of CA write code that calculates the second most popular female/male names in each decade (10pt). **Bonus**: Visualize it somehow using Matplotlib (5pt)"
      ]
    },
    {
      "cell_type": "code",
      "metadata": {
        "id": "dVRTQGOS_3G9",
        "colab": {
          "base_uri": "https://localhost:8080/"
        },
        "outputId": "07aebb07-6880-4b14-b969-e13f3445cf74"
      },
      "source": [
        "def Second_Most_Popular():\n",
        "  c = conn.cursor()\n",
        "  male= c.execute(f''' SELECT dec, Name, Gender, MAX(totcount) as totcount FROM (\n",
        "  SELECT CAST(Year/10 as int)*10 as dec, Name, Gender, SUM(Count) as totcount FROM Names \n",
        "                                WHERE State=\"CA\" AND Gender=\"M\"\n",
        "                                GROUP BY dec, Name\n",
        "                                ORDER BY dec, totcount DESC) as al\n",
        "  GROUP BY dec\n",
        "  ORDER BY dec, totcount DESC ;''').fetchall()\n",
        "  female= c.execute(f''' SELECT dec, Name, Gender, MAX(totcount) as totcount FROM (\n",
        "  SELECT CAST(Year/10 as int)*10 as dec, Name, Gender, SUM(Count) as totcount FROM Names \n",
        "                                WHERE State=\"CA\" AND Gender=\"F\"\n",
        "                                GROUP BY dec, Name\n",
        "                                ORDER BY dec, totcount DESC) as al\n",
        "  GROUP BY dec\n",
        "  ORDER BY dec, totcount DESC ;''').fetchall()\n",
        "  print(male)\n",
        "  print(female)\n",
        "\n",
        "  c.close()\n",
        "  \n",
        "Second_Most_Popular()\n",
        "\n"
      ],
      "execution_count": 16,
      "outputs": [
        {
          "output_type": "stream",
          "name": "stdout",
          "text": [
            "[(1910, 'John', 'M', 7826), (1920, 'Robert', 'M', 22946), (1930, 'Robert', 'M', 24980), (1940, 'Robert', 'M', 48310), (1950, 'Michael', 'M', 74138), (1960, 'Michael', 'M', 78987), (1970, 'Michael', 'M', 65112), (1980, 'Michael', 'M', 73614), (1990, 'Michael', 'M', 54727), (2000, 'Daniel', 'M', 39578), (2010, 'Jacob', 'M', 15054)]\n",
            "[(1910, 'Mary', 'F', 8270), (1920, 'Mary', 'F', 17696), (1930, 'Mary', 'F', 16347), (1940, 'Linda', 'F', 38380), (1950, 'Linda', 'F', 40841), (1960, 'Lisa', 'F', 43742), (1970, 'Jennifer', 'F', 54734), (1980, 'Jessica', 'F', 51796), (1990, 'Jessica', 'F', 47806), (2000, 'Emily', 'F', 30395), (2010, 'Sophia', 'F', 17166)]\n"
          ]
        }
      ]
    },
    {
      "cell_type": "markdown",
      "metadata": {
        "id": "gmdQrLL9YCyp"
      },
      "source": [
        "# 2. Flavors of Cacao Dataset (15pt)"
      ]
    },
    {
      "cell_type": "markdown",
      "metadata": {
        "id": "dTpNKH7UYCyq"
      },
      "source": [
        "Using the [Flavors of Cacao](https://www.kaggle.com/rombikuboktaeder/choco-flavors) dataset, answer the following questions:"
      ]
    },
    {
      "cell_type": "code",
      "metadata": {
        "colab": {
          "base_uri": "https://localhost:8080/"
        },
        "id": "1Ah0MrSrxjZc",
        "outputId": "d8cc4c10-4937-4b32-d4e8-6d595d2ea7ff"
      },
      "source": [
        "!mkdir ./datasets/choco_flavors\n",
        "!kaggle datasets download -d rombikuboktaeder/choco-flavors -f flavors_of_cacao.csv -p ./datasets/choco_flavors/\n",
        "#!unzip ./datasets/flavors_of_cacao/*.zip  -d ./datasets/flavors_of_cacao/"
      ],
      "execution_count": 21,
      "outputs": [
        {
          "output_type": "stream",
          "name": "stdout",
          "text": [
            "mkdir: cannot create directory ‘./datasets/choco_flavors’: File exists\n",
            "Downloading flavors_of_cacao.csv to ./datasets/choco_flavors\n",
            "  0% 0.00/125k [00:00<?, ?B/s]\n",
            "100% 125k/125k [00:00<00:00, 39.5MB/s]\n"
          ]
        }
      ]
    },
    {
      "cell_type": "code",
      "metadata": {
        "colab": {
          "base_uri": "https://localhost:8080/"
        },
        "id": "Q2bgC5Jlxtpn",
        "outputId": "6ea7232c-117b-4b2e-f6e7-1f9bf8f275b1"
      },
      "source": [
        "PATH = './datasets/choco_flavors/'\n",
        "conn = sqlite3.connect(f'{PATH}/Amir_DataBase.db') \n",
        "\n",
        "df = pd.read_csv(f'{PATH}/flavors_of_cacao.csv')\n",
        "df.to_sql('cocao', conn, index=False, if_exists='replace')"
      ],
      "execution_count": 22,
      "outputs": [
        {
          "output_type": "stream",
          "name": "stderr",
          "text": [
            "/usr/local/lib/python3.7/dist-packages/pandas/core/generic.py:2615: UserWarning: The spaces in these column names will not be changed. In pandas versions < 0.14, spaces were converted to underscores.\n",
            "  method=method,\n"
          ]
        }
      ]
    },
    {
      "cell_type": "code",
      "metadata": {
        "colab": {
          "base_uri": "https://localhost:8080/",
          "height": 220
        },
        "id": "BJ4DRGXVzL71",
        "outputId": "661d6044-3d2e-43ac-e2d2-59a573cf98c0"
      },
      "source": [
        "print(len(df))\n",
        "df.iloc[:5]"
      ],
      "execution_count": 24,
      "outputs": [
        {
          "output_type": "stream",
          "name": "stdout",
          "text": [
            "1795\n"
          ]
        },
        {
          "output_type": "execute_result",
          "data": {
            "text/html": [
              "<div>\n",
              "<style scoped>\n",
              "    .dataframe tbody tr th:only-of-type {\n",
              "        vertical-align: middle;\n",
              "    }\n",
              "\n",
              "    .dataframe tbody tr th {\n",
              "        vertical-align: top;\n",
              "    }\n",
              "\n",
              "    .dataframe thead th {\n",
              "        text-align: right;\n",
              "    }\n",
              "</style>\n",
              "<table border=\"1\" class=\"dataframe\">\n",
              "  <thead>\n",
              "    <tr style=\"text-align: right;\">\n",
              "      <th></th>\n",
              "      <th>Company \\n(Maker-if known)</th>\n",
              "      <th>Specific Bean Origin\\nor Bar Name</th>\n",
              "      <th>REF</th>\n",
              "      <th>Review\\nDate</th>\n",
              "      <th>Cocoa\\nPercent</th>\n",
              "      <th>Company\\nLocation</th>\n",
              "      <th>Rating</th>\n",
              "      <th>Bean\\nType</th>\n",
              "      <th>Broad Bean\\nOrigin</th>\n",
              "    </tr>\n",
              "  </thead>\n",
              "  <tbody>\n",
              "    <tr>\n",
              "      <th>0</th>\n",
              "      <td>A. Morin</td>\n",
              "      <td>Agua Grande</td>\n",
              "      <td>1876</td>\n",
              "      <td>2016</td>\n",
              "      <td>63%</td>\n",
              "      <td>France</td>\n",
              "      <td>3.75</td>\n",
              "      <td></td>\n",
              "      <td>Sao Tome</td>\n",
              "    </tr>\n",
              "    <tr>\n",
              "      <th>1</th>\n",
              "      <td>A. Morin</td>\n",
              "      <td>Kpime</td>\n",
              "      <td>1676</td>\n",
              "      <td>2015</td>\n",
              "      <td>70%</td>\n",
              "      <td>France</td>\n",
              "      <td>2.75</td>\n",
              "      <td></td>\n",
              "      <td>Togo</td>\n",
              "    </tr>\n",
              "    <tr>\n",
              "      <th>2</th>\n",
              "      <td>A. Morin</td>\n",
              "      <td>Atsane</td>\n",
              "      <td>1676</td>\n",
              "      <td>2015</td>\n",
              "      <td>70%</td>\n",
              "      <td>France</td>\n",
              "      <td>3.00</td>\n",
              "      <td></td>\n",
              "      <td>Togo</td>\n",
              "    </tr>\n",
              "    <tr>\n",
              "      <th>3</th>\n",
              "      <td>A. Morin</td>\n",
              "      <td>Akata</td>\n",
              "      <td>1680</td>\n",
              "      <td>2015</td>\n",
              "      <td>70%</td>\n",
              "      <td>France</td>\n",
              "      <td>3.50</td>\n",
              "      <td></td>\n",
              "      <td>Togo</td>\n",
              "    </tr>\n",
              "    <tr>\n",
              "      <th>4</th>\n",
              "      <td>A. Morin</td>\n",
              "      <td>Quilla</td>\n",
              "      <td>1704</td>\n",
              "      <td>2015</td>\n",
              "      <td>70%</td>\n",
              "      <td>France</td>\n",
              "      <td>3.50</td>\n",
              "      <td></td>\n",
              "      <td>Peru</td>\n",
              "    </tr>\n",
              "  </tbody>\n",
              "</table>\n",
              "</div>"
            ],
            "text/plain": [
              "  Company \\n(Maker-if known)  ... Broad Bean\\nOrigin\n",
              "0                   A. Morin  ...           Sao Tome\n",
              "1                   A. Morin  ...               Togo\n",
              "2                   A. Morin  ...               Togo\n",
              "3                   A. Morin  ...               Togo\n",
              "4                   A. Morin  ...               Peru\n",
              "\n",
              "[5 rows x 9 columns]"
            ]
          },
          "metadata": {},
          "execution_count": 24
        }
      ]
    },
    {
      "cell_type": "code",
      "metadata": {
        "colab": {
          "base_uri": "https://localhost:8080/",
          "height": 35
        },
        "id": "rSfh6PJUBWZn",
        "outputId": "15ea659c-d9c0-4d28-a8aa-953331d4fdf3"
      },
      "source": [
        "df.columns[0]"
      ],
      "execution_count": 81,
      "outputs": [
        {
          "output_type": "execute_result",
          "data": {
            "application/vnd.google.colaboratory.intrinsic+json": {
              "type": "string"
            },
            "text/plain": [
              "'Company\\xa0\\n(Maker-if known)'"
            ]
          },
          "metadata": {},
          "execution_count": 81
        }
      ]
    },
    {
      "cell_type": "code",
      "metadata": {
        "colab": {
          "base_uri": "https://localhost:8080/"
        },
        "id": "phbBAaFcGiaZ",
        "outputId": "854b211b-50af-48c2-f5d2-5d8e4517116c"
      },
      "source": [
        "df['Company\\xa0\\n(Maker-if known)']"
      ],
      "execution_count": 87,
      "outputs": [
        {
          "output_type": "execute_result",
          "data": {
            "text/plain": [
              "0       A. Morin\n",
              "1       A. Morin\n",
              "2       A. Morin\n",
              "3       A. Morin\n",
              "4       A. Morin\n",
              "          ...   \n",
              "1790      Zotter\n",
              "1791      Zotter\n",
              "1792      Zotter\n",
              "1793      Zotter\n",
              "1794      Zotter\n",
              "Name: Company \\n(Maker-if known), Length: 1795, dtype: object"
            ]
          },
          "metadata": {},
          "execution_count": 87
        }
      ]
    },
    {
      "cell_type": "markdown",
      "metadata": {
        "id": "wbg9gkVtYCyr"
      },
      "source": [
        "**Question 1:** Write a function that returns the number of bars manufactured where the bars' BroadBean Origin is a given country. Use the function to calculate the number of bars where BroadBean Origin is 'Fiji' (15pt)"
      ]
    },
    {
      "cell_type": "code",
      "metadata": {
        "id": "D5FWfEiaYCys",
        "colab": {
          "base_uri": "https://localhost:8080/"
        },
        "outputId": "6150a201-9007-4b2e-9abd-1702252e8ce2"
      },
      "source": [
        "def Count_Bars_From(place):\n",
        "  c = conn.cursor()\n",
        "  res=c.execute(f'''SELECT SUM(REF) as count FROM cocao WHERE \"Broad Bean\\nOrigin\" = {place};''').fetchone()\n",
        "  c.close()\n",
        "  return res\n",
        "\n",
        "Count_Bars_From('\"Fiji\"')"
      ],
      "execution_count": 31,
      "outputs": [
        {
          "output_type": "execute_result",
          "data": {
            "text/plain": [
              "(8898,)"
            ]
          },
          "metadata": {},
          "execution_count": 31
        }
      ]
    },
    {
      "cell_type": "markdown",
      "metadata": {
        "id": "9GCvKxWtYCyu"
      },
      "source": [
        "**Question 2:** Write a function that returns the maximal and average cocoa percentage in a bar manufactured by a company in a specific country. Use the function to calculate the minimal and average cocoa percentage in bars manufactured by a Swiss company (15pt)."
      ]
    },
    {
      "cell_type": "code",
      "metadata": {
        "id": "KZJXxtwWYCyv",
        "colab": {
          "base_uri": "https://localhost:8080/"
        },
        "outputId": "fc79f891-0e70-4a04-e035-e359899b9392"
      },
      "source": [
        "def Max_And_Average(country):\n",
        "  c = conn.cursor()\n",
        "  m=c.execute(f'''SELECT MAX(CAST(replace(\"Cocoa\\nPercent\", '%', '') as int)) as per FROM cocao WHERE \"Company\\nLocation\" = {country};''').fetchone()[0]\n",
        "  a=c.execute(f'''SELECT AVG(CAST(replace(\"Cocoa\\nPercent\", '%', '') as int)) as per FROM cocao WHERE \"Company\\nLocation\" = {country};''').fetchone()[0]\n",
        "  res={\"max\":m, \"average\":a}\n",
        "  c.close()\n",
        "  return res\n",
        "\n",
        "Max_And_Average('\"Switzerland\"')"
      ],
      "execution_count": 46,
      "outputs": [
        {
          "output_type": "execute_result",
          "data": {
            "text/plain": [
              "{'average': 71.21052631578948, 'max': 88}"
            ]
          },
          "metadata": {},
          "execution_count": 46
        }
      ]
    },
    {
      "cell_type": "markdown",
      "metadata": {
        "id": "GlYqUA1xYCyx"
      },
      "source": [
        "**Question 3:** Calculate the second most common bean type(s) and the most rare bean type(s) (15\n",
        "pt)"
      ]
    },
    {
      "cell_type": "code",
      "metadata": {
        "id": "kk0qIAiwYCyx",
        "colab": {
          "base_uri": "https://localhost:8080/"
        },
        "outputId": "75cfc785-5776-4f1b-afa1-5c64bcbdeffd"
      },
      "source": [
        "def Common_And_Rare():\n",
        "  c = conn.cursor()\n",
        "  second_most_common=c.execute(f'''SELECT \"Bean\\nType\", SUM(REF) as totcount FROM cocao GROUP BY  \"Bean\\nType\"  ORDER BY totcount DESC;''').fetchall()[1]\n",
        "  most_rare=c.execute(f'''SELECT \"Bean\\nType\", SUM(REF) as totcount FROM cocao GROUP BY  \"Bean\\nType\"  ORDER BY totcount;''').fetchone()\n",
        "\n",
        "  res={\"second_most_common\":second_most_common, \"most_rare\":most_rare}\n",
        "  c.close()\n",
        "  return res\n",
        "\n",
        "Common_And_Rare()"
      ],
      "execution_count": 54,
      "outputs": [
        {
          "output_type": "execute_result",
          "data": {
            "text/plain": [
              "{'most_rare': ('Criollo (Wild)', 56),\n",
              " 'second_most_common': ('Trinitario', 429646)}"
            ]
          },
          "metadata": {},
          "execution_count": 54
        }
      ]
    },
    {
      "cell_type": "markdown",
      "metadata": {
        "id": "aOg-NK_lYCyz"
      },
      "source": [
        "**Question 4:** Calculate the number of reviews and the average rating in each year. Calculate the number of reviews and the average rating of each company in each year (15pt)"
      ]
    },
    {
      "cell_type": "code",
      "metadata": {
        "id": "e8qwHAldYCy0",
        "colab": {
          "base_uri": "https://localhost:8080/"
        },
        "outputId": "9ace3232-79a2-41b9-dbe7-9b6c6fb51bc9"
      },
      "source": [
        "def Average_Reviews():\n",
        "  c = conn.cursor()\n",
        "  number_reviews=c.execute(f'''SELECT \"Review\\nDate\", SUM(REF) as totcount FROM cocao GROUP BY  \"Review\\nDate\"  ORDER BY \"Review\\nDate\";''').fetchall()\n",
        "  average_rating=c.execute(f'''SELECT \"Review\\nDate\", AVG(Rating) as totcount FROM cocao GROUP BY  \"Review\\nDate\"  ORDER BY \"Review\\nDate\";''').fetchall()\n",
        "\n",
        "  res={\"number_reviews\":number_reviews, \"average_rating\":average_rating}\n",
        "\n",
        "  c.close()\n",
        "  return res\n",
        "\n",
        "Average_Reviews()"
      ],
      "execution_count": 63,
      "outputs": [
        {
          "output_type": "execute_result",
          "data": {
            "text/plain": [
              "{'average_rating': [(2006, 3.125),\n",
              "  (2007, 3.1623376623376624),\n",
              "  (2008, 2.9946236559139785),\n",
              "  (2009, 3.073170731707317),\n",
              "  (2010, 3.1486486486486487),\n",
              "  (2011, 3.256060606060606),\n",
              "  (2012, 3.178205128205128),\n",
              "  (2013, 3.1970108695652173),\n",
              "  (2014, 3.1892712550607287),\n",
              "  (2015, 3.2464912280701754),\n",
              "  (2016, 3.2260273972602738),\n",
              "  (2017, 3.3125)],\n",
              " 'number_reviews': [(2006, 3915),\n",
              "  (2007, 11639),\n",
              "  (2008, 23816),\n",
              "  (2009, 47919),\n",
              "  (2010, 59974),\n",
              "  (2011, 116125),\n",
              "  (2012, 175635),\n",
              "  (2013, 202612),\n",
              "  (2014, 325834),\n",
              "  (2015, 446932),\n",
              "  (2016, 398464),\n",
              "  (2017, 46584)]}"
            ]
          },
          "metadata": {},
          "execution_count": 63
        }
      ]
    },
    {
      "cell_type": "code",
      "metadata": {
        "colab": {
          "base_uri": "https://localhost:8080/"
        },
        "id": "RjWgHVXYFlYS",
        "outputId": "2cdd5e79-2ff2-47b0-cd56-c1c863952694"
      },
      "source": [
        "def Average_Reviews_Per_Company(show_amount=10):\n",
        "  c = conn.cursor()\n",
        "  number_reviews=c.execute(f'''SELECT \"Review\\nDate\",\"Company\\xa0\\n(Maker-if known)\", SUM(REF) as totcount FROM cocao GROUP BY  \"Review\\nDate\", \"Company\\xa0\\n(Maker-if known)\"  ORDER BY \"Review\\nDate\";''').fetchall()[:show_amount]\n",
        "  average_rating=c.execute(f'''SELECT \"Review\\nDate\", \"Company\\xa0\\n(Maker-if known)\", AVG(Rating) as totcount FROM cocao GROUP BY  \"Review\\nDate\", \"Company\\xa0\\n(Maker-if known)\"  ORDER BY \"Review\\nDate\";''').fetchall()[:show_amount]\n",
        "\n",
        "  res={\"number_reviews\":number_reviews, \"average_rating\":average_rating}\n",
        "\n",
        "  c.close()\n",
        "  return res\n",
        "\n",
        "Average_Reviews_Per_Company()"
      ],
      "execution_count": 90,
      "outputs": [
        {
          "output_type": "execute_result",
          "data": {
            "text/plain": [
              "{'average_rating': [(2006, 'Amedei', 4.5),\n",
              "  (2006, 'Bonnat', 3.4642857142857144),\n",
              "  (2006, \"Cote d' Or (Kraft)\", 1.0),\n",
              "  (2006, 'Dolfin (Belcolade)', 1.5),\n",
              "  (2006, 'Domori', 3.25),\n",
              "  (2006, 'El Rey', 2.75),\n",
              "  (2006, 'Felchlin', 3.0833333333333335),\n",
              "  (2006, \"Green & Black's (ICAM)\", 2.5),\n",
              "  (2006, 'Guittard', 3.1666666666666665),\n",
              "  (2006, 'Jacque Torres', 2.0)],\n",
              " 'number_reviews': [(2006, 'Amedei', 115),\n",
              "  (2006, 'Bonnat', 422),\n",
              "  (2006, \"Cote d' Or (Kraft)\", 48),\n",
              "  (2006, 'Dolfin (Belcolade)', 63),\n",
              "  (2006, 'Domori', 261),\n",
              "  (2006, 'El Rey', 32),\n",
              "  (2006, 'Felchlin', 410),\n",
              "  (2006, \"Green & Black's (ICAM)\", 15),\n",
              "  (2006, 'Guittard', 474),\n",
              "  (2006, 'Jacque Torres', 5)]}"
            ]
          },
          "metadata": {},
          "execution_count": 90
        }
      ]
    },
    {
      "cell_type": "markdown",
      "metadata": {
        "id": "eKx7_9vyYCy1"
      },
      "source": [
        "# 3. Kickstarter Projects Dataset (25pt)"
      ]
    },
    {
      "cell_type": "markdown",
      "metadata": {
        "id": "5HXua9B5YCy2"
      },
      "source": [
        "Using the [Kickstarter Projects Dataset](https://www.kaggle.com/kemical/kickstarter-projects#ks-projects-201801.csv), answer the following questions:"
      ]
    },
    {
      "cell_type": "markdown",
      "metadata": {
        "id": "NGgJ1dyeZiFH"
      },
      "source": [
        "**Task 1 (for everyone):** Load the dataset to SQLite DB using [PonyORM](https://ponyorm.org) (10pt)"
      ]
    },
    {
      "cell_type": "code",
      "metadata": {
        "id": "TLhhxMDDb2nN",
        "colab": {
          "base_uri": "https://localhost:8080/"
        },
        "outputId": "df2f7fe2-050c-4a5f-f339-76d70c6e7cee"
      },
      "source": [
        "!mkdir ./datasets/kickstarter\n",
        "!kaggle datasets download -d kemical/kickstarter-projects -f ks-projects-201801.csv -p ./datasets/kickstarter/\n",
        "!unzip ./datasets/kickstarter/*.zip  -d ./datasets/kickstarter/"
      ],
      "execution_count": 4,
      "outputs": [
        {
          "output_type": "stream",
          "name": "stdout",
          "text": [
            "Downloading ks-projects-201801.csv.zip to ./datasets/kickstarter\n",
            " 44% 9.00M/20.4M [00:00<00:00, 41.3MB/s]\n",
            "100% 20.4M/20.4M [00:00<00:00, 67.8MB/s]\n",
            "Archive:  ./datasets/kickstarter/ks-projects-201801.csv.zip\n",
            "  inflating: ./datasets/kickstarter/ks-projects-201801.csv  \n"
          ]
        }
      ]
    },
    {
      "cell_type": "code",
      "metadata": {
        "colab": {
          "base_uri": "https://localhost:8080/"
        },
        "id": "NQQoK02IRALB",
        "outputId": "dbdb927f-d259-4f08-c891-3e52a799ae64"
      },
      "source": [
        "!pip install pony"
      ],
      "execution_count": 5,
      "outputs": [
        {
          "output_type": "stream",
          "name": "stdout",
          "text": [
            "Collecting pony\n",
            "  Downloading pony-0.7.14.tar.gz (290 kB)\n",
            "\u001b[?25l\r\u001b[K     |█▏                              | 10 kB 23.0 MB/s eta 0:00:01\r\u001b[K     |██▎                             | 20 kB 27.9 MB/s eta 0:00:01\r\u001b[K     |███▍                            | 30 kB 14.9 MB/s eta 0:00:01\r\u001b[K     |████▌                           | 40 kB 11.3 MB/s eta 0:00:01\r\u001b[K     |█████▋                          | 51 kB 5.6 MB/s eta 0:00:01\r\u001b[K     |██████▊                         | 61 kB 5.7 MB/s eta 0:00:01\r\u001b[K     |████████                        | 71 kB 5.4 MB/s eta 0:00:01\r\u001b[K     |█████████                       | 81 kB 6.0 MB/s eta 0:00:01\r\u001b[K     |██████████▏                     | 92 kB 5.9 MB/s eta 0:00:01\r\u001b[K     |███████████▎                    | 102 kB 5.3 MB/s eta 0:00:01\r\u001b[K     |████████████▍                   | 112 kB 5.3 MB/s eta 0:00:01\r\u001b[K     |█████████████▌                  | 122 kB 5.3 MB/s eta 0:00:01\r\u001b[K     |██████████████▋                 | 133 kB 5.3 MB/s eta 0:00:01\r\u001b[K     |███████████████▉                | 143 kB 5.3 MB/s eta 0:00:01\r\u001b[K     |█████████████████               | 153 kB 5.3 MB/s eta 0:00:01\r\u001b[K     |██████████████████              | 163 kB 5.3 MB/s eta 0:00:01\r\u001b[K     |███████████████████▏            | 174 kB 5.3 MB/s eta 0:00:01\r\u001b[K     |████████████████████▎           | 184 kB 5.3 MB/s eta 0:00:01\r\u001b[K     |█████████████████████▍          | 194 kB 5.3 MB/s eta 0:00:01\r\u001b[K     |██████████████████████▌         | 204 kB 5.3 MB/s eta 0:00:01\r\u001b[K     |███████████████████████▊        | 215 kB 5.3 MB/s eta 0:00:01\r\u001b[K     |████████████████████████▉       | 225 kB 5.3 MB/s eta 0:00:01\r\u001b[K     |██████████████████████████      | 235 kB 5.3 MB/s eta 0:00:01\r\u001b[K     |███████████████████████████     | 245 kB 5.3 MB/s eta 0:00:01\r\u001b[K     |████████████████████████████▏   | 256 kB 5.3 MB/s eta 0:00:01\r\u001b[K     |█████████████████████████████▎  | 266 kB 5.3 MB/s eta 0:00:01\r\u001b[K     |██████████████████████████████▌ | 276 kB 5.3 MB/s eta 0:00:01\r\u001b[K     |███████████████████████████████▋| 286 kB 5.3 MB/s eta 0:00:01\r\u001b[K     |████████████████████████████████| 290 kB 5.3 MB/s \n",
            "\u001b[?25hBuilding wheels for collected packages: pony\n",
            "  Building wheel for pony (setup.py) ... \u001b[?25l\u001b[?25hdone\n",
            "  Created wheel for pony: filename=pony-0.7.14-py3-none-any.whl size=351293 sha256=57d1b7652b98a078b8d537ebc7d0d8a9c20955d2b1d62a1af5b01f39eccdd4d8\n",
            "  Stored in directory: /root/.cache/pip/wheels/de/7a/8b/82a3b5a0135fc6bad188f62e1bf6c4843142bc22c144879014\n",
            "Successfully built pony\n",
            "Installing collected packages: pony\n",
            "Successfully installed pony-0.7.14\n"
          ]
        }
      ]
    },
    {
      "cell_type": "code",
      "metadata": {
        "id": "ZBwi-uSIRHqi"
      },
      "source": [
        "from pony.orm import *\n",
        "import os\n",
        "# Creating a new database\n",
        "db = Database()\n",
        "db.bind(provider='sqlite', filename=f'{os.getcwd()}/datasets/kickstarter/kickstarter.pony.db', create_db=True) # notice we can easily use other type of databases instead of SQLite\n"
      ],
      "execution_count": 6,
      "outputs": []
    },
    {
      "cell_type": "code",
      "metadata": {
        "id": "cifyui-6P32b"
      },
      "source": [
        ""
      ],
      "execution_count": null,
      "outputs": []
    },
    {
      "cell_type": "markdown",
      "metadata": {
        "id": "W1K5VTLoYCy3"
      },
      "source": [
        "### <span style=\"color:red\"> Please answer only **one** of the following questions according to your ID number (use the formula **<YOUR_ID> mod 3 +1**) </span>"
      ]
    },
    {
      "cell_type": "code",
      "metadata": {
        "id": "vwlOZtVHYCy3",
        "colab": {
          "base_uri": "https://localhost:8080/"
        },
        "outputId": "3efff231-0468-4644-db65-1a1b72717633"
      },
      "source": [
        "# which question to answer - put your ID number and run the code \n",
        "your_id  = \"203837695\"\n",
        "q = int(your_id) % 3 + 1\n",
        "print(\"You need to answer question number %s\" % q)"
      ],
      "execution_count": 7,
      "outputs": [
        {
          "output_type": "stream",
          "name": "stdout",
          "text": [
            "You need to answer question number 2\n"
          ]
        }
      ]
    },
    {
      "cell_type": "markdown",
      "metadata": {
        "id": "gkVN8OnxYCy5"
      },
      "source": [
        "**Question 1:** On average which project category received the highest number of backers? (15 pt)"
      ]
    },
    {
      "cell_type": "code",
      "metadata": {
        "id": "vkhb156oYCy6"
      },
      "source": [
        ""
      ],
      "execution_count": null,
      "outputs": []
    },
    {
      "cell_type": "markdown",
      "metadata": {
        "id": "LTk5XnNGYCy7"
      },
      "source": [
        "**Question 2:** On average which project category received the highest pledged USD? (15 pt)"
      ]
    },
    {
      "cell_type": "code",
      "metadata": {
        "id": "DfiXdIneYCy8"
      },
      "source": [
        " class Category(db.Entity):\n",
        "   name=Required(str)\n",
        "   main_category=Required(str)\n",
        "   projects = Set('Project')\n",
        "\n",
        " class Project(db.Entity):\n",
        "    name = Optional(str) # cannot be None\n",
        "    category = Required(Category)\n",
        "    usd_pledged_real = Required(float)\n"
      ],
      "execution_count": 8,
      "outputs": []
    },
    {
      "cell_type": "code",
      "metadata": {
        "colab": {
          "base_uri": "https://localhost:8080/"
        },
        "id": "w3o6EA6gSrPM",
        "outputId": "6dfe28dd-1ce1-42c0-9be8-391d1f878da2"
      },
      "source": [
        "set_sql_debug(True) # helps to see what SQL commands are running\n",
        "db.generate_mapping(create_tables=True) # create tables\n"
      ],
      "execution_count": 9,
      "outputs": [
        {
          "output_type": "stream",
          "name": "stdout",
          "text": [
            "GET CONNECTION FROM THE LOCAL POOL\n",
            "PRAGMA foreign_keys = false\n",
            "BEGIN IMMEDIATE TRANSACTION\n",
            "CREATE TABLE \"Category\" (\n",
            "  \"id\" INTEGER PRIMARY KEY AUTOINCREMENT,\n",
            "  \"name\" TEXT NOT NULL,\n",
            "  \"main_category\" TEXT NOT NULL\n",
            ")\n",
            "\n",
            "CREATE TABLE \"Project\" (\n",
            "  \"id\" INTEGER PRIMARY KEY AUTOINCREMENT,\n",
            "  \"name\" TEXT NOT NULL,\n",
            "  \"category\" INTEGER NOT NULL REFERENCES \"Category\" (\"id\") ON DELETE CASCADE,\n",
            "  \"usd_pledged_real\" REAL NOT NULL\n",
            ")\n",
            "\n",
            "CREATE INDEX \"idx_project__category\" ON \"Project\" (\"category\")\n",
            "\n",
            "SELECT \"Category\".\"id\", \"Category\".\"name\", \"Category\".\"main_category\"\n",
            "FROM \"Category\" \"Category\"\n",
            "WHERE 0 = 1\n",
            "\n",
            "SELECT \"Project\".\"id\", \"Project\".\"name\", \"Project\".\"category\", \"Project\".\"usd_pledged_real\"\n",
            "FROM \"Project\" \"Project\"\n",
            "WHERE 0 = 1\n",
            "\n",
            "COMMIT\n",
            "PRAGMA foreign_keys = true\n",
            "CLOSE CONNECTION\n"
          ]
        }
      ]
    },
    {
      "cell_type": "code",
      "metadata": {
        "id": "KDQ_WTpyVWGM"
      },
      "source": [
        "df=pd.read_csv(\"/content/datasets/kickstarter/ks-projects-201801.csv\")\n",
        "df[\"category\"]=df[\"category\"].astype(str)\n",
        "df[\"usd_pledged_real\"]=df[\"usd_pledged_real\"].astype(float)"
      ],
      "execution_count": 13,
      "outputs": []
    },
    {
      "cell_type": "code",
      "metadata": {
        "colab": {
          "base_uri": "https://localhost:8080/",
          "height": 352
        },
        "id": "-7YLwoPqVUqE",
        "outputId": "65f9853b-c7dd-4141-d9e9-8defe8351e0d"
      },
      "source": [
        "for idx, row in df.iterrows():\n",
        "    Project(name=row['name'] if type(row['name']) == str else '',\n",
        "            category=row[\"category\"],\n",
        "            usd_pledged_real=row['usd_pledged_real'])"
      ],
      "execution_count": 14,
      "outputs": [
        {
          "output_type": "error",
          "ename": "ValueError",
          "evalue": "ignored",
          "traceback": [
            "\u001b[0;31m---------------------------------------------------------------------------\u001b[0m",
            "\u001b[0;31mValueError\u001b[0m                                Traceback (most recent call last)",
            "\u001b[0;32m<ipython-input-14-30ea6eb5d923>\u001b[0m in \u001b[0;36m<module>\u001b[0;34m()\u001b[0m\n\u001b[1;32m      2\u001b[0m     Project(name=row['name'] if type(row['name']) == str else '',\n\u001b[1;32m      3\u001b[0m             \u001b[0mcategory\u001b[0m\u001b[0;34m=\u001b[0m\u001b[0mrow\u001b[0m\u001b[0;34m[\u001b[0m\u001b[0;34m\"category\"\u001b[0m\u001b[0;34m]\u001b[0m\u001b[0;34m,\u001b[0m\u001b[0;34m\u001b[0m\u001b[0;34m\u001b[0m\u001b[0m\n\u001b[0;32m----> 4\u001b[0;31m             usd_pledged_real=row['usd_pledged_real'])\n\u001b[0m",
            "\u001b[0;32m/usr/local/lib/python3.7/dist-packages/pony/orm/core.py\u001b[0m in \u001b[0;36m__init__\u001b[0;34m(obj, *args, **kwargs)\u001b[0m\n",
            "\u001b[0;32m/usr/local/lib/python3.7/dist-packages/pony/utils/utils.py\u001b[0m in \u001b[0;36mcut_traceback\u001b[0;34m(func, *args, **kwargs)\u001b[0m\n\u001b[1;32m     75\u001b[0m             \u001b[0mmodule_name\u001b[0m \u001b[0;34m=\u001b[0m \u001b[0mtb\u001b[0m\u001b[0;34m.\u001b[0m\u001b[0mtb_frame\u001b[0m\u001b[0;34m.\u001b[0m\u001b[0mf_globals\u001b[0m\u001b[0;34m.\u001b[0m\u001b[0mget\u001b[0m\u001b[0;34m(\u001b[0m\u001b[0;34m'__name__'\u001b[0m\u001b[0;34m)\u001b[0m \u001b[0;32mor\u001b[0m \u001b[0;34m''\u001b[0m\u001b[0;34m\u001b[0m\u001b[0;34m\u001b[0m\u001b[0m\n\u001b[1;32m     76\u001b[0m             \u001b[0;32mif\u001b[0m \u001b[0mmodule_name\u001b[0m\u001b[0;34m.\u001b[0m\u001b[0mstartswith\u001b[0m\u001b[0;34m(\u001b[0m\u001b[0;34m'pony.utils'\u001b[0m\u001b[0;34m)\u001b[0m \u001b[0;32mand\u001b[0m \u001b[0mtb\u001b[0m\u001b[0;34m.\u001b[0m\u001b[0mtb_frame\u001b[0m\u001b[0;34m.\u001b[0m\u001b[0mf_code\u001b[0m\u001b[0;34m.\u001b[0m\u001b[0mco_name\u001b[0m \u001b[0;34m==\u001b[0m \u001b[0;34m'throw'\u001b[0m\u001b[0;34m:\u001b[0m\u001b[0;34m\u001b[0m\u001b[0;34m\u001b[0m\u001b[0m\n\u001b[0;32m---> 77\u001b[0;31m                 \u001b[0mreraise\u001b[0m\u001b[0;34m(\u001b[0m\u001b[0mexc_type\u001b[0m\u001b[0;34m,\u001b[0m \u001b[0mexc\u001b[0m\u001b[0;34m,\u001b[0m \u001b[0mlast_pony_tb\u001b[0m\u001b[0;34m)\u001b[0m\u001b[0;34m\u001b[0m\u001b[0;34m\u001b[0m\u001b[0m\n\u001b[0m\u001b[1;32m     78\u001b[0m             \u001b[0mreraise\u001b[0m\u001b[0;34m(\u001b[0m\u001b[0mexc_type\u001b[0m\u001b[0;34m,\u001b[0m \u001b[0mexc\u001b[0m\u001b[0;34m,\u001b[0m \u001b[0mfull_tb\u001b[0m\u001b[0;34m)\u001b[0m\u001b[0;34m\u001b[0m\u001b[0;34m\u001b[0m\u001b[0m\n\u001b[1;32m     79\u001b[0m         \u001b[0;32mfinally\u001b[0m\u001b[0;34m:\u001b[0m\u001b[0;34m\u001b[0m\u001b[0;34m\u001b[0m\u001b[0m\n",
            "\u001b[0;32m/usr/local/lib/python3.7/dist-packages/pony/utils/utils.py\u001b[0m in \u001b[0;36mreraise\u001b[0;34m(***failed resolving arguments***)\u001b[0m\n\u001b[1;32m     93\u001b[0m \u001b[0;32melse\u001b[0m\u001b[0;34m:\u001b[0m\u001b[0;34m\u001b[0m\u001b[0;34m\u001b[0m\u001b[0m\n\u001b[1;32m     94\u001b[0m     \u001b[0;32mdef\u001b[0m \u001b[0mreraise\u001b[0m\u001b[0;34m(\u001b[0m\u001b[0mexc_type\u001b[0m\u001b[0;34m,\u001b[0m \u001b[0mexc\u001b[0m\u001b[0;34m,\u001b[0m \u001b[0mtb\u001b[0m\u001b[0;34m)\u001b[0m\u001b[0;34m:\u001b[0m\u001b[0;34m\u001b[0m\u001b[0;34m\u001b[0m\u001b[0m\n\u001b[0;32m---> 95\u001b[0;31m         \u001b[0;32mtry\u001b[0m\u001b[0;34m:\u001b[0m \u001b[0;32mraise\u001b[0m \u001b[0mexc\u001b[0m\u001b[0;34m.\u001b[0m\u001b[0mwith_traceback\u001b[0m\u001b[0;34m(\u001b[0m\u001b[0mtb\u001b[0m\u001b[0;34m)\u001b[0m\u001b[0;34m\u001b[0m\u001b[0;34m\u001b[0m\u001b[0m\n\u001b[0m\u001b[1;32m     96\u001b[0m         \u001b[0;32mfinally\u001b[0m\u001b[0;34m:\u001b[0m \u001b[0;32mdel\u001b[0m \u001b[0mexc\u001b[0m\u001b[0;34m,\u001b[0m \u001b[0mtb\u001b[0m\u001b[0;34m\u001b[0m\u001b[0;34m\u001b[0m\u001b[0m\n\u001b[1;32m     97\u001b[0m \u001b[0;34m\u001b[0m\u001b[0m\n",
            "\u001b[0;32m/usr/local/lib/python3.7/dist-packages/pony/orm/dbapiprovider.py\u001b[0m in \u001b[0;36mvalidate\u001b[0;34m(converter, val, obj)\u001b[0m\n\u001b[1;32m    537\u001b[0m             \u001b[0;32mtry\u001b[0m\u001b[0;34m:\u001b[0m \u001b[0mval\u001b[0m \u001b[0;34m=\u001b[0m \u001b[0mint\u001b[0m\u001b[0;34m(\u001b[0m\u001b[0mval\u001b[0m\u001b[0;34m)\u001b[0m\u001b[0;34m\u001b[0m\u001b[0;34m\u001b[0m\u001b[0m\n\u001b[1;32m    538\u001b[0m             except ValueError: throw(ValueError,\n\u001b[0;32m--> 539\u001b[0;31m                 'Value type for attribute %s must be int. Got string %r' % (converter.attr, val))\n\u001b[0m\u001b[1;32m    540\u001b[0m         \u001b[0;32melse\u001b[0m\u001b[0;34m:\u001b[0m \u001b[0mthrow\u001b[0m\u001b[0;34m(\u001b[0m\u001b[0mTypeError\u001b[0m\u001b[0;34m,\u001b[0m \u001b[0;34m'Value type for attribute %s must be int. Got: %r'\u001b[0m \u001b[0;34m%\u001b[0m \u001b[0;34m(\u001b[0m\u001b[0mconverter\u001b[0m\u001b[0;34m.\u001b[0m\u001b[0mattr\u001b[0m\u001b[0;34m,\u001b[0m \u001b[0mtype\u001b[0m\u001b[0;34m(\u001b[0m\u001b[0mval\u001b[0m\u001b[0;34m)\u001b[0m\u001b[0;34m)\u001b[0m\u001b[0;34m)\u001b[0m\u001b[0;34m\u001b[0m\u001b[0;34m\u001b[0m\u001b[0m\n\u001b[1;32m    541\u001b[0m \u001b[0;34m\u001b[0m\u001b[0m\n",
            "\u001b[0;32m/usr/local/lib/python3.7/dist-packages/pony/utils/utils.py\u001b[0m in \u001b[0;36mthrow\u001b[0;34m(exc_type, *args, **kwargs)\u001b[0m\n\u001b[1;32m    106\u001b[0m             \u001b[0;32mraise\u001b[0m \u001b[0mexc\u001b[0m\u001b[0;34m\u001b[0m\u001b[0;34m\u001b[0m\u001b[0m\n\u001b[1;32m    107\u001b[0m         \u001b[0;32melse\u001b[0m\u001b[0;34m:\u001b[0m\u001b[0;34m\u001b[0m\u001b[0;34m\u001b[0m\u001b[0m\n\u001b[0;32m--> 108\u001b[0;31m             \u001b[0;32mraise\u001b[0m \u001b[0mexc\u001b[0m  \u001b[0;31m# Set \"pony.options.CUT_TRACEBACK = False\" to see full traceback\u001b[0m\u001b[0;34m\u001b[0m\u001b[0;34m\u001b[0m\u001b[0m\n\u001b[0m\u001b[1;32m    109\u001b[0m     \u001b[0;32mfinally\u001b[0m\u001b[0;34m:\u001b[0m \u001b[0;32mdel\u001b[0m \u001b[0mexc\u001b[0m\u001b[0;34m\u001b[0m\u001b[0;34m\u001b[0m\u001b[0m\n\u001b[1;32m    110\u001b[0m \u001b[0;34m\u001b[0m\u001b[0m\n",
            "\u001b[0;31mValueError\u001b[0m: Value type for attribute Category.id must be int. Got string 'Poetry'"
          ]
        }
      ]
    },
    {
      "cell_type": "code",
      "metadata": {
        "id": "MBrNnNKRTvYO"
      },
      "source": [
        "conn = sqlite3.connect(f'{os.getcwd()}/datasets/kickstarter/kickstarter.pony.db') \n"
      ],
      "execution_count": 114,
      "outputs": []
    },
    {
      "cell_type": "code",
      "metadata": {
        "colab": {
          "base_uri": "https://localhost:8080/"
        },
        "id": "0FPHVpKdT-Zk",
        "outputId": "f4b7e637-8c19-43f0-df88-6f7c150187d2"
      },
      "source": [
        "c=conn.cursor()\n",
        "res=c.execute('''SELECT \"Catagory\", MAX(usd_pledged_real) as usd FROM \"Project\" GROUP BY \"Catagory\" ORDER by usd DESC ''').fetchall()[:5]\n",
        "c.close()\n",
        "res"
      ],
      "execution_count": 115,
      "outputs": [
        {
          "output_type": "execute_result",
          "data": {
            "text/plain": [
              "[]"
            ]
          },
          "metadata": {},
          "execution_count": 115
        }
      ]
    },
    {
      "cell_type": "markdown",
      "metadata": {
        "id": "wM5KvHE1YCy9"
      },
      "source": [
        "**Question 3:** In which month occurred the highest number of projects? (15 pt)"
      ]
    },
    {
      "cell_type": "code",
      "metadata": {
        "id": "Hopvgm5sT5Kd"
      },
      "source": [
        ""
      ],
      "execution_count": null,
      "outputs": []
    },
    {
      "cell_type": "code",
      "metadata": {
        "id": "5DTIStGMYCy-"
      },
      "source": [
        ""
      ],
      "execution_count": null,
      "outputs": []
    },
    {
      "cell_type": "markdown",
      "metadata": {
        "id": "ResaA3kxYCy_"
      },
      "source": [
        "## 4. Oscars Datasets (10pt)"
      ]
    },
    {
      "cell_type": "markdown",
      "metadata": {
        "id": "WYQasQOKYCzA"
      },
      "source": [
        "Using the [Oscars Dataset](https://www.kaggle.com/theacademy/academy-awards), please answer only one of the following questions (you can chose):"
      ]
    },
    {
      "cell_type": "markdown",
      "metadata": {
        "id": "QGDmLdbKYCzA"
      },
      "source": [
        "**Question 1:** Who is the male actress with the most Oscar nominees? (10pt)"
      ]
    },
    {
      "cell_type": "code",
      "metadata": {
        "id": "qipeHl6AYCzB"
      },
      "source": [
        ""
      ],
      "execution_count": 25,
      "outputs": []
    },
    {
      "cell_type": "code",
      "metadata": {
        "id": "pY7i0T6me1Ik"
      },
      "source": [
        ""
      ],
      "execution_count": 25,
      "outputs": []
    },
    {
      "cell_type": "code",
      "metadata": {
        "id": "MN4hdDigfBC5"
      },
      "source": [
        ""
      ],
      "execution_count": 19,
      "outputs": []
    },
    {
      "cell_type": "code",
      "metadata": {
        "id": "F1uYqOqufJNU"
      },
      "source": [
        ""
      ],
      "execution_count": null,
      "outputs": []
    },
    {
      "cell_type": "markdown",
      "metadata": {
        "id": "BR33wDkbYCzD"
      },
      "source": [
        "**Question 2:** Who is the female director with the most Oscar nominees? (10pt)"
      ]
    },
    {
      "cell_type": "code",
      "metadata": {
        "id": "4v_IcNOAetdt"
      },
      "source": [
        ""
      ],
      "execution_count": null,
      "outputs": []
    },
    {
      "cell_type": "code",
      "metadata": {
        "id": "2jm9HeghYCzD"
      },
      "source": [
        ""
      ],
      "execution_count": null,
      "outputs": []
    },
    {
      "cell_type": "markdown",
      "metadata": {
        "id": "Va320K09YCzE"
      },
      "source": [
        "**Question 3:** Which top-10 movies received the highest number of Oscar nominees? (10pt)"
      ]
    },
    {
      "cell_type": "code",
      "metadata": {
        "id": "k9gVwnHVYCzF",
        "colab": {
          "base_uri": "https://localhost:8080/"
        },
        "outputId": "c6a8fbcc-22f3-4789-c591-d12573bc4920"
      },
      "source": [
        "!mkdir ./datasets/oscar\n",
        "!kaggle datasets download -d theacademy/academy-awards -f database.csv -p ./datasets/oscar/\n",
        "\n",
        "df=pd.read_csv(\"/content/datasets/oscar/database.csv\")\n",
        "conn = sqlite3.connect(f'/content/datasets/oscar/Amir_DataBase.db') \n",
        "df.to_sql('osc', conn, index=False, if_exists='replace')\n",
        "c=conn.cursor()\n",
        "res=c.execute('''SELECT COUNT(\"Film\") as count_film, \"Film\" FROM osc GROUP BY \"Film\" ORDER BY count_film DESC;''').fetchall()[:10]\n",
        "c.close()\n",
        "res"
      ],
      "execution_count": 26,
      "outputs": [
        {
          "output_type": "stream",
          "name": "stdout",
          "text": [
            "mkdir: cannot create directory ‘./datasets/oscar’: File exists\n",
            "database.csv: Skipping, found more recently modified local copy (use --force to force download)\n"
          ]
        },
        {
          "output_type": "execute_result",
          "data": {
            "text/plain": [
              "[(60, 'Metro-Goldwyn-Mayer'),\n",
              " (57, 'Walt Disney, Producer'),\n",
              " (42, 'John Williams'),\n",
              " (42, 'Warner Brothers'),\n",
              " (36, 'France'),\n",
              " (34, 'Alfred Newman'),\n",
              " (27, 'Italy'),\n",
              " (24, 'Paramount'),\n",
              " (22, 'Edith Head'),\n",
              " (22, 'Gordon Hollingshead, Producer')]"
            ]
          },
          "metadata": {},
          "execution_count": 26
        }
      ]
    },
    {
      "cell_type": "markdown",
      "metadata": {
        "id": "AF15wiyqYCzH"
      },
      "source": [
        "**Question 4:** Write a function that receives an actor's name and returns the actor’s number of Oscar nominees. Use the function to calculate the number of times Leonardo DiCaprio was a nominee (10pt)"
      ]
    },
    {
      "cell_type": "code",
      "metadata": {
        "id": "_ZdwQJCWYCzH"
      },
      "source": [
        ""
      ],
      "execution_count": null,
      "outputs": []
    },
    {
      "cell_type": "markdown",
      "metadata": {
        "id": "eW1N-PBiYCzJ"
      },
      "source": [
        "## 5. Select a Dataset (15pt)"
      ]
    },
    {
      "cell_type": "markdown",
      "metadata": {
        "id": "Me79ek_mYCzJ"
      },
      "source": [
        "**Open Question:** Select an interesting dataset and use SQL to discover something interesting (15pt). **Bonus:** Use BigQuery (2pt)"
      ]
    },
    {
      "cell_type": "code",
      "metadata": {
        "id": "xXIIUhgccGWw",
        "colab": {
          "base_uri": "https://localhost:8080/"
        },
        "outputId": "a6f94521-9587-4a17-e82f-dca43fbf4066"
      },
      "source": [
        "!mkdir ./datasets/spotify\n",
        "!kaggle datasets download -d pavan9065/top-100-most-streamed-songs-on-spotify -f \"Top 100 most Streamed - Sheet1.csv\" -p ./datasets/spotify/\n",
        "df=pd.read_csv(\"/content/datasets/spotify/Top%20100%20most%20Streamed%20-%20Sheet1.csv\")\n",
        "conn = sqlite3.connect(f'/content/datasets/spotify/Amir_DataBase.db') \n",
        "df.to_sql('spot', conn, index=False, if_exists='replace')"
      ],
      "execution_count": 29,
      "outputs": [
        {
          "output_type": "stream",
          "name": "stdout",
          "text": [
            "mkdir: cannot create directory ‘./datasets/spotify’: File exists\n",
            "Top%20100%20most%20Streamed%20-%20Sheet1.csv: Skipping, found more recently modified local copy (use --force to force download)\n"
          ]
        },
        {
          "output_type": "stream",
          "name": "stderr",
          "text": [
            "/usr/local/lib/python3.7/dist-packages/pandas/core/generic.py:2615: UserWarning: The spaces in these column names will not be changed. In pandas versions < 0.14, spaces were converted to underscores.\n",
            "  method=method,\n"
          ]
        }
      ]
    },
    {
      "cell_type": "code",
      "metadata": {
        "colab": {
          "base_uri": "https://localhost:8080/",
          "height": 110
        },
        "id": "77rH47Wlvuod",
        "outputId": "9dc41357-be8d-4f2b-ec61-dd9b89d965bf"
      },
      "source": [
        "df.iloc[:2]"
      ],
      "execution_count": 30,
      "outputs": [
        {
          "output_type": "execute_result",
          "data": {
            "text/html": [
              "<div>\n",
              "<style scoped>\n",
              "    .dataframe tbody tr th:only-of-type {\n",
              "        vertical-align: middle;\n",
              "    }\n",
              "\n",
              "    .dataframe tbody tr th {\n",
              "        vertical-align: top;\n",
              "    }\n",
              "\n",
              "    .dataframe thead th {\n",
              "        text-align: right;\n",
              "    }\n",
              "</style>\n",
              "<table border=\"1\" class=\"dataframe\">\n",
              "  <thead>\n",
              "    <tr style=\"text-align: right;\">\n",
              "      <th></th>\n",
              "      <th>title</th>\n",
              "      <th>artist</th>\n",
              "      <th>top genre</th>\n",
              "      <th>year</th>\n",
              "      <th>beats.per.minute</th>\n",
              "      <th>energy</th>\n",
              "      <th>danceability</th>\n",
              "      <th>loudness.dB</th>\n",
              "      <th>liveness</th>\n",
              "      <th>valance</th>\n",
              "      <th>length</th>\n",
              "      <th>acousticness</th>\n",
              "      <th>speechiness</th>\n",
              "      <th>popularity</th>\n",
              "    </tr>\n",
              "  </thead>\n",
              "  <tbody>\n",
              "    <tr>\n",
              "      <th>0</th>\n",
              "      <td>Blinding Lights</td>\n",
              "      <td>The Weeknd</td>\n",
              "      <td>canadian contemporary r&amp;b</td>\n",
              "      <td>2020</td>\n",
              "      <td>171</td>\n",
              "      <td>73</td>\n",
              "      <td>51</td>\n",
              "      <td>-6</td>\n",
              "      <td>9</td>\n",
              "      <td>33</td>\n",
              "      <td>200</td>\n",
              "      <td>0</td>\n",
              "      <td>6</td>\n",
              "      <td>91</td>\n",
              "    </tr>\n",
              "    <tr>\n",
              "      <th>1</th>\n",
              "      <td>Watermelon Sugar</td>\n",
              "      <td>Harry Styles</td>\n",
              "      <td>pop</td>\n",
              "      <td>2019</td>\n",
              "      <td>95</td>\n",
              "      <td>82</td>\n",
              "      <td>55</td>\n",
              "      <td>-4</td>\n",
              "      <td>34</td>\n",
              "      <td>56</td>\n",
              "      <td>174</td>\n",
              "      <td>12</td>\n",
              "      <td>5</td>\n",
              "      <td>88</td>\n",
              "    </tr>\n",
              "  </tbody>\n",
              "</table>\n",
              "</div>"
            ],
            "text/plain": [
              "              title        artist  ... speechiness  popularity\n",
              "0   Blinding Lights    The Weeknd  ...           6          91\n",
              "1  Watermelon Sugar  Harry Styles  ...           5          88\n",
              "\n",
              "[2 rows x 14 columns]"
            ]
          },
          "metadata": {},
          "execution_count": 30
        }
      ]
    },
    {
      "cell_type": "code",
      "metadata": {
        "colab": {
          "base_uri": "https://localhost:8080/"
        },
        "id": "NT6u__vOuv1s",
        "outputId": "b1e7bbd5-76da-4b1b-fa2c-c68225167eea"
      },
      "source": [
        "c=conn.cursor()\n",
        "artists=c.execute('''SELECT artist, COUNT(title),AVG(\"beats.per.minute\"),AVG(energy),AVG(danceability), AVG(\"loudness.dB\"), AVG(liveness),AVG(\"length\"),AVG(acousticness), AVG(speechiness),AVG(popularity)    FROM spot GROUP BY artist ORDER BY COUNT(title) DESC;''').fetchall()\n",
        "artists_df=pd.DataFrame.from_dict([{\"artist\":a[0], \"beats.per.minute\":a[1], \"energy\":a[2], \"danceability\":a[2], \"loudness\":a[3],\"liveness\":a[4], \"valence\":a[5], \"length\":a[6], \"acousticness\":a[7], \"speechiness\":a[8], \"popularity\":a[9]} for a in artists])\n",
        "print(\"top 10 artists in the dataset\")\n",
        "print(artists_df.sort_values(by=\"popularity\", ascending=False).iloc[:10])\n",
        "print(\"\")\n",
        "print(\"Correlation between popularity of an artists and other musical features\")\n",
        "print(artists_df.corrwith(artists_df[\"popularity\"]).sort_values())\n",
        "c.close()"
      ],
      "execution_count": 52,
      "outputs": [
        {
          "output_type": "stream",
          "name": "stdout",
          "text": [
            "top 10 artists in the dataset\n",
            "                 artist  beats.per.minute  ...  speechiness  popularity\n",
            "20  5 Seconds of Summer                 1  ...     2.000000   46.000000\n",
            "63         benny blanco                 1  ...    56.000000   32.000000\n",
            "47           Mark Mendy                 1  ...     5.000000   29.000000\n",
            "29               Eminem                 1  ...     1.000000   27.000000\n",
            "41                 Lauv                 1  ...    54.000000   25.000000\n",
            "44         Lil Uzi Vert                 1  ...     0.000000   23.000000\n",
            "37           Juice WRLD                 1  ...    35.000000   20.000000\n",
            "9         Ariana Grande                 2  ...    41.000000   20.000000\n",
            "5         Justin Bieber                 3  ...    50.333333   19.666667\n",
            "18         XXXTENTACION                 2  ...    36.500000   19.000000\n",
            "\n",
            "[10 rows x 11 columns]\n",
            "\n",
            "Correlation between popularity of an artists and other musical features\n",
            "valence            -0.154442\n",
            "acousticness       -0.120686\n",
            "speechiness        -0.047263\n",
            "beats.per.minute   -0.042109\n",
            "length             -0.003127\n",
            "liveness            0.075366\n",
            "energy              0.119085\n",
            "danceability        0.119085\n",
            "loudness            0.177178\n",
            "popularity          1.000000\n",
            "dtype: float64\n"
          ]
        }
      ]
    },
    {
      "cell_type": "code",
      "metadata": {
        "id": "rSoOFEeGwMEp"
      },
      "source": [
        ""
      ],
      "execution_count": null,
      "outputs": []
    }
  ]
}