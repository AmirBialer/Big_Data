{
  "nbformat": 4,
  "nbformat_minor": 0,
  "metadata": {
    "kernelspec": {
      "display_name": "Python 3",
      "language": "python",
      "name": "python3"
    },
    "language_info": {
      "codemirror_mode": {
        "name": "ipython",
        "version": 3
      },
      "file_extension": ".py",
      "mimetype": "text/x-python",
      "name": "python",
      "nbconvert_exporter": "python",
      "pygments_lexer": "ipython3",
      "version": "3.6.7"
    },
    "colab": {
      "name": "HW 3_Amir_Bialer.ipynb",
      "provenance": [],
      "collapsed_sections": []
    }
  },
  "cells": [
    {
      "cell_type": "markdown",
      "metadata": {
        "id": "yEpzoJKH0P2W"
      },
      "source": [
        "# Homework Assignment 3"
      ]
    },
    {
      "cell_type": "markdown",
      "metadata": {
        "id": "oH_ZGm7d0P2Z"
      },
      "source": [
        "Using the [Seattle Library Collection Inventory Dataset](https://www.kaggle.com/city-of-seattle/seattle-library-collection-inventory#library-collection-inventory.csv) and TuriCreate please, answer the following questions:"
      ]
    },
    {
      "cell_type": "code",
      "metadata": {
        "id": "kxPaZufnXne4",
        "colab": {
          "base_uri": "https://localhost:8080/"
        },
        "outputId": "81e94e16-0a25-4813-a619-b37c51e4b51d"
      },
      "source": [
        "!pip install -U turicreate"
      ],
      "execution_count": 1,
      "outputs": [
        {
          "output_type": "stream",
          "name": "stdout",
          "text": [
            "Requirement already satisfied: turicreate in /usr/local/lib/python3.7/dist-packages (6.4.1)\n",
            "Requirement already satisfied: decorator>=4.0.9 in /usr/local/lib/python3.7/dist-packages (from turicreate) (4.4.2)\n",
            "Requirement already satisfied: pillow>=5.2.0 in /usr/local/lib/python3.7/dist-packages (from turicreate) (7.1.2)\n",
            "Requirement already satisfied: prettytable==0.7.2 in /usr/local/lib/python3.7/dist-packages (from turicreate) (0.7.2)\n",
            "Requirement already satisfied: numpy in /usr/local/lib/python3.7/dist-packages (from turicreate) (1.18.5)\n",
            "Requirement already satisfied: scipy>=1.1.0 in /usr/local/lib/python3.7/dist-packages (from turicreate) (1.4.1)\n",
            "Requirement already satisfied: numba<0.51.0 in /usr/local/lib/python3.7/dist-packages (from turicreate) (0.50.1)\n",
            "Requirement already satisfied: pandas>=0.23.2 in /usr/local/lib/python3.7/dist-packages (from turicreate) (1.1.5)\n",
            "Requirement already satisfied: tensorflow<2.1.0,>=2.0.0 in /usr/local/lib/python3.7/dist-packages (from turicreate) (2.0.4)\n",
            "Requirement already satisfied: six>=1.10.0 in /usr/local/lib/python3.7/dist-packages (from turicreate) (1.15.0)\n",
            "Requirement already satisfied: requests>=2.9.1 in /usr/local/lib/python3.7/dist-packages (from turicreate) (2.23.0)\n",
            "Requirement already satisfied: resampy==0.2.1 in /usr/local/lib/python3.7/dist-packages (from turicreate) (0.2.1)\n",
            "Requirement already satisfied: coremltools==3.3 in /usr/local/lib/python3.7/dist-packages (from turicreate) (3.3)\n",
            "Requirement already satisfied: protobuf>=3.1.0 in /usr/local/lib/python3.7/dist-packages (from coremltools==3.3->turicreate) (3.17.3)\n",
            "Requirement already satisfied: llvmlite<0.34,>=0.33.0.dev0 in /usr/local/lib/python3.7/dist-packages (from numba<0.51.0->turicreate) (0.33.0)\n",
            "Requirement already satisfied: setuptools in /usr/local/lib/python3.7/dist-packages (from numba<0.51.0->turicreate) (57.4.0)\n",
            "Requirement already satisfied: python-dateutil>=2.7.3 in /usr/local/lib/python3.7/dist-packages (from pandas>=0.23.2->turicreate) (2.8.2)\n",
            "Requirement already satisfied: pytz>=2017.2 in /usr/local/lib/python3.7/dist-packages (from pandas>=0.23.2->turicreate) (2018.9)\n",
            "Requirement already satisfied: certifi>=2017.4.17 in /usr/local/lib/python3.7/dist-packages (from requests>=2.9.1->turicreate) (2021.5.30)\n",
            "Requirement already satisfied: urllib3!=1.25.0,!=1.25.1,<1.26,>=1.21.1 in /usr/local/lib/python3.7/dist-packages (from requests>=2.9.1->turicreate) (1.24.3)\n",
            "Requirement already satisfied: chardet<4,>=3.0.2 in /usr/local/lib/python3.7/dist-packages (from requests>=2.9.1->turicreate) (3.0.4)\n",
            "Requirement already satisfied: idna<3,>=2.5 in /usr/local/lib/python3.7/dist-packages (from requests>=2.9.1->turicreate) (2.10)\n",
            "Requirement already satisfied: opt-einsum>=2.3.2 in /usr/local/lib/python3.7/dist-packages (from tensorflow<2.1.0,>=2.0.0->turicreate) (3.3.0)\n",
            "Requirement already satisfied: tensorboard<2.1.0,>=2.0.0 in /usr/local/lib/python3.7/dist-packages (from tensorflow<2.1.0,>=2.0.0->turicreate) (2.0.2)\n",
            "Requirement already satisfied: google-pasta>=0.1.6 in /usr/local/lib/python3.7/dist-packages (from tensorflow<2.1.0,>=2.0.0->turicreate) (0.2.0)\n",
            "Requirement already satisfied: termcolor>=1.1.0 in /usr/local/lib/python3.7/dist-packages (from tensorflow<2.1.0,>=2.0.0->turicreate) (1.1.0)\n",
            "Requirement already satisfied: gast==0.2.2 in /usr/local/lib/python3.7/dist-packages (from tensorflow<2.1.0,>=2.0.0->turicreate) (0.2.2)\n",
            "Requirement already satisfied: keras-preprocessing>=1.0.5 in /usr/local/lib/python3.7/dist-packages (from tensorflow<2.1.0,>=2.0.0->turicreate) (1.1.2)\n",
            "Requirement already satisfied: h5py<=2.10.0 in /usr/local/lib/python3.7/dist-packages (from tensorflow<2.1.0,>=2.0.0->turicreate) (2.10.0)\n",
            "Requirement already satisfied: astor>=0.6.0 in /usr/local/lib/python3.7/dist-packages (from tensorflow<2.1.0,>=2.0.0->turicreate) (0.8.1)\n",
            "Requirement already satisfied: absl-py>=0.7.0 in /usr/local/lib/python3.7/dist-packages (from tensorflow<2.1.0,>=2.0.0->turicreate) (0.12.0)\n",
            "Requirement already satisfied: wrapt>=1.11.1 in /usr/local/lib/python3.7/dist-packages (from tensorflow<2.1.0,>=2.0.0->turicreate) (1.12.1)\n",
            "Requirement already satisfied: grpcio>=1.8.6 in /usr/local/lib/python3.7/dist-packages (from tensorflow<2.1.0,>=2.0.0->turicreate) (1.41.0)\n",
            "Requirement already satisfied: wheel>=0.26 in /usr/local/lib/python3.7/dist-packages (from tensorflow<2.1.0,>=2.0.0->turicreate) (0.37.0)\n",
            "Requirement already satisfied: tensorflow-estimator<2.1.0,>=2.0.0 in /usr/local/lib/python3.7/dist-packages (from tensorflow<2.1.0,>=2.0.0->turicreate) (2.0.1)\n",
            "Requirement already satisfied: keras-applications>=1.0.8 in /usr/local/lib/python3.7/dist-packages (from tensorflow<2.1.0,>=2.0.0->turicreate) (1.0.8)\n",
            "Requirement already satisfied: google-auth-oauthlib<0.5,>=0.4.1 in /usr/local/lib/python3.7/dist-packages (from tensorboard<2.1.0,>=2.0.0->tensorflow<2.1.0,>=2.0.0->turicreate) (0.4.6)\n",
            "Requirement already satisfied: google-auth<2,>=1.6.3 in /usr/local/lib/python3.7/dist-packages (from tensorboard<2.1.0,>=2.0.0->tensorflow<2.1.0,>=2.0.0->turicreate) (1.35.0)\n",
            "Requirement already satisfied: werkzeug>=0.11.15 in /usr/local/lib/python3.7/dist-packages (from tensorboard<2.1.0,>=2.0.0->tensorflow<2.1.0,>=2.0.0->turicreate) (1.0.1)\n",
            "Requirement already satisfied: markdown>=2.6.8 in /usr/local/lib/python3.7/dist-packages (from tensorboard<2.1.0,>=2.0.0->tensorflow<2.1.0,>=2.0.0->turicreate) (3.3.4)\n",
            "Requirement already satisfied: rsa<5,>=3.1.4 in /usr/local/lib/python3.7/dist-packages (from google-auth<2,>=1.6.3->tensorboard<2.1.0,>=2.0.0->tensorflow<2.1.0,>=2.0.0->turicreate) (4.7.2)\n",
            "Requirement already satisfied: cachetools<5.0,>=2.0.0 in /usr/local/lib/python3.7/dist-packages (from google-auth<2,>=1.6.3->tensorboard<2.1.0,>=2.0.0->tensorflow<2.1.0,>=2.0.0->turicreate) (4.2.4)\n",
            "Requirement already satisfied: pyasn1-modules>=0.2.1 in /usr/local/lib/python3.7/dist-packages (from google-auth<2,>=1.6.3->tensorboard<2.1.0,>=2.0.0->tensorflow<2.1.0,>=2.0.0->turicreate) (0.2.8)\n",
            "Requirement already satisfied: requests-oauthlib>=0.7.0 in /usr/local/lib/python3.7/dist-packages (from google-auth-oauthlib<0.5,>=0.4.1->tensorboard<2.1.0,>=2.0.0->tensorflow<2.1.0,>=2.0.0->turicreate) (1.3.0)\n",
            "Requirement already satisfied: importlib-metadata in /usr/local/lib/python3.7/dist-packages (from markdown>=2.6.8->tensorboard<2.1.0,>=2.0.0->tensorflow<2.1.0,>=2.0.0->turicreate) (4.8.1)\n",
            "Requirement already satisfied: pyasn1<0.5.0,>=0.4.6 in /usr/local/lib/python3.7/dist-packages (from pyasn1-modules>=0.2.1->google-auth<2,>=1.6.3->tensorboard<2.1.0,>=2.0.0->tensorflow<2.1.0,>=2.0.0->turicreate) (0.4.8)\n",
            "Requirement already satisfied: oauthlib>=3.0.0 in /usr/local/lib/python3.7/dist-packages (from requests-oauthlib>=0.7.0->google-auth-oauthlib<0.5,>=0.4.1->tensorboard<2.1.0,>=2.0.0->tensorflow<2.1.0,>=2.0.0->turicreate) (3.1.1)\n",
            "Requirement already satisfied: zipp>=0.5 in /usr/local/lib/python3.7/dist-packages (from importlib-metadata->markdown>=2.6.8->tensorboard<2.1.0,>=2.0.0->tensorflow<2.1.0,>=2.0.0->turicreate) (3.6.0)\n",
            "Requirement already satisfied: typing-extensions>=3.6.4 in /usr/local/lib/python3.7/dist-packages (from importlib-metadata->markdown>=2.6.8->tensorboard<2.1.0,>=2.0.0->tensorflow<2.1.0,>=2.0.0->turicreate) (3.7.4.3)\n"
          ]
        }
      ]
    },
    {
      "cell_type": "code",
      "metadata": {
        "colab": {
          "base_uri": "https://localhost:8080/"
        },
        "id": "io8g7KMlt17S",
        "outputId": "8114bcba-b869-4f25-ecc4-b65fda35c5be"
      },
      "source": [
        "from google.colab import drive\n",
        "drive.mount(\"/content/gdrive\", force_remount=True)"
      ],
      "execution_count": 2,
      "outputs": [
        {
          "output_type": "stream",
          "name": "stdout",
          "text": [
            "Mounted at /content/gdrive\n"
          ]
        }
      ]
    },
    {
      "cell_type": "code",
      "metadata": {
        "id": "A-qlJrJiYSdM",
        "colab": {
          "base_uri": "https://localhost:8080/"
        },
        "outputId": "b6a7799e-8fcf-4a86-f426-6fb462a4a923"
      },
      "source": [
        "# see more details in the course first lecture\n",
        "!mkdir /root/.kaggle/\n",
        "import json\n",
        "import os\n",
        "\n",
        "# Installing the Kaggle package\n",
        "!pip install kaggle \n",
        "\n",
        "#Important Note: complete this with your own key - after running this for the first time remmember to **remove** your API_KEY\n",
        "api_token={\"username\":\"amirbialer\", \"key\":\"f2af62d43f0aaf0ee3bea5998634a1b7\"}\n",
        "# creating kaggle.json file with the personal API-Key details \n",
        "# You can also put this file on your Google Drive\n",
        "with open('/root/.kaggle/kaggle.json', 'w') as file:\n",
        "  json.dump(api_token, file)\n",
        "!chmod 600 /root/.kaggle/kaggle.json"
      ],
      "execution_count": 3,
      "outputs": [
        {
          "output_type": "stream",
          "name": "stdout",
          "text": [
            "mkdir: cannot create directory ‘/root/.kaggle/’: File exists\n",
            "Requirement already satisfied: kaggle in /usr/local/lib/python3.7/dist-packages (1.5.12)\n",
            "Requirement already satisfied: requests in /usr/local/lib/python3.7/dist-packages (from kaggle) (2.23.0)\n",
            "Requirement already satisfied: python-slugify in /usr/local/lib/python3.7/dist-packages (from kaggle) (5.0.2)\n",
            "Requirement already satisfied: six>=1.10 in /usr/local/lib/python3.7/dist-packages (from kaggle) (1.15.0)\n",
            "Requirement already satisfied: python-dateutil in /usr/local/lib/python3.7/dist-packages (from kaggle) (2.8.2)\n",
            "Requirement already satisfied: urllib3 in /usr/local/lib/python3.7/dist-packages (from kaggle) (1.24.3)\n",
            "Requirement already satisfied: certifi in /usr/local/lib/python3.7/dist-packages (from kaggle) (2021.5.30)\n",
            "Requirement already satisfied: tqdm in /usr/local/lib/python3.7/dist-packages (from kaggle) (4.62.3)\n",
            "Requirement already satisfied: text-unidecode>=1.3 in /usr/local/lib/python3.7/dist-packages (from python-slugify->kaggle) (1.3)\n",
            "Requirement already satisfied: chardet<4,>=3.0.2 in /usr/local/lib/python3.7/dist-packages (from requests->kaggle) (3.0.4)\n",
            "Requirement already satisfied: idna<3,>=2.5 in /usr/local/lib/python3.7/dist-packages (from requests->kaggle) (2.10)\n"
          ]
        }
      ]
    },
    {
      "cell_type": "code",
      "metadata": {
        "id": "uV6tPQx8YmnZ",
        "colab": {
          "base_uri": "https://localhost:8080/"
        },
        "outputId": "4c4f4415-bf9b-419c-ea2c-61f79c0cc2b5"
      },
      "source": [
        "# Creating a dataset directory\n",
        "\n",
        "!mkdir ./datasets\n",
        "!mkdir ./datasets/library-collection\n",
        "\n",
        "# download the dataset from Kaggle and unzip it\n",
        "!kaggle datasets download city-of-seattle/seattle-library-collection-inventory  -f library-collection-inventory.csv -p ./datasets/library-collection/\n",
        "!unzip ./datasets/library-collection/*.zip  -d ./datasets/library-collection\n",
        "!ls ./datasets/library-collection\n"
      ],
      "execution_count": 4,
      "outputs": [
        {
          "output_type": "stream",
          "name": "stdout",
          "text": [
            "mkdir: cannot create directory ‘./datasets’: File exists\n",
            "mkdir: cannot create directory ‘./datasets/library-collection’: File exists\n",
            "library-collection-inventory.csv.zip: Skipping, found more recently modified local copy (use --force to force download)\n",
            "Archive:  ./datasets/library-collection/library-collection-inventory.csv.zip\n",
            "replace ./datasets/library-collection/library-collection-inventory.csv? [y]es, [n]o, [A]ll, [N]one, [r]ename: N\n",
            "library-collection-inventory.csv  library-collection-inventory.csv.zip\n"
          ]
        }
      ]
    },
    {
      "cell_type": "code",
      "metadata": {
        "id": "yuFIVqDgYt7i",
        "colab": {
          "base_uri": "https://localhost:8080/"
        },
        "outputId": "fcb04e22-7f79-48d5-d253-351c0a098347"
      },
      "source": [
        "!ls -lh ./datasets/library-collection"
      ],
      "execution_count": 5,
      "outputs": [
        {
          "output_type": "stream",
          "name": "stdout",
          "text": [
            "total 15G\n",
            "-rw-r--r-- 1 root root  11G Dec  1  2019 library-collection-inventory.csv\n",
            "-rw-r--r-- 1 root root 3.8G Nov  8 06:04 library-collection-inventory.csv.zip\n"
          ]
        }
      ]
    },
    {
      "cell_type": "code",
      "metadata": {
        "id": "7DN2sCPHYwif",
        "colab": {
          "base_uri": "https://localhost:8080/",
          "height": 1000
        },
        "outputId": "f85885c1-8527-4b26-a572-b7d7b45e46f3"
      },
      "source": [
        "import turicreate as tc\n",
        "%matplotlib inline\n",
        "\n",
        "#Loading a CSV to SFrame (this can take some time)\n",
        "sf = tc.SFrame.read_csv(\"/content/datasets/library-collection/library-collection-inventory.csv\", nrows=1000)\n",
        "sf"
      ],
      "execution_count": 6,
      "outputs": [
        {
          "output_type": "display_data",
          "data": {
            "text/html": [
              "<pre>Successfully parsed 10 tokens: \n",
              "\t0: 735439\n",
              "\t1: [\"Genealog ... t.\",,1947]\n",
              "\t2: \n",
              "\t3: Enloes family\n",
              "\t4: arbk\n",
              "\t5: caref\n",
              "\t6: \n",
              "\t7: cen\n",
              "\t8: 2017-09-01 ... :00:00.000\n",
              "\t9: 1</pre>"
            ],
            "text/plain": [
              "Successfully parsed 10 tokens: \n",
              "\t0: 735439\n",
              "\t1: [\"Genealog ... t.\",,1947]\n",
              "\t2: \n",
              "\t3: Enloes family\n",
              "\t4: arbk\n",
              "\t5: caref\n",
              "\t6: \n",
              "\t7: cen\n",
              "\t8: 2017-09-01 ... :00:00.000\n",
              "\t9: 1"
            ]
          },
          "metadata": {}
        },
        {
          "output_type": "display_data",
          "data": {
            "text/html": [
              "<pre>1 lines failed to parse correctly</pre>"
            ],
            "text/plain": [
              "1 lines failed to parse correctly"
            ]
          },
          "metadata": {}
        },
        {
          "output_type": "display_data",
          "data": {
            "text/html": [
              "<pre>Finished parsing file /content/datasets/library-collection/library-collection-inventory.csv</pre>"
            ],
            "text/plain": [
              "Finished parsing file /content/datasets/library-collection/library-collection-inventory.csv"
            ]
          },
          "metadata": {}
        },
        {
          "output_type": "display_data",
          "data": {
            "text/html": [
              "<pre>Parsing completed. Parsed 100 lines in 2.31593 secs.</pre>"
            ],
            "text/plain": [
              "Parsing completed. Parsed 100 lines in 2.31593 secs."
            ]
          },
          "metadata": {}
        },
        {
          "output_type": "stream",
          "name": "stdout",
          "text": [
            "------------------------------------------------------\n",
            "Inferred types from first 100 line(s) of file as \n",
            "column_type_hints=[int,str,str,str,str,str,str,str,str,str,str,str,int]\n",
            "If parsing fails due to incorrect types, you can correct\n",
            "the inferred type list above and pass it to read_csv in\n",
            "the column_type_hints argument\n",
            "------------------------------------------------------\n"
          ]
        },
        {
          "output_type": "display_data",
          "data": {
            "text/html": [
              "<pre>Successfully parsed 10 tokens: \n",
              "\t0: 735439\n",
              "\t1: [Genealogy ... t.\",,1947]\n",
              "\t2: \n",
              "\t3: Enloes family\n",
              "\t4: arbk\n",
              "\t5: caref\n",
              "\t6: \n",
              "\t7: cen\n",
              "\t8: 2017-09-01 ... :00:00.000\n",
              "\t9: 1</pre>"
            ],
            "text/plain": [
              "Successfully parsed 10 tokens: \n",
              "\t0: 735439\n",
              "\t1: [Genealogy ... t.\",,1947]\n",
              "\t2: \n",
              "\t3: Enloes family\n",
              "\t4: arbk\n",
              "\t5: caref\n",
              "\t6: \n",
              "\t7: cen\n",
              "\t8: 2017-09-01 ... :00:00.000\n",
              "\t9: 1"
            ]
          },
          "metadata": {}
        },
        {
          "output_type": "display_data",
          "data": {
            "text/html": [
              "<pre>1 lines failed to parse correctly</pre>"
            ],
            "text/plain": [
              "1 lines failed to parse correctly"
            ]
          },
          "metadata": {}
        },
        {
          "output_type": "display_data",
          "data": {
            "text/html": [
              "<pre>Finished parsing file /content/datasets/library-collection/library-collection-inventory.csv</pre>"
            ],
            "text/plain": [
              "Finished parsing file /content/datasets/library-collection/library-collection-inventory.csv"
            ]
          },
          "metadata": {}
        },
        {
          "output_type": "display_data",
          "data": {
            "text/html": [
              "<pre>Parsing completed. Parsed 1000 lines in 0.89691 secs.</pre>"
            ],
            "text/plain": [
              "Parsing completed. Parsed 1000 lines in 0.89691 secs."
            ]
          },
          "metadata": {}
        },
        {
          "output_type": "execute_result",
          "data": {
            "text/html": [
              "<div style=\"max-height:1000px;max-width:1500px;overflow:auto;\"><table frame=\"box\" rules=\"cols\">\n",
              "    <tr>\n",
              "        <th style=\"padding-left: 1em; padding-right: 1em; text-align: center\">BibNum</th>\n",
              "        <th style=\"padding-left: 1em; padding-right: 1em; text-align: center\">Title</th>\n",
              "        <th style=\"padding-left: 1em; padding-right: 1em; text-align: center\">Author</th>\n",
              "        <th style=\"padding-left: 1em; padding-right: 1em; text-align: center\">ISBN</th>\n",
              "        <th style=\"padding-left: 1em; padding-right: 1em; text-align: center\">PublicationYear</th>\n",
              "    </tr>\n",
              "    <tr>\n",
              "        <td style=\"padding-left: 1em; padding-right: 1em; text-align: center; vertical-align: top\">3011076</td>\n",
              "        <td style=\"padding-left: 1em; padding-right: 1em; text-align: center; vertical-align: top\">A tale of two friends /<br>adapted by Ellie O&#x27;Ry ...</td>\n",
              "        <td style=\"padding-left: 1em; padding-right: 1em; text-align: center; vertical-align: top\">O&#x27;Ryan, Ellie</td>\n",
              "        <td style=\"padding-left: 1em; padding-right: 1em; text-align: center; vertical-align: top\">1481425730, 1481425749,<br>9781481425735, ...</td>\n",
              "        <td style=\"padding-left: 1em; padding-right: 1em; text-align: center; vertical-align: top\">2014.</td>\n",
              "    </tr>\n",
              "    <tr>\n",
              "        <td style=\"padding-left: 1em; padding-right: 1em; text-align: center; vertical-align: top\">2248846</td>\n",
              "        <td style=\"padding-left: 1em; padding-right: 1em; text-align: center; vertical-align: top\">Naruto. Vol. 1, Uzumaki<br>Naruto / story and ar ...</td>\n",
              "        <td style=\"padding-left: 1em; padding-right: 1em; text-align: center; vertical-align: top\">Kishimoto, Masashi, 1974-</td>\n",
              "        <td style=\"padding-left: 1em; padding-right: 1em; text-align: center; vertical-align: top\">1569319006</td>\n",
              "        <td style=\"padding-left: 1em; padding-right: 1em; text-align: center; vertical-align: top\">2003, c1999.</td>\n",
              "    </tr>\n",
              "    <tr>\n",
              "        <td style=\"padding-left: 1em; padding-right: 1em; text-align: center; vertical-align: top\">3209270</td>\n",
              "        <td style=\"padding-left: 1em; padding-right: 1em; text-align: center; vertical-align: top\">Peace, love &amp; Wi-Fi : a<br>ZITS treasury / by Jerry ...</td>\n",
              "        <td style=\"padding-left: 1em; padding-right: 1em; text-align: center; vertical-align: top\">Scott, Jerry, 1955-</td>\n",
              "        <td style=\"padding-left: 1em; padding-right: 1em; text-align: center; vertical-align: top\">144945867X, 9781449458676</td>\n",
              "        <td style=\"padding-left: 1em; padding-right: 1em; text-align: center; vertical-align: top\">2014.</td>\n",
              "    </tr>\n",
              "    <tr>\n",
              "        <td style=\"padding-left: 1em; padding-right: 1em; text-align: center; vertical-align: top\">1907265</td>\n",
              "        <td style=\"padding-left: 1em; padding-right: 1em; text-align: center; vertical-align: top\">The Paris pilgrims : a<br>novel / Clancy Carlile. ...</td>\n",
              "        <td style=\"padding-left: 1em; padding-right: 1em; text-align: center; vertical-align: top\">Carlile, Clancy, 1930-</td>\n",
              "        <td style=\"padding-left: 1em; padding-right: 1em; text-align: center; vertical-align: top\">0786706155</td>\n",
              "        <td style=\"padding-left: 1em; padding-right: 1em; text-align: center; vertical-align: top\">c1999.</td>\n",
              "    </tr>\n",
              "    <tr>\n",
              "        <td style=\"padding-left: 1em; padding-right: 1em; text-align: center; vertical-align: top\">1644616</td>\n",
              "        <td style=\"padding-left: 1em; padding-right: 1em; text-align: center; vertical-align: top\">Erotic by nature : a<br>celebration of life, of ...</td>\n",
              "        <td style=\"padding-left: 1em; padding-right: 1em; text-align: center; vertical-align: top\"></td>\n",
              "        <td style=\"padding-left: 1em; padding-right: 1em; text-align: center; vertical-align: top\">094020813X</td>\n",
              "        <td style=\"padding-left: 1em; padding-right: 1em; text-align: center; vertical-align: top\">1991, c1988.</td>\n",
              "    </tr>\n",
              "    <tr>\n",
              "        <td style=\"padding-left: 1em; padding-right: 1em; text-align: center; vertical-align: top\">1736505</td>\n",
              "        <td style=\"padding-left: 1em; padding-right: 1em; text-align: center; vertical-align: top\">Children of Cambodia&#x27;s<br>killing fields : memoirs ...</td>\n",
              "        <td style=\"padding-left: 1em; padding-right: 1em; text-align: center; vertical-align: top\"></td>\n",
              "        <td style=\"padding-left: 1em; padding-right: 1em; text-align: center; vertical-align: top\">0300068395, 0300078730</td>\n",
              "        <td style=\"padding-left: 1em; padding-right: 1em; text-align: center; vertical-align: top\">c1997.</td>\n",
              "    </tr>\n",
              "    <tr>\n",
              "        <td style=\"padding-left: 1em; padding-right: 1em; text-align: center; vertical-align: top\">1749492</td>\n",
              "        <td style=\"padding-left: 1em; padding-right: 1em; text-align: center; vertical-align: top\">Anti-Zionism : analytical<br>reflections / editors: ...</td>\n",
              "        <td style=\"padding-left: 1em; padding-right: 1em; text-align: center; vertical-align: top\"></td>\n",
              "        <td style=\"padding-left: 1em; padding-right: 1em; text-align: center; vertical-align: top\">091559773X</td>\n",
              "        <td style=\"padding-left: 1em; padding-right: 1em; text-align: center; vertical-align: top\">c1989.</td>\n",
              "    </tr>\n",
              "    <tr>\n",
              "        <td style=\"padding-left: 1em; padding-right: 1em; text-align: center; vertical-align: top\">3270562</td>\n",
              "        <td style=\"padding-left: 1em; padding-right: 1em; text-align: center; vertical-align: top\">Hard-hearted Highlander /<br>Julia London. ...</td>\n",
              "        <td style=\"padding-left: 1em; padding-right: 1em; text-align: center; vertical-align: top\">London, Julia</td>\n",
              "        <td style=\"padding-left: 1em; padding-right: 1em; text-align: center; vertical-align: top\">0373789998, 037380394X,<br>9780373789993, ...</td>\n",
              "        <td style=\"padding-left: 1em; padding-right: 1em; text-align: center; vertical-align: top\">[2017]</td>\n",
              "    </tr>\n",
              "    <tr>\n",
              "        <td style=\"padding-left: 1em; padding-right: 1em; text-align: center; vertical-align: top\">3264577</td>\n",
              "        <td style=\"padding-left: 1em; padding-right: 1em; text-align: center; vertical-align: top\">The Sandcastle Empire /<br>Kayla Olson. ...</td>\n",
              "        <td style=\"padding-left: 1em; padding-right: 1em; text-align: center; vertical-align: top\">Olson, Kayla</td>\n",
              "        <td style=\"padding-left: 1em; padding-right: 1em; text-align: center; vertical-align: top\">0062484877, 9780062484871</td>\n",
              "        <td style=\"padding-left: 1em; padding-right: 1em; text-align: center; vertical-align: top\">2017.</td>\n",
              "    </tr>\n",
              "    <tr>\n",
              "        <td style=\"padding-left: 1em; padding-right: 1em; text-align: center; vertical-align: top\">3236819</td>\n",
              "        <td style=\"padding-left: 1em; padding-right: 1em; text-align: center; vertical-align: top\">Doctor Who. The return of<br>Doctor Mysterio / BBC ; ...</td>\n",
              "        <td style=\"padding-left: 1em; padding-right: 1em; text-align: center; vertical-align: top\"></td>\n",
              "        <td style=\"padding-left: 1em; padding-right: 1em; text-align: center; vertical-align: top\"></td>\n",
              "        <td style=\"padding-left: 1em; padding-right: 1em; text-align: center; vertical-align: top\">[2017]</td>\n",
              "    </tr>\n",
              "</table>\n",
              "<table frame=\"box\" rules=\"cols\">\n",
              "    <tr>\n",
              "        <th style=\"padding-left: 1em; padding-right: 1em; text-align: center\">Publisher</th>\n",
              "        <th style=\"padding-left: 1em; padding-right: 1em; text-align: center\">Subjects</th>\n",
              "        <th style=\"padding-left: 1em; padding-right: 1em; text-align: center\">ItemType</th>\n",
              "        <th style=\"padding-left: 1em; padding-right: 1em; text-align: center\">ItemCollection</th>\n",
              "        <th style=\"padding-left: 1em; padding-right: 1em; text-align: center\">FloatingItem</th>\n",
              "        <th style=\"padding-left: 1em; padding-right: 1em; text-align: center\">ItemLocation</th>\n",
              "    </tr>\n",
              "    <tr>\n",
              "        <td style=\"padding-left: 1em; padding-right: 1em; text-align: center; vertical-align: top\">Simon Spotlight,</td>\n",
              "        <td style=\"padding-left: 1em; padding-right: 1em; text-align: center; vertical-align: top\">Musicians Fiction,<br>Bullfighters Fiction, ...</td>\n",
              "        <td style=\"padding-left: 1em; padding-right: 1em; text-align: center; vertical-align: top\">jcbk</td>\n",
              "        <td style=\"padding-left: 1em; padding-right: 1em; text-align: center; vertical-align: top\">ncrdr</td>\n",
              "        <td style=\"padding-left: 1em; padding-right: 1em; text-align: center; vertical-align: top\">Floating</td>\n",
              "        <td style=\"padding-left: 1em; padding-right: 1em; text-align: center; vertical-align: top\">qna</td>\n",
              "    </tr>\n",
              "    <tr>\n",
              "        <td style=\"padding-left: 1em; padding-right: 1em; text-align: center; vertical-align: top\">Viz,</td>\n",
              "        <td style=\"padding-left: 1em; padding-right: 1em; text-align: center; vertical-align: top\">Ninja Japan Comic books<br>strips etc, Comic books ...</td>\n",
              "        <td style=\"padding-left: 1em; padding-right: 1em; text-align: center; vertical-align: top\">acbk</td>\n",
              "        <td style=\"padding-left: 1em; padding-right: 1em; text-align: center; vertical-align: top\">nycomic</td>\n",
              "        <td style=\"padding-left: 1em; padding-right: 1em; text-align: center; vertical-align: top\">None</td>\n",
              "        <td style=\"padding-left: 1em; padding-right: 1em; text-align: center; vertical-align: top\">lcy</td>\n",
              "    </tr>\n",
              "    <tr>\n",
              "        <td style=\"padding-left: 1em; padding-right: 1em; text-align: center; vertical-align: top\">Andrews McMeel<br>Publishing, ...</td>\n",
              "        <td style=\"padding-left: 1em; padding-right: 1em; text-align: center; vertical-align: top\">Duncan Jeremy Fictitious<br>character Comic books ...</td>\n",
              "        <td style=\"padding-left: 1em; padding-right: 1em; text-align: center; vertical-align: top\">acbk</td>\n",
              "        <td style=\"padding-left: 1em; padding-right: 1em; text-align: center; vertical-align: top\">nycomic</td>\n",
              "        <td style=\"padding-left: 1em; padding-right: 1em; text-align: center; vertical-align: top\">None</td>\n",
              "        <td style=\"padding-left: 1em; padding-right: 1em; text-align: center; vertical-align: top\">bea</td>\n",
              "    </tr>\n",
              "    <tr>\n",
              "        <td style=\"padding-left: 1em; padding-right: 1em; text-align: center; vertical-align: top\">Carroll &amp; Graf,</td>\n",
              "        <td style=\"padding-left: 1em; padding-right: 1em; text-align: center; vertical-align: top\">Hemingway Ernest 1899<br>1961 Fiction, ...</td>\n",
              "        <td style=\"padding-left: 1em; padding-right: 1em; text-align: center; vertical-align: top\">acbk</td>\n",
              "        <td style=\"padding-left: 1em; padding-right: 1em; text-align: center; vertical-align: top\">cafic</td>\n",
              "        <td style=\"padding-left: 1em; padding-right: 1em; text-align: center; vertical-align: top\">None</td>\n",
              "        <td style=\"padding-left: 1em; padding-right: 1em; text-align: center; vertical-align: top\">cen</td>\n",
              "    </tr>\n",
              "    <tr>\n",
              "        <td style=\"padding-left: 1em; padding-right: 1em; text-align: center; vertical-align: top\">Red Alder Books/Down<br>There Press, ...</td>\n",
              "        <td style=\"padding-left: 1em; padding-right: 1em; text-align: center; vertical-align: top\">Erotic literature<br>American, American ...</td>\n",
              "        <td style=\"padding-left: 1em; padding-right: 1em; text-align: center; vertical-align: top\">acbk</td>\n",
              "        <td style=\"padding-left: 1em; padding-right: 1em; text-align: center; vertical-align: top\">canf</td>\n",
              "        <td style=\"padding-left: 1em; padding-right: 1em; text-align: center; vertical-align: top\">None</td>\n",
              "        <td style=\"padding-left: 1em; padding-right: 1em; text-align: center; vertical-align: top\">cen</td>\n",
              "    </tr>\n",
              "    <tr>\n",
              "        <td style=\"padding-left: 1em; padding-right: 1em; text-align: center; vertical-align: top\">Yale University Press,</td>\n",
              "        <td style=\"padding-left: 1em; padding-right: 1em; text-align: center; vertical-align: top\">Political atrocities<br>Cambodia, Children ...</td>\n",
              "        <td style=\"padding-left: 1em; padding-right: 1em; text-align: center; vertical-align: top\">acbk</td>\n",
              "        <td style=\"padding-left: 1em; padding-right: 1em; text-align: center; vertical-align: top\">canf</td>\n",
              "        <td style=\"padding-left: 1em; padding-right: 1em; text-align: center; vertical-align: top\">None</td>\n",
              "        <td style=\"padding-left: 1em; padding-right: 1em; text-align: center; vertical-align: top\">cen</td>\n",
              "    </tr>\n",
              "    <tr>\n",
              "        <td style=\"padding-left: 1em; padding-right: 1em; text-align: center; vertical-align: top\">Amana Books,</td>\n",
              "        <td style=\"padding-left: 1em; padding-right: 1em; text-align: center; vertical-align: top\">Berger Elmer 1908 1996,<br>Zionism Controversial ...</td>\n",
              "        <td style=\"padding-left: 1em; padding-right: 1em; text-align: center; vertical-align: top\">acbk</td>\n",
              "        <td style=\"padding-left: 1em; padding-right: 1em; text-align: center; vertical-align: top\">canf</td>\n",
              "        <td style=\"padding-left: 1em; padding-right: 1em; text-align: center; vertical-align: top\">None</td>\n",
              "        <td style=\"padding-left: 1em; padding-right: 1em; text-align: center; vertical-align: top\">cen</td>\n",
              "    </tr>\n",
              "    <tr>\n",
              "        <td style=\"padding-left: 1em; padding-right: 1em; text-align: center; vertical-align: top\">HQN,</td>\n",
              "        <td style=\"padding-left: 1em; padding-right: 1em; text-align: center; vertical-align: top\">Man woman relationships<br>Fiction, Betrothal ...</td>\n",
              "        <td style=\"padding-left: 1em; padding-right: 1em; text-align: center; vertical-align: top\">acbk</td>\n",
              "        <td style=\"padding-left: 1em; padding-right: 1em; text-align: center; vertical-align: top\">nanew</td>\n",
              "        <td style=\"padding-left: 1em; padding-right: 1em; text-align: center; vertical-align: top\">None</td>\n",
              "        <td style=\"padding-left: 1em; padding-right: 1em; text-align: center; vertical-align: top\">lcy</td>\n",
              "    </tr>\n",
              "    <tr>\n",
              "        <td style=\"padding-left: 1em; padding-right: 1em; text-align: center; vertical-align: top\">HarperTeen,</td>\n",
              "        <td style=\"padding-left: 1em; padding-right: 1em; text-align: center; vertical-align: top\">Survival Juvenile<br>fiction, Islands Juve ...</td>\n",
              "        <td style=\"padding-left: 1em; padding-right: 1em; text-align: center; vertical-align: top\">acbk</td>\n",
              "        <td style=\"padding-left: 1em; padding-right: 1em; text-align: center; vertical-align: top\">nynew</td>\n",
              "        <td style=\"padding-left: 1em; padding-right: 1em; text-align: center; vertical-align: top\">None</td>\n",
              "        <td style=\"padding-left: 1em; padding-right: 1em; text-align: center; vertical-align: top\">nga</td>\n",
              "    </tr>\n",
              "    <tr>\n",
              "        <td style=\"padding-left: 1em; padding-right: 1em; text-align: center; vertical-align: top\">BBC Worldwide,</td>\n",
              "        <td style=\"padding-left: 1em; padding-right: 1em; text-align: center; vertical-align: top\">Doctor Fictitious<br>character Drama, Time ...</td>\n",
              "        <td style=\"padding-left: 1em; padding-right: 1em; text-align: center; vertical-align: top\">acdvd</td>\n",
              "        <td style=\"padding-left: 1em; padding-right: 1em; text-align: center; vertical-align: top\">nadvd</td>\n",
              "        <td style=\"padding-left: 1em; padding-right: 1em; text-align: center; vertical-align: top\">Floating</td>\n",
              "        <td style=\"padding-left: 1em; padding-right: 1em; text-align: center; vertical-align: top\">wts</td>\n",
              "    </tr>\n",
              "</table>\n",
              "<table frame=\"box\" rules=\"cols\">\n",
              "    <tr>\n",
              "        <th style=\"padding-left: 1em; padding-right: 1em; text-align: center\">ReportDate</th>\n",
              "        <th style=\"padding-left: 1em; padding-right: 1em; text-align: center\">ItemCount</th>\n",
              "    </tr>\n",
              "    <tr>\n",
              "        <td style=\"padding-left: 1em; padding-right: 1em; text-align: center; vertical-align: top\">2017-09-01T00:00:00.000</td>\n",
              "        <td style=\"padding-left: 1em; padding-right: 1em; text-align: center; vertical-align: top\">1</td>\n",
              "    </tr>\n",
              "    <tr>\n",
              "        <td style=\"padding-left: 1em; padding-right: 1em; text-align: center; vertical-align: top\">2017-09-01T00:00:00.000</td>\n",
              "        <td style=\"padding-left: 1em; padding-right: 1em; text-align: center; vertical-align: top\">1</td>\n",
              "    </tr>\n",
              "    <tr>\n",
              "        <td style=\"padding-left: 1em; padding-right: 1em; text-align: center; vertical-align: top\">2017-09-01T00:00:00.000</td>\n",
              "        <td style=\"padding-left: 1em; padding-right: 1em; text-align: center; vertical-align: top\">1</td>\n",
              "    </tr>\n",
              "    <tr>\n",
              "        <td style=\"padding-left: 1em; padding-right: 1em; text-align: center; vertical-align: top\">2017-09-01T00:00:00.000</td>\n",
              "        <td style=\"padding-left: 1em; padding-right: 1em; text-align: center; vertical-align: top\">1</td>\n",
              "    </tr>\n",
              "    <tr>\n",
              "        <td style=\"padding-left: 1em; padding-right: 1em; text-align: center; vertical-align: top\">2017-09-01T00:00:00.000</td>\n",
              "        <td style=\"padding-left: 1em; padding-right: 1em; text-align: center; vertical-align: top\">1</td>\n",
              "    </tr>\n",
              "    <tr>\n",
              "        <td style=\"padding-left: 1em; padding-right: 1em; text-align: center; vertical-align: top\">2017-09-01T00:00:00.000</td>\n",
              "        <td style=\"padding-left: 1em; padding-right: 1em; text-align: center; vertical-align: top\">1</td>\n",
              "    </tr>\n",
              "    <tr>\n",
              "        <td style=\"padding-left: 1em; padding-right: 1em; text-align: center; vertical-align: top\">2017-09-01T00:00:00.000</td>\n",
              "        <td style=\"padding-left: 1em; padding-right: 1em; text-align: center; vertical-align: top\">1</td>\n",
              "    </tr>\n",
              "    <tr>\n",
              "        <td style=\"padding-left: 1em; padding-right: 1em; text-align: center; vertical-align: top\">2017-09-01T00:00:00.000</td>\n",
              "        <td style=\"padding-left: 1em; padding-right: 1em; text-align: center; vertical-align: top\">1</td>\n",
              "    </tr>\n",
              "    <tr>\n",
              "        <td style=\"padding-left: 1em; padding-right: 1em; text-align: center; vertical-align: top\">2017-09-01T00:00:00.000</td>\n",
              "        <td style=\"padding-left: 1em; padding-right: 1em; text-align: center; vertical-align: top\">1</td>\n",
              "    </tr>\n",
              "    <tr>\n",
              "        <td style=\"padding-left: 1em; padding-right: 1em; text-align: center; vertical-align: top\">2017-09-01T00:00:00.000</td>\n",
              "        <td style=\"padding-left: 1em; padding-right: 1em; text-align: center; vertical-align: top\">2</td>\n",
              "    </tr>\n",
              "</table>\n",
              "[1000 rows x 13 columns]<br/>Note: Only the head of the SFrame is printed.<br/>You can use print_rows(num_rows=m, num_columns=n) to print more rows and columns.\n",
              "</div>"
            ],
            "text/plain": [
              "Columns:\n",
              "\tBibNum\tint\n",
              "\tTitle\tstr\n",
              "\tAuthor\tstr\n",
              "\tISBN\tstr\n",
              "\tPublicationYear\tstr\n",
              "\tPublisher\tstr\n",
              "\tSubjects\tstr\n",
              "\tItemType\tstr\n",
              "\tItemCollection\tstr\n",
              "\tFloatingItem\tstr\n",
              "\tItemLocation\tstr\n",
              "\tReportDate\tstr\n",
              "\tItemCount\tint\n",
              "\n",
              "Rows: 1000\n",
              "\n",
              "Data:\n",
              "+---------+-------------------------------+---------------------------+\n",
              "|  BibNum |             Title             |           Author          |\n",
              "+---------+-------------------------------+---------------------------+\n",
              "| 3011076 | A tale of two friends / ad... |       O'Ryan, Ellie       |\n",
              "| 2248846 | Naruto. Vol. 1, Uzumaki Na... | Kishimoto, Masashi, 1974- |\n",
              "| 3209270 | Peace, love & Wi-Fi : a ZI... |    Scott, Jerry, 1955-    |\n",
              "| 1907265 | The Paris pilgrims : a nov... |   Carlile, Clancy, 1930-  |\n",
              "| 1644616 | Erotic by nature : a celeb... |                           |\n",
              "| 1736505 | Children of Cambodia's kil... |                           |\n",
              "| 1749492 | Anti-Zionism : analytical ... |                           |\n",
              "| 3270562 | Hard-hearted Highlander / ... |       London, Julia       |\n",
              "| 3264577 | The Sandcastle Empire / Ka... |        Olson, Kayla       |\n",
              "| 3236819 | Doctor Who. The return of ... |                           |\n",
              "+---------+-------------------------------+---------------------------+\n",
              "+-------------------------------+-----------------+\n",
              "|              ISBN             | PublicationYear |\n",
              "+-------------------------------+-----------------+\n",
              "| 1481425730, 1481425749, 97... |      2014.      |\n",
              "|           1569319006          |   2003, c1999.  |\n",
              "|   144945867X, 9781449458676   |      2014.      |\n",
              "|           0786706155          |      c1999.     |\n",
              "|           094020813X          |   1991, c1988.  |\n",
              "|     0300068395, 0300078730    |      c1997.     |\n",
              "|           091559773X          |      c1989.     |\n",
              "| 0373789998, 037380394X, 97... |      [2017]     |\n",
              "|   0062484877, 9780062484871   |      2017.      |\n",
              "|                               |      [2017]     |\n",
              "+-------------------------------+-----------------+\n",
              "+-------------------------------+-------------------------------+----------+\n",
              "|           Publisher           |            Subjects           | ItemType |\n",
              "+-------------------------------+-------------------------------+----------+\n",
              "|        Simon Spotlight,       | Musicians Fiction, Bullfig... |   jcbk   |\n",
              "|              Viz,             | Ninja Japan Comic books st... |   acbk   |\n",
              "|   Andrews McMeel Publishing,  | Duncan Jeremy Fictitious c... |   acbk   |\n",
              "|        Carroll & Graf,        | Hemingway Ernest 1899 1961... |   acbk   |\n",
              "| Red Alder Books/Down There... | Erotic literature American... |   acbk   |\n",
              "|     Yale University Press,    | Political atrocities Cambo... |   acbk   |\n",
              "|          Amana Books,         | Berger Elmer 1908 1996, Zi... |   acbk   |\n",
              "|              HQN,             | Man woman relationships Fi... |   acbk   |\n",
              "|          HarperTeen,          | Survival Juvenile fiction,... |   acbk   |\n",
              "|         BBC Worldwide,        | Doctor Fictitious characte... |  acdvd   |\n",
              "+-------------------------------+-------------------------------+----------+\n",
              "+----------------+--------------+--------------+-------------------------+-----------+\n",
              "| ItemCollection | FloatingItem | ItemLocation |        ReportDate       | ItemCount |\n",
              "+----------------+--------------+--------------+-------------------------+-----------+\n",
              "|     ncrdr      |   Floating   |     qna      | 2017-09-01T00:00:00.000 |     1     |\n",
              "|    nycomic     |     None     |     lcy      | 2017-09-01T00:00:00.000 |     1     |\n",
              "|    nycomic     |     None     |     bea      | 2017-09-01T00:00:00.000 |     1     |\n",
              "|     cafic      |     None     |     cen      | 2017-09-01T00:00:00.000 |     1     |\n",
              "|      canf      |     None     |     cen      | 2017-09-01T00:00:00.000 |     1     |\n",
              "|      canf      |     None     |     cen      | 2017-09-01T00:00:00.000 |     1     |\n",
              "|      canf      |     None     |     cen      | 2017-09-01T00:00:00.000 |     1     |\n",
              "|     nanew      |     None     |     lcy      | 2017-09-01T00:00:00.000 |     1     |\n",
              "|     nynew      |     None     |     nga      | 2017-09-01T00:00:00.000 |     1     |\n",
              "|     nadvd      |   Floating   |     wts      | 2017-09-01T00:00:00.000 |     2     |\n",
              "+----------------+--------------+--------------+-------------------------+-----------+\n",
              "[1000 rows x 13 columns]\n",
              "Note: Only the head of the SFrame is printed.\n",
              "You can use print_rows(num_rows=m, num_columns=n) to print more rows and columns."
            ]
          },
          "metadata": {},
          "execution_count": 6
        }
      ]
    },
    {
      "cell_type": "code",
      "metadata": {
        "id": "Y9tYib4SZyDk"
      },
      "source": [
        "import turicreate.aggregate as agg\n"
      ],
      "execution_count": 7,
      "outputs": []
    },
    {
      "cell_type": "markdown",
      "metadata": {
        "id": "LG0KyuFD0P2b"
      },
      "source": [
        "**Question 1:** Write a function that returns the most popular book in each subject. Use it to find the most popular book in\n",
        "    the _Mystery Fiction_ subject (15pt)"
      ]
    },
    {
      "cell_type": "code",
      "metadata": {
        "id": "6YYz0SBpYRwB"
      },
      "source": [
        "#def get_most_pop_by_subject(subj):\n",
        "sf2 = sf['Title', 'Subjects','Author'] # to make things run faster, we create smaller SFrame\n",
        "sf2['subject_list'] = sf2['Subjects'].apply(lambda s: s.split(\",\"))\n",
        "sf2['subject_list'] = sf2['subject_list'].apply(lambda l: [subject.strip().lower() for subject in l])\n",
        "sf2 = sf2.remove_column('Subjects')\n",
        "sf2 = sf2.stack(\"subject_list\", new_column_name=\"subject\") \n"
      ],
      "execution_count": 8,
      "outputs": []
    },
    {
      "cell_type": "code",
      "metadata": {
        "id": "fWF5OU0XnDP-",
        "colab": {
          "base_uri": "https://localhost:8080/"
        },
        "outputId": "991aceea-2cdd-452e-bf70-bf8125d360cb"
      },
      "source": [
        "def get_most_pop_book(subj):\n",
        "  #keep only specified subject\n",
        "  sf3=sf2[sf2[\"subject\"].apply(lambda l: subj.lower() in l)]\n",
        "  #look for most popular book\n",
        "  g=sf3.groupby('Title', {'Count': agg.COUNT()})\n",
        "  book=g.sort(\"Count\", ascending=False)[0]\n",
        "  return book\n",
        "get_most_pop_book(subj=\"Mystery Fiction\")"
      ],
      "execution_count": 9,
      "outputs": [
        {
          "output_type": "execute_result",
          "data": {
            "text/plain": [
              "{'Count': 1, 'Title': \"All the queen's men / Ethan J. Wolfe.\"}"
            ]
          },
          "metadata": {},
          "execution_count": 9
        }
      ]
    },
    {
      "cell_type": "markdown",
      "metadata": {
        "id": "31NZ1B3S0P2i"
      },
      "source": [
        "**Question 2**: Find the top-10 fiction subjects (5pt), and use Seaborn to visualize the number of items over time for each subject (15pt)\n",
        "    "
      ]
    },
    {
      "cell_type": "code",
      "metadata": {
        "id": "keOHakis0P2j"
      },
      "source": [
        "sf2[\"have_fiction\"]=sf2[\"subject\"].apply(lambda l: \"fiction\" in l.lower())\n",
        "sf3=sf2[sf2[\"have_fiction\"]]\n",
        "g=sf3.groupby('subject', {'Count': agg.COUNT()})\n",
        "subjects=g.sort(\"Count\", ascending=False)[:10]"
      ],
      "execution_count": 10,
      "outputs": []
    },
    {
      "cell_type": "code",
      "metadata": {
        "id": "5rVxA_XlmPDK",
        "colab": {
          "base_uri": "https://localhost:8080/",
          "height": 513
        },
        "outputId": "19fd5286-a8ad-4a5f-fa40-c9a2f915dfb5"
      },
      "source": [
        "import seaborn as sns\n",
        "import matplotlib.pyplot as plt\n",
        "fig,ax=plt.subplots(figsize=(20,7))\n",
        "sns.barplot(data=subjects.to_dataframe(), x=\"subject\", y=\"Count\",ax=ax)\n",
        "fig.tight_layout()"
      ],
      "execution_count": 11,
      "outputs": [
        {
          "output_type": "display_data",
          "data": {
            "image/png": "[encoded data removed]",
            "text/plain": [
              "<Figure size 1440x504 with 1 Axes>"
            ]
          },
          "metadata": {
            "needs_background": "light"
          }
        }
      ]
    },
    {
      "cell_type": "markdown",
      "metadata": {
        "id": "WlbdMR3m0P2n"
      },
      "source": [
        "**Question 3:** Write a function that gets as input a subject name. The function returns the top-20 most _popular_ authors for the input subject (15pt).\n",
        "\n"
      ]
    },
    {
      "cell_type": "code",
      "metadata": {
        "id": "WXaxnXmr0P2o",
        "colab": {
          "base_uri": "https://localhost:8080/"
        },
        "outputId": "a47b6567-fc25-4e7c-e47e-e684f2ef7600"
      },
      "source": [
        "def most_pop_authors(subj):\n",
        "  #keep only specified subject\n",
        "  sf3=sf2[sf2[\"subject\"].apply(lambda l: subj.lower() in l)]\n",
        "  #look for most popular book\n",
        "  g=sf3.groupby('Author', {'Count': agg.COUNT()})\n",
        "  authors=g.sort(\"Count\", ascending=False)[:20]\n",
        "  return authors\n",
        "most_pop_authors(subj=\"Mystery Fiction\").print_rows(num_rows=20)"
      ],
      "execution_count": 12,
      "outputs": [
        {
          "output_type": "stream",
          "name": "stdout",
          "text": [
            "+-------------------------+-------+\n",
            "|          Author         | Count |\n",
            "+-------------------------+-------+\n",
            "| Patterson, James, 1947- |   2   |\n",
            "|       Ould, Chris,      |   1   |\n",
            "|     King, Laurie R.     |   1   |\n",
            "|   Wilson, Laura, 1964-  |   1   |\n",
            "|     Atherton, Nancy     |   1   |\n",
            "|      Fforde, Jasper     |   1   |\n",
            "|      Todd, Charles      |   1   |\n",
            "|  Douglas, Carole Nelson |   1   |\n",
            "| DiSilverio, Laura A. H. |   1   |\n",
            "|    Watson, Wendy Lyn    |   1   |\n",
            "|      Muller, Marcia     |   1   |\n",
            "|      Blake, Heather     |   1   |\n",
            "|       Herron, Mick      |   1   |\n",
            "|       Kerr, Philip      |   1   |\n",
            "|    Estleman, Loren D.   |   1   |\n",
            "|   Ryan, Hank Phillippi  |   1   |\n",
            "|      Pronzini, Bill     |   1   |\n",
            "|   Bain, Donald, 1935-   |   1   |\n",
            "|  Allen, Jeffrey, 1970-  |   1   |\n",
            "|   Green, George Dawes   |   1   |\n",
            "+-------------------------+-------+\n",
            "[20 rows x 2 columns]\n",
            "\n"
          ]
        }
      ]
    },
    {
      "cell_type": "markdown",
      "metadata": {
        "id": "w5glNK9H0P2r"
      },
      "source": [
        "Using the [The Blog Authorship Corpus](https://www.kaggle.com/rtatman/blog-authorship-corpus.htm) and TuriCreate, please answer the following questions:"
      ]
    },
    {
      "cell_type": "markdown",
      "metadata": {
        "id": "DrxFfd-i0P2s"
      },
      "source": [
        "**Question 4:** Calculate the average and median age of bloggers in each topic by gender(5pt). \n",
        "Calculate the average and median age of bloggers according to their sign (5pt). \n",
        "Visualize the age distributions  of bloggers according to their  topic and gender using Seaborn and PlotlyExpress(15pt)"
      ]
    },
    {
      "cell_type": "code",
      "metadata": {
        "id": "0J2gbaCw0P2t",
        "colab": {
          "base_uri": "https://localhost:8080/"
        },
        "outputId": "1db03ba6-e8bc-4927-e4de-873151ee169e"
      },
      "source": [
        "!mkdir ./datasets/blog-authorship-corpus\n",
        "\n",
        "# download the dataset from Kaggle and unzip it\n",
        "!kaggle datasets download -d rtatman/blog-authorship-corpus  -f blogtext.csv -p ./datasets/blog-authorship-corpus/\n",
        "!unzip ./datasets/blog-authorship-corpus/*.zip  -d ./datasets/blog-authorship-corpus\n",
        "!ls ./datasets/library-collection\n"
      ],
      "execution_count": 13,
      "outputs": [
        {
          "output_type": "stream",
          "name": "stdout",
          "text": [
            "Downloading blogtext.csv.zip to ./datasets/blog-authorship-corpus\n",
            " 96% 279M/290M [00:03<00:00, 127MB/s]\n",
            "100% 290M/290M [00:03<00:00, 94.2MB/s]\n",
            "Archive:  ./datasets/blog-authorship-corpus/blogtext.csv.zip\n",
            "  inflating: ./datasets/blog-authorship-corpus/blogtext.csv  \n",
            "library-collection-inventory.csv  library-collection-inventory.csv.zip\n"
          ]
        }
      ]
    },
    {
      "cell_type": "code",
      "metadata": {
        "id": "VaLrnDGoq1z9",
        "colab": {
          "base_uri": "https://localhost:8080/",
          "height": 632
        },
        "outputId": "f553b4c9-86af-4237-cd57-dd506c9a53f2"
      },
      "source": [
        "sf = tc.SFrame.read_csv(\"/content/datasets/blog-authorship-corpus/blogtext.csv\", nrows=1000)\n",
        "sf"
      ],
      "execution_count": 14,
      "outputs": [
        {
          "output_type": "display_data",
          "data": {
            "text/html": [
              "<pre>Finished parsing file /content/datasets/blog-authorship-corpus/blogtext.csv</pre>"
            ],
            "text/plain": [
              "Finished parsing file /content/datasets/blog-authorship-corpus/blogtext.csv"
            ]
          },
          "metadata": {}
        },
        {
          "output_type": "display_data",
          "data": {
            "text/html": [
              "<pre>Parsing completed. Parsed 100 lines in 2.17882 secs.</pre>"
            ],
            "text/plain": [
              "Parsing completed. Parsed 100 lines in 2.17882 secs."
            ]
          },
          "metadata": {}
        },
        {
          "output_type": "stream",
          "name": "stdout",
          "text": [
            "------------------------------------------------------\n",
            "Inferred types from first 100 line(s) of file as \n",
            "column_type_hints=[int,str,int,str,str,str,str]\n",
            "If parsing fails due to incorrect types, you can correct\n",
            "the inferred type list above and pass it to read_csv in\n",
            "the column_type_hints argument\n",
            "------------------------------------------------------\n"
          ]
        },
        {
          "output_type": "display_data",
          "data": {
            "text/html": [
              "<pre>Finished parsing file /content/datasets/blog-authorship-corpus/blogtext.csv</pre>"
            ],
            "text/plain": [
              "Finished parsing file /content/datasets/blog-authorship-corpus/blogtext.csv"
            ]
          },
          "metadata": {}
        },
        {
          "output_type": "display_data",
          "data": {
            "text/html": [
              "<pre>Parsing completed. Parsed 1000 lines in 1.00682 secs.</pre>"
            ],
            "text/plain": [
              "Parsing completed. Parsed 1000 lines in 1.00682 secs."
            ]
          },
          "metadata": {}
        },
        {
          "output_type": "execute_result",
          "data": {
            "text/html": [
              "<div style=\"max-height:1000px;max-width:1500px;overflow:auto;\"><table frame=\"box\" rules=\"cols\">\n",
              "    <tr>\n",
              "        <th style=\"padding-left: 1em; padding-right: 1em; text-align: center\">id</th>\n",
              "        <th style=\"padding-left: 1em; padding-right: 1em; text-align: center\">gender</th>\n",
              "        <th style=\"padding-left: 1em; padding-right: 1em; text-align: center\">age</th>\n",
              "        <th style=\"padding-left: 1em; padding-right: 1em; text-align: center\">topic</th>\n",
              "        <th style=\"padding-left: 1em; padding-right: 1em; text-align: center\">sign</th>\n",
              "        <th style=\"padding-left: 1em; padding-right: 1em; text-align: center\">date</th>\n",
              "        <th style=\"padding-left: 1em; padding-right: 1em; text-align: center\">text</th>\n",
              "    </tr>\n",
              "    <tr>\n",
              "        <td style=\"padding-left: 1em; padding-right: 1em; text-align: center; vertical-align: top\">2059027</td>\n",
              "        <td style=\"padding-left: 1em; padding-right: 1em; text-align: center; vertical-align: top\">male</td>\n",
              "        <td style=\"padding-left: 1em; padding-right: 1em; text-align: center; vertical-align: top\">15</td>\n",
              "        <td style=\"padding-left: 1em; padding-right: 1em; text-align: center; vertical-align: top\">Student</td>\n",
              "        <td style=\"padding-left: 1em; padding-right: 1em; text-align: center; vertical-align: top\">Leo</td>\n",
              "        <td style=\"padding-left: 1em; padding-right: 1em; text-align: center; vertical-align: top\">14,May,2004</td>\n",
              "        <td style=\"padding-left: 1em; padding-right: 1em; text-align: center; vertical-align: top\">           Info has been<br>found (+/- 100 pages, ...</td>\n",
              "    </tr>\n",
              "    <tr>\n",
              "        <td style=\"padding-left: 1em; padding-right: 1em; text-align: center; vertical-align: top\">2059027</td>\n",
              "        <td style=\"padding-left: 1em; padding-right: 1em; text-align: center; vertical-align: top\">male</td>\n",
              "        <td style=\"padding-left: 1em; padding-right: 1em; text-align: center; vertical-align: top\">15</td>\n",
              "        <td style=\"padding-left: 1em; padding-right: 1em; text-align: center; vertical-align: top\">Student</td>\n",
              "        <td style=\"padding-left: 1em; padding-right: 1em; text-align: center; vertical-align: top\">Leo</td>\n",
              "        <td style=\"padding-left: 1em; padding-right: 1em; text-align: center; vertical-align: top\">13,May,2004</td>\n",
              "        <td style=\"padding-left: 1em; padding-right: 1em; text-align: center; vertical-align: top\">           These are the<br>team members:   Drewes ...</td>\n",
              "    </tr>\n",
              "    <tr>\n",
              "        <td style=\"padding-left: 1em; padding-right: 1em; text-align: center; vertical-align: top\">2059027</td>\n",
              "        <td style=\"padding-left: 1em; padding-right: 1em; text-align: center; vertical-align: top\">male</td>\n",
              "        <td style=\"padding-left: 1em; padding-right: 1em; text-align: center; vertical-align: top\">15</td>\n",
              "        <td style=\"padding-left: 1em; padding-right: 1em; text-align: center; vertical-align: top\">Student</td>\n",
              "        <td style=\"padding-left: 1em; padding-right: 1em; text-align: center; vertical-align: top\">Leo</td>\n",
              "        <td style=\"padding-left: 1em; padding-right: 1em; text-align: center; vertical-align: top\">12,May,2004</td>\n",
              "        <td style=\"padding-left: 1em; padding-right: 1em; text-align: center; vertical-align: top\">           In het kader<br>van kernfusie op aarde: ...</td>\n",
              "    </tr>\n",
              "    <tr>\n",
              "        <td style=\"padding-left: 1em; padding-right: 1em; text-align: center; vertical-align: top\">2059027</td>\n",
              "        <td style=\"padding-left: 1em; padding-right: 1em; text-align: center; vertical-align: top\">male</td>\n",
              "        <td style=\"padding-left: 1em; padding-right: 1em; text-align: center; vertical-align: top\">15</td>\n",
              "        <td style=\"padding-left: 1em; padding-right: 1em; text-align: center; vertical-align: top\">Student</td>\n",
              "        <td style=\"padding-left: 1em; padding-right: 1em; text-align: center; vertical-align: top\">Leo</td>\n",
              "        <td style=\"padding-left: 1em; padding-right: 1em; text-align: center; vertical-align: top\">12,May,2004</td>\n",
              "        <td style=\"padding-left: 1em; padding-right: 1em; text-align: center; vertical-align: top\">           testing!!!<br>testing!!! ...</td>\n",
              "    </tr>\n",
              "    <tr>\n",
              "        <td style=\"padding-left: 1em; padding-right: 1em; text-align: center; vertical-align: top\">3581210</td>\n",
              "        <td style=\"padding-left: 1em; padding-right: 1em; text-align: center; vertical-align: top\">male</td>\n",
              "        <td style=\"padding-left: 1em; padding-right: 1em; text-align: center; vertical-align: top\">33</td>\n",
              "        <td style=\"padding-left: 1em; padding-right: 1em; text-align: center; vertical-align: top\">InvestmentBanking</td>\n",
              "        <td style=\"padding-left: 1em; padding-right: 1em; text-align: center; vertical-align: top\">Aquarius</td>\n",
              "        <td style=\"padding-left: 1em; padding-right: 1em; text-align: center; vertical-align: top\">11,June,2004</td>\n",
              "        <td style=\"padding-left: 1em; padding-right: 1em; text-align: center; vertical-align: top\">             Thanks to<br>Yahoo!&#x27;s Toolbar I can ...</td>\n",
              "    </tr>\n",
              "    <tr>\n",
              "        <td style=\"padding-left: 1em; padding-right: 1em; text-align: center; vertical-align: top\">3581210</td>\n",
              "        <td style=\"padding-left: 1em; padding-right: 1em; text-align: center; vertical-align: top\">male</td>\n",
              "        <td style=\"padding-left: 1em; padding-right: 1em; text-align: center; vertical-align: top\">33</td>\n",
              "        <td style=\"padding-left: 1em; padding-right: 1em; text-align: center; vertical-align: top\">InvestmentBanking</td>\n",
              "        <td style=\"padding-left: 1em; padding-right: 1em; text-align: center; vertical-align: top\">Aquarius</td>\n",
              "        <td style=\"padding-left: 1em; padding-right: 1em; text-align: center; vertical-align: top\">10,June,2004</td>\n",
              "        <td style=\"padding-left: 1em; padding-right: 1em; text-align: center; vertical-align: top\">             I had an<br>interesting conversation ...</td>\n",
              "    </tr>\n",
              "    <tr>\n",
              "        <td style=\"padding-left: 1em; padding-right: 1em; text-align: center; vertical-align: top\">3581210</td>\n",
              "        <td style=\"padding-left: 1em; padding-right: 1em; text-align: center; vertical-align: top\">male</td>\n",
              "        <td style=\"padding-left: 1em; padding-right: 1em; text-align: center; vertical-align: top\">33</td>\n",
              "        <td style=\"padding-left: 1em; padding-right: 1em; text-align: center; vertical-align: top\">InvestmentBanking</td>\n",
              "        <td style=\"padding-left: 1em; padding-right: 1em; text-align: center; vertical-align: top\">Aquarius</td>\n",
              "        <td style=\"padding-left: 1em; padding-right: 1em; text-align: center; vertical-align: top\">10,June,2004</td>\n",
              "        <td style=\"padding-left: 1em; padding-right: 1em; text-align: center; vertical-align: top\">             Somehow<br>Coca-Cola has a way of ...</td>\n",
              "    </tr>\n",
              "    <tr>\n",
              "        <td style=\"padding-left: 1em; padding-right: 1em; text-align: center; vertical-align: top\">3581210</td>\n",
              "        <td style=\"padding-left: 1em; padding-right: 1em; text-align: center; vertical-align: top\">male</td>\n",
              "        <td style=\"padding-left: 1em; padding-right: 1em; text-align: center; vertical-align: top\">33</td>\n",
              "        <td style=\"padding-left: 1em; padding-right: 1em; text-align: center; vertical-align: top\">InvestmentBanking</td>\n",
              "        <td style=\"padding-left: 1em; padding-right: 1em; text-align: center; vertical-align: top\">Aquarius</td>\n",
              "        <td style=\"padding-left: 1em; padding-right: 1em; text-align: center; vertical-align: top\">10,June,2004</td>\n",
              "        <td style=\"padding-left: 1em; padding-right: 1em; text-align: center; vertical-align: top\">             If anything,<br>Korea is a country of ...</td>\n",
              "    </tr>\n",
              "    <tr>\n",
              "        <td style=\"padding-left: 1em; padding-right: 1em; text-align: center; vertical-align: top\">3581210</td>\n",
              "        <td style=\"padding-left: 1em; padding-right: 1em; text-align: center; vertical-align: top\">male</td>\n",
              "        <td style=\"padding-left: 1em; padding-right: 1em; text-align: center; vertical-align: top\">33</td>\n",
              "        <td style=\"padding-left: 1em; padding-right: 1em; text-align: center; vertical-align: top\">InvestmentBanking</td>\n",
              "        <td style=\"padding-left: 1em; padding-right: 1em; text-align: center; vertical-align: top\">Aquarius</td>\n",
              "        <td style=\"padding-left: 1em; padding-right: 1em; text-align: center; vertical-align: top\">10,June,2004</td>\n",
              "        <td style=\"padding-left: 1em; padding-right: 1em; text-align: center; vertical-align: top\">             Take a read<br>of this news article  ...</td>\n",
              "    </tr>\n",
              "    <tr>\n",
              "        <td style=\"padding-left: 1em; padding-right: 1em; text-align: center; vertical-align: top\">3581210</td>\n",
              "        <td style=\"padding-left: 1em; padding-right: 1em; text-align: center; vertical-align: top\">male</td>\n",
              "        <td style=\"padding-left: 1em; padding-right: 1em; text-align: center; vertical-align: top\">33</td>\n",
              "        <td style=\"padding-left: 1em; padding-right: 1em; text-align: center; vertical-align: top\">InvestmentBanking</td>\n",
              "        <td style=\"padding-left: 1em; padding-right: 1em; text-align: center; vertical-align: top\">Aquarius</td>\n",
              "        <td style=\"padding-left: 1em; padding-right: 1em; text-align: center; vertical-align: top\">09,June,2004</td>\n",
              "        <td style=\"padding-left: 1em; padding-right: 1em; text-align: center; vertical-align: top\">             I surf the<br>English news sites a lot ...</td>\n",
              "    </tr>\n",
              "</table>\n",
              "[1000 rows x 7 columns]<br/>Note: Only the head of the SFrame is printed.<br/>You can use print_rows(num_rows=m, num_columns=n) to print more rows and columns.\n",
              "</div>"
            ],
            "text/plain": [
              "Columns:\n",
              "\tid\tint\n",
              "\tgender\tstr\n",
              "\tage\tint\n",
              "\ttopic\tstr\n",
              "\tsign\tstr\n",
              "\tdate\tstr\n",
              "\ttext\tstr\n",
              "\n",
              "Rows: 1000\n",
              "\n",
              "Data:\n",
              "+---------+--------+-----+-------------------+----------+--------------+\n",
              "|    id   | gender | age |       topic       |   sign   |     date     |\n",
              "+---------+--------+-----+-------------------+----------+--------------+\n",
              "| 2059027 |  male  |  15 |      Student      |   Leo    | 14,May,2004  |\n",
              "| 2059027 |  male  |  15 |      Student      |   Leo    | 13,May,2004  |\n",
              "| 2059027 |  male  |  15 |      Student      |   Leo    | 12,May,2004  |\n",
              "| 2059027 |  male  |  15 |      Student      |   Leo    | 12,May,2004  |\n",
              "| 3581210 |  male  |  33 | InvestmentBanking | Aquarius | 11,June,2004 |\n",
              "| 3581210 |  male  |  33 | InvestmentBanking | Aquarius | 10,June,2004 |\n",
              "| 3581210 |  male  |  33 | InvestmentBanking | Aquarius | 10,June,2004 |\n",
              "| 3581210 |  male  |  33 | InvestmentBanking | Aquarius | 10,June,2004 |\n",
              "| 3581210 |  male  |  33 | InvestmentBanking | Aquarius | 10,June,2004 |\n",
              "| 3581210 |  male  |  33 | InvestmentBanking | Aquarius | 09,June,2004 |\n",
              "+---------+--------+-----+-------------------+----------+--------------+\n",
              "+-------------------------------+\n",
              "|              text             |\n",
              "+-------------------------------+\n",
              "|            Info has been f... |\n",
              "|            These are the t... |\n",
              "|            In het kader va... |\n",
              "|            testing!!!  tes... |\n",
              "|              Thanks to Yah... |\n",
              "|              I had an inte... |\n",
              "|              Somehow Coca-... |\n",
              "|              If anything, ... |\n",
              "|              Take a read o... |\n",
              "|              I surf the En... |\n",
              "+-------------------------------+\n",
              "[1000 rows x 7 columns]\n",
              "Note: Only the head of the SFrame is printed.\n",
              "You can use print_rows(num_rows=m, num_columns=n) to print more rows and columns."
            ]
          },
          "metadata": {},
          "execution_count": 14
        }
      ]
    },
    {
      "cell_type": "markdown",
      "metadata": {
        "id": "_0vg8CJDuY8C"
      },
      "source": [
        "## Age stats by topic and gender"
      ]
    },
    {
      "cell_type": "code",
      "metadata": {
        "id": "7vBPRn71re71",
        "colab": {
          "base_uri": "https://localhost:8080/",
          "height": 274
        },
        "outputId": "55503121-630a-4a56-91c0-56e25462915c"
      },
      "source": [
        "mean=sf.groupby(key_column_names=[\"topic\", \"gender\"],operations={'mean': agg.MEAN(\"age\")} )\n",
        "age=sf.groupby(key_column_names=[\"topic\", \"gender\"],operations={\"median\":agg.QUANTILE(\"age\",0.5)} )\n",
        "age[\"median\"]=age[\"median\"].apply(lambda l: l[0])\n",
        "mean.join(age, on=[\"topic\",\"gender\"])"
      ],
      "execution_count": 15,
      "outputs": [
        {
          "output_type": "execute_result",
          "data": {
            "text/html": [
              "<div style=\"max-height:1000px;max-width:1500px;overflow:auto;\"><table frame=\"box\" rules=\"cols\">\n",
              "    <tr>\n",
              "        <th style=\"padding-left: 1em; padding-right: 1em; text-align: center\">gender</th>\n",
              "        <th style=\"padding-left: 1em; padding-right: 1em; text-align: center\">topic</th>\n",
              "        <th style=\"padding-left: 1em; padding-right: 1em; text-align: center\">mean</th>\n",
              "        <th style=\"padding-left: 1em; padding-right: 1em; text-align: center\">median</th>\n",
              "    </tr>\n",
              "    <tr>\n",
              "        <td style=\"padding-left: 1em; padding-right: 1em; text-align: center; vertical-align: top\">male</td>\n",
              "        <td style=\"padding-left: 1em; padding-right: 1em; text-align: center; vertical-align: top\">Non-Profit</td>\n",
              "        <td style=\"padding-left: 1em; padding-right: 1em; text-align: center; vertical-align: top\">25.0</td>\n",
              "        <td style=\"padding-left: 1em; padding-right: 1em; text-align: center; vertical-align: top\">25.0</td>\n",
              "    </tr>\n",
              "    <tr>\n",
              "        <td style=\"padding-left: 1em; padding-right: 1em; text-align: center; vertical-align: top\">male</td>\n",
              "        <td style=\"padding-left: 1em; padding-right: 1em; text-align: center; vertical-align: top\">Science</td>\n",
              "        <td style=\"padding-left: 1em; padding-right: 1em; text-align: center; vertical-align: top\">15.0</td>\n",
              "        <td style=\"padding-left: 1em; padding-right: 1em; text-align: center; vertical-align: top\">15.0</td>\n",
              "    </tr>\n",
              "    <tr>\n",
              "        <td style=\"padding-left: 1em; padding-right: 1em; text-align: center; vertical-align: top\">female</td>\n",
              "        <td style=\"padding-left: 1em; padding-right: 1em; text-align: center; vertical-align: top\">Student</td>\n",
              "        <td style=\"padding-left: 1em; padding-right: 1em; text-align: center; vertical-align: top\">16.75</td>\n",
              "        <td style=\"padding-left: 1em; padding-right: 1em; text-align: center; vertical-align: top\">17.0</td>\n",
              "    </tr>\n",
              "    <tr>\n",
              "        <td style=\"padding-left: 1em; padding-right: 1em; text-align: center; vertical-align: top\">male</td>\n",
              "        <td style=\"padding-left: 1em; padding-right: 1em; text-align: center; vertical-align: top\">Student</td>\n",
              "        <td style=\"padding-left: 1em; padding-right: 1em; text-align: center; vertical-align: top\">15.155172413793103</td>\n",
              "        <td style=\"padding-left: 1em; padding-right: 1em; text-align: center; vertical-align: top\">15.0</td>\n",
              "    </tr>\n",
              "    <tr>\n",
              "        <td style=\"padding-left: 1em; padding-right: 1em; text-align: center; vertical-align: top\">female</td>\n",
              "        <td style=\"padding-left: 1em; padding-right: 1em; text-align: center; vertical-align: top\">Banking</td>\n",
              "        <td style=\"padding-left: 1em; padding-right: 1em; text-align: center; vertical-align: top\">33.0</td>\n",
              "        <td style=\"padding-left: 1em; padding-right: 1em; text-align: center; vertical-align: top\">33.0</td>\n",
              "    </tr>\n",
              "    <tr>\n",
              "        <td style=\"padding-left: 1em; padding-right: 1em; text-align: center; vertical-align: top\">male</td>\n",
              "        <td style=\"padding-left: 1em; padding-right: 1em; text-align: center; vertical-align: top\">Engineering</td>\n",
              "        <td style=\"padding-left: 1em; padding-right: 1em; text-align: center; vertical-align: top\">24.0</td>\n",
              "        <td style=\"padding-left: 1em; padding-right: 1em; text-align: center; vertical-align: top\">24.0</td>\n",
              "    </tr>\n",
              "    <tr>\n",
              "        <td style=\"padding-left: 1em; padding-right: 1em; text-align: center; vertical-align: top\">female</td>\n",
              "        <td style=\"padding-left: 1em; padding-right: 1em; text-align: center; vertical-align: top\">Arts</td>\n",
              "        <td style=\"padding-left: 1em; padding-right: 1em; text-align: center; vertical-align: top\">15.0</td>\n",
              "        <td style=\"padding-left: 1em; padding-right: 1em; text-align: center; vertical-align: top\">15.0</td>\n",
              "    </tr>\n",
              "    <tr>\n",
              "        <td style=\"padding-left: 1em; padding-right: 1em; text-align: center; vertical-align: top\">female</td>\n",
              "        <td style=\"padding-left: 1em; padding-right: 1em; text-align: center; vertical-align: top\">Education</td>\n",
              "        <td style=\"padding-left: 1em; padding-right: 1em; text-align: center; vertical-align: top\">27.0</td>\n",
              "        <td style=\"padding-left: 1em; padding-right: 1em; text-align: center; vertical-align: top\">27.0</td>\n",
              "    </tr>\n",
              "    <tr>\n",
              "        <td style=\"padding-left: 1em; padding-right: 1em; text-align: center; vertical-align: top\">male</td>\n",
              "        <td style=\"padding-left: 1em; padding-right: 1em; text-align: center; vertical-align: top\">InvestmentBanking</td>\n",
              "        <td style=\"padding-left: 1em; padding-right: 1em; text-align: center; vertical-align: top\">33.0</td>\n",
              "        <td style=\"padding-left: 1em; padding-right: 1em; text-align: center; vertical-align: top\">33.0</td>\n",
              "    </tr>\n",
              "    <tr>\n",
              "        <td style=\"padding-left: 1em; padding-right: 1em; text-align: center; vertical-align: top\">male</td>\n",
              "        <td style=\"padding-left: 1em; padding-right: 1em; text-align: center; vertical-align: top\">Communications-Media</td>\n",
              "        <td style=\"padding-left: 1em; padding-right: 1em; text-align: center; vertical-align: top\">41.0</td>\n",
              "        <td style=\"padding-left: 1em; padding-right: 1em; text-align: center; vertical-align: top\">41.0</td>\n",
              "    </tr>\n",
              "</table>\n",
              "[14 rows x 4 columns]<br/>Note: Only the head of the SFrame is printed.<br/>You can use print_rows(num_rows=m, num_columns=n) to print more rows and columns.\n",
              "</div>"
            ],
            "text/plain": [
              "Columns:\n",
              "\tgender\tstr\n",
              "\ttopic\tstr\n",
              "\tmean\tfloat\n",
              "\tmedian\tfloat\n",
              "\n",
              "Rows: 14\n",
              "\n",
              "Data:\n",
              "+--------+----------------------+--------------------+--------+\n",
              "| gender |        topic         |        mean        | median |\n",
              "+--------+----------------------+--------------------+--------+\n",
              "|  male  |      Non-Profit      |        25.0        |  25.0  |\n",
              "|  male  |       Science        |        15.0        |  15.0  |\n",
              "| female |       Student        |       16.75        |  17.0  |\n",
              "|  male  |       Student        | 15.155172413793103 |  15.0  |\n",
              "| female |       Banking        |        33.0        |  33.0  |\n",
              "|  male  |     Engineering      |        24.0        |  24.0  |\n",
              "| female |         Arts         |        15.0        |  15.0  |\n",
              "| female |      Education       |        27.0        |  27.0  |\n",
              "|  male  |  InvestmentBanking   |        33.0        |  33.0  |\n",
              "|  male  | Communications-Media |        41.0        |  41.0  |\n",
              "+--------+----------------------+--------------------+--------+\n",
              "[14 rows x 4 columns]\n",
              "Note: Only the head of the SFrame is printed.\n",
              "You can use print_rows(num_rows=m, num_columns=n) to print more rows and columns."
            ]
          },
          "metadata": {},
          "execution_count": 15
        }
      ]
    },
    {
      "cell_type": "markdown",
      "metadata": {
        "id": "bTLgJDZfueB8"
      },
      "source": [
        "## Age stats by sign"
      ]
    },
    {
      "cell_type": "code",
      "metadata": {
        "id": "5dxJOgnluhcB",
        "colab": {
          "base_uri": "https://localhost:8080/",
          "height": 274
        },
        "outputId": "d7154eda-0a11-43f7-d42e-8bab419392dd"
      },
      "source": [
        "mean=sf.groupby(key_column_names=\"sign\",operations={'mean': agg.MEAN(\"age\")} )\n",
        "age=sf.groupby(key_column_names=\"sign\",operations={\"median\":agg.QUANTILE(\"age\",0.5)} )\n",
        "age[\"median\"]=age[\"median\"].apply(lambda l: l[0])\n",
        "mean.join(age, on=[\"sign\"])"
      ],
      "execution_count": 16,
      "outputs": [
        {
          "output_type": "execute_result",
          "data": {
            "text/html": [
              "<div style=\"max-height:1000px;max-width:1500px;overflow:auto;\"><table frame=\"box\" rules=\"cols\">\n",
              "    <tr>\n",
              "        <th style=\"padding-left: 1em; padding-right: 1em; text-align: center\">sign</th>\n",
              "        <th style=\"padding-left: 1em; padding-right: 1em; text-align: center\">mean</th>\n",
              "        <th style=\"padding-left: 1em; padding-right: 1em; text-align: center\">median</th>\n",
              "    </tr>\n",
              "    <tr>\n",
              "        <td style=\"padding-left: 1em; padding-right: 1em; text-align: center; vertical-align: top\">Sagittarius</td>\n",
              "        <td style=\"padding-left: 1em; padding-right: 1em; text-align: center; vertical-align: top\">24.244897959183675</td>\n",
              "        <td style=\"padding-left: 1em; padding-right: 1em; text-align: center; vertical-align: top\">23.0</td>\n",
              "    </tr>\n",
              "    <tr>\n",
              "        <td style=\"padding-left: 1em; padding-right: 1em; text-align: center; vertical-align: top\">Scorpio</td>\n",
              "        <td style=\"padding-left: 1em; padding-right: 1em; text-align: center; vertical-align: top\">22.353909465020575</td>\n",
              "        <td style=\"padding-left: 1em; padding-right: 1em; text-align: center; vertical-align: top\">24.0</td>\n",
              "    </tr>\n",
              "    <tr>\n",
              "        <td style=\"padding-left: 1em; padding-right: 1em; text-align: center; vertical-align: top\">Aquarius</td>\n",
              "        <td style=\"padding-left: 1em; padding-right: 1em; text-align: center; vertical-align: top\">28.243243243243253</td>\n",
              "        <td style=\"padding-left: 1em; padding-right: 1em; text-align: center; vertical-align: top\">27.0</td>\n",
              "    </tr>\n",
              "    <tr>\n",
              "        <td style=\"padding-left: 1em; padding-right: 1em; text-align: center; vertical-align: top\">Gemini</td>\n",
              "        <td style=\"padding-left: 1em; padding-right: 1em; text-align: center; vertical-align: top\">16.333333333333332</td>\n",
              "        <td style=\"padding-left: 1em; padding-right: 1em; text-align: center; vertical-align: top\">17.0</td>\n",
              "    </tr>\n",
              "    <tr>\n",
              "        <td style=\"padding-left: 1em; padding-right: 1em; text-align: center; vertical-align: top\">Leo</td>\n",
              "        <td style=\"padding-left: 1em; padding-right: 1em; text-align: center; vertical-align: top\">24.871794871794872</td>\n",
              "        <td style=\"padding-left: 1em; padding-right: 1em; text-align: center; vertical-align: top\">26.0</td>\n",
              "    </tr>\n",
              "    <tr>\n",
              "        <td style=\"padding-left: 1em; padding-right: 1em; text-align: center; vertical-align: top\">Capricorn</td>\n",
              "        <td style=\"padding-left: 1em; padding-right: 1em; text-align: center; vertical-align: top\">17.207792207792206</td>\n",
              "        <td style=\"padding-left: 1em; padding-right: 1em; text-align: center; vertical-align: top\">17.0</td>\n",
              "    </tr>\n",
              "    <tr>\n",
              "        <td style=\"padding-left: 1em; padding-right: 1em; text-align: center; vertical-align: top\">Cancer</td>\n",
              "        <td style=\"padding-left: 1em; padding-right: 1em; text-align: center; vertical-align: top\">24.228571428571428</td>\n",
              "        <td style=\"padding-left: 1em; padding-right: 1em; text-align: center; vertical-align: top\">25.0</td>\n",
              "    </tr>\n",
              "    <tr>\n",
              "        <td style=\"padding-left: 1em; padding-right: 1em; text-align: center; vertical-align: top\">Aries</td>\n",
              "        <td style=\"padding-left: 1em; padding-right: 1em; text-align: center; vertical-align: top\">15.630434782608699</td>\n",
              "        <td style=\"padding-left: 1em; padding-right: 1em; text-align: center; vertical-align: top\">17.0</td>\n",
              "    </tr>\n",
              "    <tr>\n",
              "        <td style=\"padding-left: 1em; padding-right: 1em; text-align: center; vertical-align: top\">Pisces</td>\n",
              "        <td style=\"padding-left: 1em; padding-right: 1em; text-align: center; vertical-align: top\">15.0</td>\n",
              "        <td style=\"padding-left: 1em; padding-right: 1em; text-align: center; vertical-align: top\">15.0</td>\n",
              "    </tr>\n",
              "    <tr>\n",
              "        <td style=\"padding-left: 1em; padding-right: 1em; text-align: center; vertical-align: top\">Virgo</td>\n",
              "        <td style=\"padding-left: 1em; padding-right: 1em; text-align: center; vertical-align: top\">23.0</td>\n",
              "        <td style=\"padding-left: 1em; padding-right: 1em; text-align: center; vertical-align: top\">23.0</td>\n",
              "    </tr>\n",
              "</table>\n",
              "[12 rows x 3 columns]<br/>Note: Only the head of the SFrame is printed.<br/>You can use print_rows(num_rows=m, num_columns=n) to print more rows and columns.\n",
              "</div>"
            ],
            "text/plain": [
              "Columns:\n",
              "\tsign\tstr\n",
              "\tmean\tfloat\n",
              "\tmedian\tfloat\n",
              "\n",
              "Rows: 12\n",
              "\n",
              "Data:\n",
              "+-------------+--------------------+--------+\n",
              "|     sign    |        mean        | median |\n",
              "+-------------+--------------------+--------+\n",
              "| Sagittarius | 24.244897959183675 |  23.0  |\n",
              "|   Scorpio   | 22.353909465020575 |  24.0  |\n",
              "|   Aquarius  | 28.243243243243253 |  27.0  |\n",
              "|    Gemini   | 16.333333333333332 |  17.0  |\n",
              "|     Leo     | 24.871794871794872 |  26.0  |\n",
              "|  Capricorn  | 17.207792207792206 |  17.0  |\n",
              "|    Cancer   | 24.228571428571428 |  25.0  |\n",
              "|    Aries    | 15.630434782608699 |  17.0  |\n",
              "|    Pisces   |        15.0        |  15.0  |\n",
              "|    Virgo    |        23.0        |  23.0  |\n",
              "+-------------+--------------------+--------+\n",
              "[12 rows x 3 columns]\n",
              "Note: Only the head of the SFrame is printed.\n",
              "You can use print_rows(num_rows=m, num_columns=n) to print more rows and columns."
            ]
          },
          "metadata": {},
          "execution_count": 16
        }
      ]
    },
    {
      "cell_type": "markdown",
      "metadata": {
        "id": "CtgSVf7PvEH2"
      },
      "source": [
        "## Visualization of age according to topic and gender"
      ]
    },
    {
      "cell_type": "code",
      "metadata": {
        "id": "BGJV1MFkvKIE"
      },
      "source": [
        "import plotly.figure_factory as ff\n",
        "import plotly.express as px\n",
        "sf3=sf[[\"age\", \"topic\", \"gender\"]]\n",
        "sf3[\"topic and gender\"]=\"topic: \"+sf[\"topic\"]+\"; gender: \"+sf[\"gender\"]\n",
        "topic_and_gender_list=sf3[\"topic and gender\"].unique()\n",
        "topic_and_gender_list\n",
        "\n",
        "name_list=[]\n",
        "age_list=[]\n",
        "for topic_gender in topic_and_gender_list:\n",
        "  name_list.append(topic_gender)\n",
        "  ages=list(sf3[sf3[\"topic and gender\"]==topic_gender][\"age\"])\n",
        "  age_list.append(ages)"
      ],
      "execution_count": 17,
      "outputs": []
    },
    {
      "cell_type": "code",
      "metadata": {
        "id": "D9_EFCJI1DYw",
        "colab": {
          "base_uri": "https://localhost:8080/",
          "height": 542
        },
        "outputId": "6ec657ff-20ba-4f53-f453-8dbc9b75714e"
      },
      "source": [
        "import plotly.express as px\n",
        "fig = px.histogram(sf3, x=\"age\", color=\"topic and gender\", marginal=\"rug\",\n",
        "                   hover_data=[\"age\", \"topic\", \"gender\"])\n",
        "fig.show()"
      ],
      "execution_count": 18,
      "outputs": [
        {
          "output_type": "display_data",
          "data": {
            "text/html": [
              "<html>\n",
              "<head><meta charset=\"utf-8\" /></head>\n",
              "<body>\n",
              "    <div>\n",
              "            <script src=\"https://cdnjs.cloudflare.com/ajax/libs/mathjax/2.7.5/MathJax.js?config=TeX-AMS-MML_SVG\"></script><script type=\"text/javascript\">if (window.MathJax) {MathJax.Hub.Config({SVG: {font: \"STIX-Web\"}});}</script>\n",
              "                <script type=\"text/javascript\">window.PlotlyConfig = {MathJaxConfig: 'local'};</script>\n",
              "        <script src=\"https://cdn.plot.ly/plotly-latest.min.js\"></script>    \n",
              "            <div id=\"261bf712-1325-4041-bd2a-c63ff0696ce1\" class=\"plotly-graph-div\" style=\"height:525px; width:100%;\"></div>\n",
              "            <script type=\"text/javascript\">\n",
              "                \n",
              "                    window.PLOTLYENV=window.PLOTLYENV || {};\n",
              "                    \n",
              "                if (document.getElementById(\"261bf712-1325-4041-bd2a-c63ff0696ce1\")) {\n",
              "                    Plotly.newPlot(\n",
              "                        '261bf712-1325-4041-bd2a-c63ff0696ce1',\n",
              "                        [{\"alignmentgroup\": \"True\", \"bingroup\": \"x\", \"hoverlabel\": {\"namelength\": 0}, \"hovertemplate\": \"topic and gender=topic: Student; gender: male<br>age=%{x}<br>count=%{y}\", \"legendgroup\": \"topic and gender=topic: Student; gender: male\", \"marker\": {\"color\": \"#636efa\"}, \"name\": \"topic and gender=topic: Student; gender: male\", \"offsetgroup\": \"topic and gender=topic: Student; gender: male\", \"orientation\": \"v\", \"showlegend\": true, \"type\": \"histogram\", \"x\": [15, 15, 15, 15, 15, 15, 15, 15, 15, 15, 15, 15, 15, 15, 15, 15, 15, 15, 15, 15, 15, 15, 15, 15, 15, 15, 15, 15, 15, 15, 15, 15, 15, 15, 15, 15, 15, 15, 17, 17, 17, 17, 17, 17, 17, 17, 17, 17, 17, 17, 17, 17, 17, 17, 17, 17, 17, 17, 17, 17, 17, 17, 17, 17, 17, 17, 17, 17, 17, 17, 14, 14, 14, 14, 14, 14, 14, 14, 14, 14, 14, 14, 14, 14, 14, 14, 14, 14, 14, 14, 14, 14, 14, 14, 14, 14, 14, 14, 14, 14, 14, 14, 14, 14, 14, 14, 14, 14, 14, 14, 14, 14, 14, 14, 14, 14], \"xaxis\": \"x\", \"yaxis\": \"y\"}, {\"alignmentgroup\": \"True\", \"boxpoints\": \"all\", \"customdata\": [[15, \"Student\", \"male\"], [15, \"Student\", \"male\"], [15, \"Student\", \"male\"], [15, \"Student\", \"male\"], [15, \"Student\", \"male\"], [15, \"Student\", \"male\"], [15, \"Student\", \"male\"], [15, \"Student\", \"male\"], [15, \"Student\", \"male\"], [15, \"Student\", \"male\"], [15, \"Student\", \"male\"], [15, \"Student\", \"male\"], [15, \"Student\", \"male\"], [15, \"Student\", \"male\"], [15, \"Student\", \"male\"], [15, \"Student\", \"male\"], [15, \"Student\", \"male\"], [15, \"Student\", \"male\"], [15, \"Student\", \"male\"], [15, \"Student\", \"male\"], [15, \"Student\", \"male\"], [15, \"Student\", \"male\"], [15, \"Student\", \"male\"], [15, \"Student\", \"male\"], [15, \"Student\", \"male\"], [15, \"Student\", \"male\"], [15, \"Student\", \"male\"], [15, \"Student\", \"male\"], [15, \"Student\", \"male\"], [15, \"Student\", \"male\"], [15, \"Student\", \"male\"], [15, \"Student\", \"male\"], [15, \"Student\", \"male\"], [15, \"Student\", \"male\"], [15, \"Student\", \"male\"], [15, \"Student\", \"male\"], [15, \"Student\", \"male\"], [15, \"Student\", \"male\"], [17, \"Student\", \"male\"], [17, \"Student\", \"male\"], [17, \"Student\", \"male\"], [17, \"Student\", \"male\"], [17, \"Student\", \"male\"], [17, \"Student\", \"male\"], [17, \"Student\", \"male\"], [17, \"Student\", \"male\"], [17, \"Student\", \"male\"], [17, \"Student\", \"male\"], [17, \"Student\", \"male\"], [17, \"Student\", \"male\"], [17, \"Student\", \"male\"], [17, \"Student\", \"male\"], [17, \"Student\", \"male\"], [17, \"Student\", \"male\"], [17, \"Student\", \"male\"], [17, \"Student\", \"male\"], [17, \"Student\", \"male\"], [17, \"Student\", \"male\"], [17, \"Student\", \"male\"], [17, \"Student\", \"male\"], [17, \"Student\", \"male\"], [17, \"Student\", \"male\"], [17, \"Student\", \"male\"], [17, \"Student\", \"male\"], [17, \"Student\", \"male\"], [17, \"Student\", \"male\"], [17, \"Student\", \"male\"], [17, \"Student\", \"male\"], [17, \"Student\", \"male\"], [17, \"Student\", \"male\"], [14, \"Student\", \"male\"], [14, \"Student\", \"male\"], [14, \"Student\", \"male\"], [14, \"Student\", \"male\"], [14, \"Student\", \"male\"], [14, \"Student\", \"male\"], [14, \"Student\", \"male\"], [14, \"Student\", \"male\"], [14, \"Student\", \"male\"], [14, \"Student\", \"male\"], [14, \"Student\", \"male\"], [14, \"Student\", \"male\"], [14, \"Student\", \"male\"], [14, \"Student\", \"male\"], [14, \"Student\", \"male\"], [14, \"Student\", \"male\"], [14, \"Student\", \"male\"], [14, \"Student\", \"male\"], [14, \"Student\", \"male\"], [14, \"Student\", \"male\"], [14, \"Student\", \"male\"], [14, \"Student\", \"male\"], [14, \"Student\", \"male\"], [14, \"Student\", \"male\"], [14, \"Student\", \"male\"], [14, \"Student\", \"male\"], [14, \"Student\", \"male\"], [14, \"Student\", \"male\"], [14, \"Student\", \"male\"], [14, \"Student\", \"male\"], [14, \"Student\", \"male\"], [14, \"Student\", \"male\"], [14, \"Student\", \"male\"], [14, \"Student\", \"male\"], [14, \"Student\", \"male\"], [14, \"Student\", \"male\"], [14, \"Student\", \"male\"], [14, \"Student\", \"male\"], [14, \"Student\", \"male\"], [14, \"Student\", \"male\"], [14, \"Student\", \"male\"], [14, \"Student\", \"male\"], [14, \"Student\", \"male\"], [14, \"Student\", \"male\"], [14, \"Student\", \"male\"], [14, \"Student\", \"male\"]], \"fillcolor\": \"rgba(255,255,255,0)\", \"hoverlabel\": {\"namelength\": 0}, \"hoveron\": \"points\", \"hovertemplate\": \"topic and gender=topic: Student; gender: male<br>age=%{customdata[0]}<br>topic=%{customdata[1]}<br>gender=%{customdata[2]}\", \"jitter\": 0, \"legendgroup\": \"topic and gender=topic: Student; gender: male\", \"line\": {\"color\": \"rgba(255,255,255,0)\"}, \"marker\": {\"color\": \"#636efa\", \"symbol\": \"line-ns-open\"}, \"name\": \"topic and gender=topic: Student; gender: male\", \"offsetgroup\": \"topic and gender=topic: Student; gender: male\", \"showlegend\": false, \"type\": \"box\", \"x\": [15, 15, 15, 15, 15, 15, 15, 15, 15, 15, 15, 15, 15, 15, 15, 15, 15, 15, 15, 15, 15, 15, 15, 15, 15, 15, 15, 15, 15, 15, 15, 15, 15, 15, 15, 15, 15, 15, 17, 17, 17, 17, 17, 17, 17, 17, 17, 17, 17, 17, 17, 17, 17, 17, 17, 17, 17, 17, 17, 17, 17, 17, 17, 17, 17, 17, 17, 17, 17, 17, 14, 14, 14, 14, 14, 14, 14, 14, 14, 14, 14, 14, 14, 14, 14, 14, 14, 14, 14, 14, 14, 14, 14, 14, 14, 14, 14, 14, 14, 14, 14, 14, 14, 14, 14, 14, 14, 14, 14, 14, 14, 14, 14, 14, 14, 14], \"xaxis\": \"x2\", \"yaxis\": \"y2\"}, {\"alignmentgroup\": \"True\", \"bingroup\": \"x\", \"hoverlabel\": {\"namelength\": 0}, \"hovertemplate\": \"topic and gender=topic: InvestmentBanking; gender: male<br>age=%{x}<br>count=%{y}\", \"legendgroup\": \"topic and gender=topic: InvestmentBanking; gender: male\", \"marker\": {\"color\": \"#EF553B\"}, \"name\": \"topic and gender=topic: InvestmentBanking; gender: male\", \"offsetgroup\": \"topic and gender=topic: InvestmentBanking; gender: male\", \"orientation\": \"v\", \"showlegend\": true, \"type\": \"histogram\", \"x\": [33, 33, 33, 33, 33, 33, 33, 33, 33, 33, 33, 33, 33, 33, 33, 33, 33, 33, 33, 33, 33, 33, 33, 33, 33, 33, 33, 33, 33, 33, 33, 33, 33, 33, 33, 33, 33, 33, 33, 33, 33, 33, 33, 33, 33, 33, 33, 33, 33, 33, 33, 33, 33, 33, 33, 33, 33, 33, 33, 33, 33, 33, 33, 33, 33, 33, 33, 33, 33, 33], \"xaxis\": \"x\", \"yaxis\": \"y\"}, {\"alignmentgroup\": \"True\", \"boxpoints\": \"all\", \"customdata\": [[33, \"InvestmentBanking\", \"male\"], [33, \"InvestmentBanking\", \"male\"], [33, \"InvestmentBanking\", \"male\"], [33, \"InvestmentBanking\", \"male\"], [33, \"InvestmentBanking\", \"male\"], [33, \"InvestmentBanking\", \"male\"], [33, \"InvestmentBanking\", \"male\"], [33, \"InvestmentBanking\", \"male\"], [33, \"InvestmentBanking\", \"male\"], [33, \"InvestmentBanking\", \"male\"], [33, \"InvestmentBanking\", \"male\"], [33, \"InvestmentBanking\", \"male\"], [33, \"InvestmentBanking\", \"male\"], [33, \"InvestmentBanking\", \"male\"], [33, \"InvestmentBanking\", \"male\"], [33, \"InvestmentBanking\", \"male\"], [33, \"InvestmentBanking\", \"male\"], [33, \"InvestmentBanking\", \"male\"], [33, \"InvestmentBanking\", \"male\"], [33, \"InvestmentBanking\", \"male\"], [33, \"InvestmentBanking\", \"male\"], [33, \"InvestmentBanking\", \"male\"], [33, \"InvestmentBanking\", \"male\"], [33, \"InvestmentBanking\", \"male\"], [33, \"InvestmentBanking\", \"male\"], [33, \"InvestmentBanking\", \"male\"], [33, \"InvestmentBanking\", \"male\"], [33, \"InvestmentBanking\", \"male\"], [33, \"InvestmentBanking\", \"male\"], [33, \"InvestmentBanking\", \"male\"], [33, \"InvestmentBanking\", \"male\"], [33, \"InvestmentBanking\", \"male\"], [33, \"InvestmentBanking\", \"male\"], [33, \"InvestmentBanking\", \"male\"], [33, \"InvestmentBanking\", \"male\"], [33, \"InvestmentBanking\", \"male\"], [33, \"InvestmentBanking\", \"male\"], [33, \"InvestmentBanking\", \"male\"], [33, \"InvestmentBanking\", \"male\"], [33, \"InvestmentBanking\", \"male\"], [33, \"InvestmentBanking\", \"male\"], [33, \"InvestmentBanking\", \"male\"], [33, \"InvestmentBanking\", \"male\"], [33, \"InvestmentBanking\", \"male\"], [33, \"InvestmentBanking\", \"male\"], [33, \"InvestmentBanking\", \"male\"], [33, \"InvestmentBanking\", \"male\"], [33, \"InvestmentBanking\", \"male\"], [33, \"InvestmentBanking\", \"male\"], [33, \"InvestmentBanking\", \"male\"], [33, \"InvestmentBanking\", \"male\"], [33, \"InvestmentBanking\", \"male\"], [33, \"InvestmentBanking\", \"male\"], [33, \"InvestmentBanking\", \"male\"], [33, \"InvestmentBanking\", \"male\"], [33, \"InvestmentBanking\", \"male\"], [33, \"InvestmentBanking\", \"male\"], [33, \"InvestmentBanking\", \"male\"], [33, \"InvestmentBanking\", \"male\"], [33, \"InvestmentBanking\", \"male\"], [33, \"InvestmentBanking\", \"male\"], [33, \"InvestmentBanking\", \"male\"], [33, \"InvestmentBanking\", \"male\"], [33, \"InvestmentBanking\", \"male\"], [33, \"InvestmentBanking\", \"male\"], [33, \"InvestmentBanking\", \"male\"], [33, \"InvestmentBanking\", \"male\"], [33, \"InvestmentBanking\", \"male\"], [33, \"InvestmentBanking\", \"male\"], [33, \"InvestmentBanking\", \"male\"]], \"fillcolor\": \"rgba(255,255,255,0)\", \"hoverlabel\": {\"namelength\": 0}, \"hoveron\": \"points\", \"hovertemplate\": \"topic and gender=topic: InvestmentBanking; gender: male<br>age=%{customdata[0]}<br>topic=%{customdata[1]}<br>gender=%{customdata[2]}\", \"jitter\": 0, \"legendgroup\": \"topic and gender=topic: InvestmentBanking; gender: male\", \"line\": {\"color\": \"rgba(255,255,255,0)\"}, \"marker\": {\"color\": \"#EF553B\", \"symbol\": \"line-ns-open\"}, \"name\": \"topic and gender=topic: InvestmentBanking; gender: male\", \"offsetgroup\": \"topic and gender=topic: InvestmentBanking; gender: male\", \"showlegend\": false, \"type\": \"box\", \"x\": [33, 33, 33, 33, 33, 33, 33, 33, 33, 33, 33, 33, 33, 33, 33, 33, 33, 33, 33, 33, 33, 33, 33, 33, 33, 33, 33, 33, 33, 33, 33, 33, 33, 33, 33, 33, 33, 33, 33, 33, 33, 33, 33, 33, 33, 33, 33, 33, 33, 33, 33, 33, 33, 33, 33, 33, 33, 33, 33, 33, 33, 33, 33, 33, 33, 33, 33, 33, 33, 33], \"xaxis\": \"x2\", \"yaxis\": \"y2\"}, {\"alignmentgroup\": \"True\", \"bingroup\": \"x\", \"hoverlabel\": {\"namelength\": 0}, \"hovertemplate\": \"topic and gender=topic: indUnk; gender: female<br>age=%{x}<br>count=%{y}\", \"legendgroup\": \"topic and gender=topic: indUnk; gender: female\", \"marker\": {\"color\": \"#00cc96\"}, \"name\": \"topic and gender=topic: indUnk; gender: female\", \"offsetgroup\": \"topic and gender=topic: indUnk; gender: female\", \"orientation\": \"v\", \"showlegend\": true, \"type\": \"histogram\", \"x\": [14, 14, 14, 14, 14, 14, 14, 14, 14, 14, 14, 14, 14, 14, 14, 14, 14, 14, 14, 14, 14, 25, 25, 23, 37, 37, 37, 37, 37, 37, 37, 37, 37, 37, 37, 37, 37, 37, 37, 37, 37, 37, 37, 25, 25, 25, 24, 24, 24, 24, 24, 24, 24, 24, 24, 24, 24, 24, 24, 24, 24, 24, 24, 24, 24, 24, 24, 24, 24, 24, 24, 24, 24, 24, 24, 24, 24, 24, 24, 24, 24, 24, 24, 24, 24, 24, 24, 24, 24, 24, 24, 24, 24, 24, 24, 24, 24, 24, 24, 24, 24, 24, 24, 24, 24, 24, 24, 24, 24, 24, 24, 24, 24, 24, 24, 24, 24, 24, 24, 24, 24, 24, 24, 24, 24, 24, 24, 24, 24, 24, 24, 24, 24, 24, 24, 24, 24, 24, 24, 24, 24, 24, 24, 24, 24, 24, 24, 24, 24, 24, 24, 24, 24, 24, 24, 24, 24, 24, 24, 24, 24, 24, 24, 24, 24, 24, 24, 24, 24, 24, 24, 24, 24, 24, 24, 24, 24, 24, 24, 24, 24, 24, 24, 24, 24, 24, 24, 24, 24, 24, 24, 24, 24, 24, 24, 24, 24, 24, 24, 24, 24, 24, 24, 24, 24, 24, 24, 24, 24, 24, 24, 24, 24, 24, 24, 24, 24, 24, 24, 24, 24, 24, 24, 24, 24, 24, 24, 24, 24, 24, 24, 24, 24, 24, 24, 24, 24, 45, 45, 45, 45, 45, 45, 45, 45, 45, 45, 45, 45, 45, 45, 34, 34, 34, 34, 34, 34, 14, 14, 14, 23, 23, 23, 23, 23, 23, 23, 23, 23, 23, 23, 23, 23, 23, 23, 23, 23, 23, 23, 25, 25, 25, 25, 25, 25], \"xaxis\": \"x\", \"yaxis\": \"y\"}, {\"alignmentgroup\": \"True\", \"boxpoints\": \"all\", \"customdata\": [[14, \"indUnk\", \"female\"], [14, \"indUnk\", \"female\"], [14, \"indUnk\", \"female\"], [14, \"indUnk\", \"female\"], [14, \"indUnk\", \"female\"], [14, \"indUnk\", \"female\"], [14, \"indUnk\", \"female\"], [14, \"indUnk\", \"female\"], [14, \"indUnk\", \"female\"], [14, \"indUnk\", \"female\"], [14, \"indUnk\", \"female\"], [14, \"indUnk\", \"female\"], [14, \"indUnk\", \"female\"], [14, \"indUnk\", \"female\"], [14, \"indUnk\", \"female\"], [14, \"indUnk\", \"female\"], [14, \"indUnk\", \"female\"], [14, \"indUnk\", \"female\"], [14, \"indUnk\", \"female\"], [14, \"indUnk\", \"female\"], [14, \"indUnk\", \"female\"], [25, \"indUnk\", \"female\"], [25, \"indUnk\", \"female\"], [23, \"indUnk\", \"female\"], [37, \"indUnk\", \"female\"], [37, \"indUnk\", \"female\"], [37, \"indUnk\", \"female\"], [37, \"indUnk\", \"female\"], [37, \"indUnk\", \"female\"], [37, \"indUnk\", \"female\"], [37, \"indUnk\", \"female\"], [37, \"indUnk\", \"female\"], [37, \"indUnk\", \"female\"], [37, \"indUnk\", \"female\"], [37, \"indUnk\", \"female\"], [37, \"indUnk\", \"female\"], [37, \"indUnk\", \"female\"], [37, \"indUnk\", \"female\"], [37, \"indUnk\", \"female\"], [37, \"indUnk\", \"female\"], [37, \"indUnk\", \"female\"], [37, \"indUnk\", \"female\"], [37, \"indUnk\", \"female\"], [25, \"indUnk\", \"female\"], [25, \"indUnk\", \"female\"], [25, \"indUnk\", \"female\"], [24, \"indUnk\", \"female\"], [24, \"indUnk\", \"female\"], [24, \"indUnk\", \"female\"], [24, \"indUnk\", \"female\"], [24, \"indUnk\", \"female\"], [24, \"indUnk\", \"female\"], [24, \"indUnk\", \"female\"], [24, \"indUnk\", \"female\"], [24, \"indUnk\", \"female\"], [24, \"indUnk\", \"female\"], [24, \"indUnk\", \"female\"], [24, \"indUnk\", \"female\"], [24, \"indUnk\", \"female\"], [24, \"indUnk\", \"female\"], [24, \"indUnk\", \"female\"], [24, \"indUnk\", \"female\"], [24, \"indUnk\", \"female\"], [24, \"indUnk\", \"female\"], [24, \"indUnk\", \"female\"], [24, \"indUnk\", \"female\"], [24, \"indUnk\", \"female\"], [24, \"indUnk\", \"female\"], [24, \"indUnk\", \"female\"], [24, \"indUnk\", \"female\"], [24, \"indUnk\", \"female\"], [24, \"indUnk\", \"female\"], [24, \"indUnk\", \"female\"], [24, \"indUnk\", \"female\"], [24, \"indUnk\", \"female\"], [24, \"indUnk\", \"female\"], [24, \"indUnk\", \"female\"], [24, \"indUnk\", \"female\"], [24, \"indUnk\", \"female\"], [24, \"indUnk\", \"female\"], [24, \"indUnk\", \"female\"], [24, \"indUnk\", \"female\"], [24, \"indUnk\", \"female\"], [24, \"indUnk\", \"female\"], [24, \"indUnk\", \"female\"], [24, \"indUnk\", \"female\"], [24, \"indUnk\", \"female\"], [24, \"indUnk\", \"female\"], [24, \"indUnk\", \"female\"], [24, \"indUnk\", \"female\"], [24, \"indUnk\", \"female\"], [24, \"indUnk\", \"female\"], [24, \"indUnk\", \"female\"], [24, \"indUnk\", \"female\"], [24, \"indUnk\", \"female\"], [24, \"indUnk\", \"female\"], [24, \"indUnk\", \"female\"], [24, \"indUnk\", \"female\"], [24, \"indUnk\", \"female\"], [24, \"indUnk\", \"female\"], [24, \"indUnk\", \"female\"], [24, \"indUnk\", \"female\"], [24, \"indUnk\", \"female\"], [24, \"indUnk\", \"female\"], [24, \"indUnk\", \"female\"], [24, \"indUnk\", \"female\"], [24, \"indUnk\", \"female\"], [24, \"indUnk\", \"female\"], [24, \"indUnk\", \"female\"], [24, \"indUnk\", \"female\"], [24, \"indUnk\", \"female\"], [24, \"indUnk\", \"female\"], [24, \"indUnk\", \"female\"], [24, \"indUnk\", \"female\"], [24, \"indUnk\", \"female\"], [24, \"indUnk\", \"female\"], [24, \"indUnk\", \"female\"], [24, \"indUnk\", \"female\"], [24, \"indUnk\", \"female\"], [24, \"indUnk\", \"female\"], [24, \"indUnk\", \"female\"], [24, \"indUnk\", \"female\"], [24, \"indUnk\", \"female\"], [24, \"indUnk\", \"female\"], [24, \"indUnk\", \"female\"], [24, \"indUnk\", \"female\"], [24, \"indUnk\", \"female\"], [24, \"indUnk\", \"female\"], [24, \"indUnk\", \"female\"], [24, \"indUnk\", \"female\"], [24, \"indUnk\", \"female\"], [24, \"indUnk\", \"female\"], [24, \"indUnk\", \"female\"], [24, \"indUnk\", \"female\"], [24, \"indUnk\", \"female\"], [24, \"indUnk\", \"female\"], [24, \"indUnk\", \"female\"], [24, \"indUnk\", \"female\"], [24, \"indUnk\", \"female\"], [24, \"indUnk\", \"female\"], [24, \"indUnk\", \"female\"], [24, \"indUnk\", \"female\"], [24, \"indUnk\", \"female\"], [24, \"indUnk\", \"female\"], [24, \"indUnk\", \"female\"], [24, \"indUnk\", \"female\"], [24, \"indUnk\", \"female\"], [24, \"indUnk\", \"female\"], [24, \"indUnk\", \"female\"], [24, \"indUnk\", \"female\"], [24, \"indUnk\", \"female\"], [24, \"indUnk\", \"female\"], [24, \"indUnk\", \"female\"], [24, \"indUnk\", \"female\"], [24, \"indUnk\", \"female\"], [24, \"indUnk\", \"female\"], [24, \"indUnk\", \"female\"], [24, \"indUnk\", \"female\"], [24, \"indUnk\", \"female\"], [24, \"indUnk\", \"female\"], [24, \"indUnk\", \"female\"], [24, \"indUnk\", \"female\"], [24, \"indUnk\", \"female\"], [24, \"indUnk\", \"female\"], [24, \"indUnk\", \"female\"], [24, \"indUnk\", \"female\"], [24, \"indUnk\", \"female\"], [24, \"indUnk\", \"female\"], [24, \"indUnk\", \"female\"], [24, \"indUnk\", \"female\"], [24, \"indUnk\", \"female\"], [24, \"indUnk\", \"female\"], [24, \"indUnk\", \"female\"], [24, \"indUnk\", \"female\"], [24, \"indUnk\", \"female\"], [24, \"indUnk\", \"female\"], [24, \"indUnk\", \"female\"], [24, \"indUnk\", \"female\"], [24, \"indUnk\", \"female\"], [24, \"indUnk\", \"female\"], [24, \"indUnk\", \"female\"], [24, \"indUnk\", \"female\"], [24, \"indUnk\", \"female\"], [24, \"indUnk\", \"female\"], [24, \"indUnk\", \"female\"], [24, \"indUnk\", \"female\"], [24, \"indUnk\", \"female\"], [24, \"indUnk\", \"female\"], [24, \"indUnk\", \"female\"], [24, \"indUnk\", \"female\"], [24, \"indUnk\", \"female\"], [24, \"indUnk\", \"female\"], [24, \"indUnk\", \"female\"], [24, \"indUnk\", \"female\"], [24, \"indUnk\", \"female\"], [24, \"indUnk\", \"female\"], [24, \"indUnk\", \"female\"], [24, \"indUnk\", \"female\"], [24, \"indUnk\", \"female\"], [24, \"indUnk\", \"female\"], [24, \"indUnk\", \"female\"], [24, \"indUnk\", \"female\"], [24, \"indUnk\", \"female\"], [24, \"indUnk\", \"female\"], [24, \"indUnk\", \"female\"], [24, \"indUnk\", \"female\"], [24, \"indUnk\", \"female\"], [24, \"indUnk\", \"female\"], [24, \"indUnk\", \"female\"], [24, \"indUnk\", \"female\"], [24, \"indUnk\", \"female\"], [24, \"indUnk\", \"female\"], [24, \"indUnk\", \"female\"], [24, \"indUnk\", \"female\"], [24, \"indUnk\", \"female\"], [24, \"indUnk\", \"female\"], [24, \"indUnk\", \"female\"], [24, \"indUnk\", \"female\"], [24, \"indUnk\", \"female\"], [24, \"indUnk\", \"female\"], [24, \"indUnk\", \"female\"], [24, \"indUnk\", \"female\"], [24, \"indUnk\", \"female\"], [24, \"indUnk\", \"female\"], [24, \"indUnk\", \"female\"], [24, \"indUnk\", \"female\"], [24, \"indUnk\", \"female\"], [24, \"indUnk\", \"female\"], [24, \"indUnk\", \"female\"], [24, \"indUnk\", \"female\"], [24, \"indUnk\", \"female\"], [24, \"indUnk\", \"female\"], [24, \"indUnk\", \"female\"], [24, \"indUnk\", \"female\"], [24, \"indUnk\", \"female\"], [24, \"indUnk\", \"female\"], [24, \"indUnk\", \"female\"], [45, \"indUnk\", \"female\"], [45, \"indUnk\", \"female\"], [45, \"indUnk\", \"female\"], [45, \"indUnk\", \"female\"], [45, \"indUnk\", \"female\"], [45, \"indUnk\", \"female\"], [45, \"indUnk\", \"female\"], [45, \"indUnk\", \"female\"], [45, \"indUnk\", \"female\"], [45, \"indUnk\", \"female\"], [45, \"indUnk\", \"female\"], [45, \"indUnk\", \"female\"], [45, \"indUnk\", \"female\"], [45, \"indUnk\", \"female\"], [34, \"indUnk\", \"female\"], [34, \"indUnk\", \"female\"], [34, \"indUnk\", \"female\"], [34, \"indUnk\", \"female\"], [34, \"indUnk\", \"female\"], [34, \"indUnk\", \"female\"], [14, \"indUnk\", \"female\"], [14, \"indUnk\", \"female\"], [14, \"indUnk\", \"female\"], [23, \"indUnk\", \"female\"], [23, \"indUnk\", \"female\"], [23, \"indUnk\", \"female\"], [23, \"indUnk\", \"female\"], [23, \"indUnk\", \"female\"], [23, \"indUnk\", \"female\"], [23, \"indUnk\", \"female\"], [23, \"indUnk\", \"female\"], [23, \"indUnk\", \"female\"], [23, \"indUnk\", \"female\"], [23, \"indUnk\", \"female\"], [23, \"indUnk\", \"female\"], [23, \"indUnk\", \"female\"], [23, \"indUnk\", \"female\"], [23, \"indUnk\", \"female\"], [23, \"indUnk\", \"female\"], [23, \"indUnk\", \"female\"], [23, \"indUnk\", \"female\"], [23, \"indUnk\", \"female\"], [25, \"indUnk\", \"female\"], [25, \"indUnk\", \"female\"], [25, \"indUnk\", \"female\"], [25, \"indUnk\", \"female\"], [25, \"indUnk\", \"female\"], [25, \"indUnk\", \"female\"]], \"fillcolor\": \"rgba(255,255,255,0)\", \"hoverlabel\": {\"namelength\": 0}, \"hoveron\": \"points\", \"hovertemplate\": \"topic and gender=topic: indUnk; gender: female<br>age=%{customdata[0]}<br>topic=%{customdata[1]}<br>gender=%{customdata[2]}\", \"jitter\": 0, \"legendgroup\": \"topic and gender=topic: indUnk; gender: female\", \"line\": {\"color\": \"rgba(255,255,255,0)\"}, \"marker\": {\"color\": \"#00cc96\", \"symbol\": \"line-ns-open\"}, \"name\": \"topic and gender=topic: indUnk; gender: female\", \"offsetgroup\": \"topic and gender=topic: indUnk; gender: female\", \"showlegend\": false, \"type\": \"box\", \"x\": [14, 14, 14, 14, 14, 14, 14, 14, 14, 14, 14, 14, 14, 14, 14, 14, 14, 14, 14, 14, 14, 25, 25, 23, 37, 37, 37, 37, 37, 37, 37, 37, 37, 37, 37, 37, 37, 37, 37, 37, 37, 37, 37, 25, 25, 25, 24, 24, 24, 24, 24, 24, 24, 24, 24, 24, 24, 24, 24, 24, 24, 24, 24, 24, 24, 24, 24, 24, 24, 24, 24, 24, 24, 24, 24, 24, 24, 24, 24, 24, 24, 24, 24, 24, 24, 24, 24, 24, 24, 24, 24, 24, 24, 24, 24, 24, 24, 24, 24, 24, 24, 24, 24, 24, 24, 24, 24, 24, 24, 24, 24, 24, 24, 24, 24, 24, 24, 24, 24, 24, 24, 24, 24, 24, 24, 24, 24, 24, 24, 24, 24, 24, 24, 24, 24, 24, 24, 24, 24, 24, 24, 24, 24, 24, 24, 24, 24, 24, 24, 24, 24, 24, 24, 24, 24, 24, 24, 24, 24, 24, 24, 24, 24, 24, 24, 24, 24, 24, 24, 24, 24, 24, 24, 24, 24, 24, 24, 24, 24, 24, 24, 24, 24, 24, 24, 24, 24, 24, 24, 24, 24, 24, 24, 24, 24, 24, 24, 24, 24, 24, 24, 24, 24, 24, 24, 24, 24, 24, 24, 24, 24, 24, 24, 24, 24, 24, 24, 24, 24, 24, 24, 24, 24, 24, 24, 24, 24, 24, 24, 24, 24, 24, 24, 24, 24, 24, 24, 45, 45, 45, 45, 45, 45, 45, 45, 45, 45, 45, 45, 45, 45, 34, 34, 34, 34, 34, 34, 14, 14, 14, 23, 23, 23, 23, 23, 23, 23, 23, 23, 23, 23, 23, 23, 23, 23, 23, 23, 23, 23, 25, 25, 25, 25, 25, 25], \"xaxis\": \"x2\", \"yaxis\": \"y2\"}, {\"alignmentgroup\": \"True\", \"bingroup\": \"x\", \"hoverlabel\": {\"namelength\": 0}, \"hovertemplate\": \"topic and gender=topic: Student; gender: female<br>age=%{x}<br>count=%{y}\", \"legendgroup\": \"topic and gender=topic: Student; gender: female\", \"marker\": {\"color\": \"#ab63fa\"}, \"name\": \"topic and gender=topic: Student; gender: female\", \"offsetgroup\": \"topic and gender=topic: Student; gender: female\", \"orientation\": \"v\", \"showlegend\": true, \"type\": \"histogram\", \"x\": [17, 17, 17, 17, 17, 17, 17, 17, 17, 17, 17, 17, 17, 17, 17, 17, 17, 17, 17, 17, 17, 17, 17, 17, 17, 17, 17, 17, 17, 17, 17, 17, 17, 17, 17, 15, 15, 15, 15, 15], \"xaxis\": \"x\", \"yaxis\": \"y\"}, {\"alignmentgroup\": \"True\", \"boxpoints\": \"all\", \"customdata\": [[17, \"Student\", \"female\"], [17, \"Student\", \"female\"], [17, \"Student\", \"female\"], [17, \"Student\", \"female\"], [17, \"Student\", \"female\"], [17, \"Student\", \"female\"], [17, \"Student\", \"female\"], [17, \"Student\", \"female\"], [17, \"Student\", \"female\"], [17, \"Student\", \"female\"], [17, \"Student\", \"female\"], [17, \"Student\", \"female\"], [17, \"Student\", \"female\"], [17, \"Student\", \"female\"], [17, \"Student\", \"female\"], [17, \"Student\", \"female\"], [17, \"Student\", \"female\"], [17, \"Student\", \"female\"], [17, \"Student\", \"female\"], [17, \"Student\", \"female\"], [17, \"Student\", \"female\"], [17, \"Student\", \"female\"], [17, \"Student\", \"female\"], [17, \"Student\", \"female\"], [17, \"Student\", \"female\"], [17, \"Student\", \"female\"], [17, \"Student\", \"female\"], [17, \"Student\", \"female\"], [17, \"Student\", \"female\"], [17, \"Student\", \"female\"], [17, \"Student\", \"female\"], [17, \"Student\", \"female\"], [17, \"Student\", \"female\"], [17, \"Student\", \"female\"], [17, \"Student\", \"female\"], [15, \"Student\", \"female\"], [15, \"Student\", \"female\"], [15, \"Student\", \"female\"], [15, \"Student\", \"female\"], [15, \"Student\", \"female\"]], \"fillcolor\": \"rgba(255,255,255,0)\", \"hoverlabel\": {\"namelength\": 0}, \"hoveron\": \"points\", \"hovertemplate\": \"topic and gender=topic: Student; gender: female<br>age=%{customdata[0]}<br>topic=%{customdata[1]}<br>gender=%{customdata[2]}\", \"jitter\": 0, \"legendgroup\": \"topic and gender=topic: Student; gender: female\", \"line\": {\"color\": \"rgba(255,255,255,0)\"}, \"marker\": {\"color\": \"#ab63fa\", \"symbol\": \"line-ns-open\"}, \"name\": \"topic and gender=topic: Student; gender: female\", \"offsetgroup\": \"topic and gender=topic: Student; gender: female\", \"showlegend\": false, \"type\": \"box\", \"x\": [17, 17, 17, 17, 17, 17, 17, 17, 17, 17, 17, 17, 17, 17, 17, 17, 17, 17, 17, 17, 17, 17, 17, 17, 17, 17, 17, 17, 17, 17, 17, 17, 17, 17, 17, 15, 15, 15, 15, 15], \"xaxis\": \"x2\", \"yaxis\": \"y2\"}, {\"alignmentgroup\": \"True\", \"bingroup\": \"x\", \"hoverlabel\": {\"namelength\": 0}, \"hovertemplate\": \"topic and gender=topic: Non-Profit; gender: male<br>age=%{x}<br>count=%{y}\", \"legendgroup\": \"topic and gender=topic: Non-Profit; gender: male\", \"marker\": {\"color\": \"#FFA15A\"}, \"name\": \"topic and gender=topic: Non-Profit; gender: male\", \"offsetgroup\": \"topic and gender=topic: Non-Profit; gender: male\", \"orientation\": \"v\", \"showlegend\": true, \"type\": \"histogram\", \"x\": [25, 25, 25, 25, 25, 25, 25, 25, 25, 25, 25, 25, 25, 25, 25, 25, 25, 25, 25, 25, 25, 25, 25, 25, 25, 25, 25, 25, 25, 25, 25, 25, 25, 25, 25, 25, 25, 25, 25, 25, 25, 25, 25, 25, 25, 25], \"xaxis\": \"x\", \"yaxis\": \"y\"}, {\"alignmentgroup\": \"True\", \"boxpoints\": \"all\", \"customdata\": [[25, \"Non-Profit\", \"male\"], [25, \"Non-Profit\", \"male\"], [25, \"Non-Profit\", \"male\"], [25, \"Non-Profit\", \"male\"], [25, \"Non-Profit\", \"male\"], [25, \"Non-Profit\", \"male\"], [25, \"Non-Profit\", \"male\"], [25, \"Non-Profit\", \"male\"], [25, \"Non-Profit\", \"male\"], [25, \"Non-Profit\", \"male\"], [25, \"Non-Profit\", \"male\"], [25, \"Non-Profit\", \"male\"], [25, \"Non-Profit\", \"male\"], [25, \"Non-Profit\", \"male\"], [25, \"Non-Profit\", \"male\"], [25, \"Non-Profit\", \"male\"], [25, \"Non-Profit\", \"male\"], [25, \"Non-Profit\", \"male\"], [25, \"Non-Profit\", \"male\"], [25, \"Non-Profit\", \"male\"], [25, \"Non-Profit\", \"male\"], [25, \"Non-Profit\", \"male\"], [25, \"Non-Profit\", \"male\"], [25, \"Non-Profit\", \"male\"], [25, \"Non-Profit\", \"male\"], [25, \"Non-Profit\", \"male\"], [25, \"Non-Profit\", \"male\"], [25, \"Non-Profit\", \"male\"], [25, \"Non-Profit\", \"male\"], [25, \"Non-Profit\", \"male\"], [25, \"Non-Profit\", \"male\"], [25, \"Non-Profit\", \"male\"], [25, \"Non-Profit\", \"male\"], [25, \"Non-Profit\", \"male\"], [25, \"Non-Profit\", \"male\"], [25, \"Non-Profit\", \"male\"], [25, \"Non-Profit\", \"male\"], [25, \"Non-Profit\", \"male\"], [25, \"Non-Profit\", \"male\"], [25, \"Non-Profit\", \"male\"], [25, \"Non-Profit\", \"male\"], [25, \"Non-Profit\", \"male\"], [25, \"Non-Profit\", \"male\"], [25, \"Non-Profit\", \"male\"], [25, \"Non-Profit\", \"male\"], [25, \"Non-Profit\", \"male\"]], \"fillcolor\": \"rgba(255,255,255,0)\", \"hoverlabel\": {\"namelength\": 0}, \"hoveron\": \"points\", \"hovertemplate\": \"topic and gender=topic: Non-Profit; gender: male<br>age=%{customdata[0]}<br>topic=%{customdata[1]}<br>gender=%{customdata[2]}\", \"jitter\": 0, \"legendgroup\": \"topic and gender=topic: Non-Profit; gender: male\", \"line\": {\"color\": \"rgba(255,255,255,0)\"}, \"marker\": {\"color\": \"#FFA15A\", \"symbol\": \"line-ns-open\"}, \"name\": \"topic and gender=topic: Non-Profit; gender: male\", \"offsetgroup\": \"topic and gender=topic: Non-Profit; gender: male\", \"showlegend\": false, \"type\": \"box\", \"x\": [25, 25, 25, 25, 25, 25, 25, 25, 25, 25, 25, 25, 25, 25, 25, 25, 25, 25, 25, 25, 25, 25, 25, 25, 25, 25, 25, 25, 25, 25, 25, 25, 25, 25, 25, 25, 25, 25, 25, 25, 25, 25, 25, 25, 25, 25], \"xaxis\": \"x2\", \"yaxis\": \"y2\"}, {\"alignmentgroup\": \"True\", \"bingroup\": \"x\", \"hoverlabel\": {\"namelength\": 0}, \"hovertemplate\": \"topic and gender=topic: Banking; gender: female<br>age=%{x}<br>count=%{y}\", \"legendgroup\": \"topic and gender=topic: Banking; gender: female\", \"marker\": {\"color\": \"#19d3f3\"}, \"name\": \"topic and gender=topic: Banking; gender: female\", \"offsetgroup\": \"topic and gender=topic: Banking; gender: female\", \"orientation\": \"v\", \"showlegend\": true, \"type\": \"histogram\", \"x\": [33, 33, 33, 33, 33, 33, 33, 33, 33, 33, 33, 33, 33], \"xaxis\": \"x\", \"yaxis\": \"y\"}, {\"alignmentgroup\": \"True\", \"boxpoints\": \"all\", \"customdata\": [[33, \"Banking\", \"female\"], [33, \"Banking\", \"female\"], [33, \"Banking\", \"female\"], [33, \"Banking\", \"female\"], [33, \"Banking\", \"female\"], [33, \"Banking\", \"female\"], [33, \"Banking\", \"female\"], [33, \"Banking\", \"female\"], [33, \"Banking\", \"female\"], [33, \"Banking\", \"female\"], [33, \"Banking\", \"female\"], [33, \"Banking\", \"female\"], [33, \"Banking\", \"female\"]], \"fillcolor\": \"rgba(255,255,255,0)\", \"hoverlabel\": {\"namelength\": 0}, \"hoveron\": \"points\", \"hovertemplate\": \"topic and gender=topic: Banking; gender: female<br>age=%{customdata[0]}<br>topic=%{customdata[1]}<br>gender=%{customdata[2]}\", \"jitter\": 0, \"legendgroup\": \"topic and gender=topic: Banking; gender: female\", \"line\": {\"color\": \"rgba(255,255,255,0)\"}, \"marker\": {\"color\": \"#19d3f3\", \"symbol\": \"line-ns-open\"}, \"name\": \"topic and gender=topic: Banking; gender: female\", \"offsetgroup\": \"topic and gender=topic: Banking; gender: female\", \"showlegend\": false, \"type\": \"box\", \"x\": [33, 33, 33, 33, 33, 33, 33, 33, 33, 33, 33, 33, 33], \"xaxis\": \"x2\", \"yaxis\": \"y2\"}, {\"alignmentgroup\": \"True\", \"bingroup\": \"x\", \"hoverlabel\": {\"namelength\": 0}, \"hovertemplate\": \"topic and gender=topic: indUnk; gender: male<br>age=%{x}<br>count=%{y}\", \"legendgroup\": \"topic and gender=topic: indUnk; gender: male\", \"marker\": {\"color\": \"#FF6692\"}, \"name\": \"topic and gender=topic: indUnk; gender: male\", \"offsetgroup\": \"topic and gender=topic: indUnk; gender: male\", \"orientation\": \"v\", \"showlegend\": true, \"type\": \"histogram\", \"x\": [26, 26, 26, 26, 26, 26, 26, 26, 26, 26, 26, 26, 26, 26, 26, 26, 26, 26, 26, 26, 26, 26, 26, 26, 26, 26, 26, 26, 26, 26, 26, 26, 26, 26, 26, 23, 23, 23, 23, 23, 23, 23, 23, 23, 23, 23, 23, 23, 23, 23, 23, 23, 23, 23, 23, 23, 23, 23, 23, 23, 23, 23, 23, 23, 23, 23, 23, 23, 23, 23, 23, 23, 23, 23, 23, 23, 23, 23, 23, 23, 23, 23, 23, 23, 44], \"xaxis\": \"x\", \"yaxis\": \"y\"}, {\"alignmentgroup\": \"True\", \"boxpoints\": \"all\", \"customdata\": [[26, \"indUnk\", \"male\"], [26, \"indUnk\", \"male\"], [26, \"indUnk\", \"male\"], [26, \"indUnk\", \"male\"], [26, \"indUnk\", \"male\"], [26, \"indUnk\", \"male\"], [26, \"indUnk\", \"male\"], [26, \"indUnk\", \"male\"], [26, \"indUnk\", \"male\"], [26, \"indUnk\", \"male\"], [26, \"indUnk\", \"male\"], [26, \"indUnk\", \"male\"], [26, \"indUnk\", \"male\"], [26, \"indUnk\", \"male\"], [26, \"indUnk\", \"male\"], [26, \"indUnk\", \"male\"], [26, \"indUnk\", \"male\"], [26, \"indUnk\", \"male\"], [26, \"indUnk\", \"male\"], [26, \"indUnk\", \"male\"], [26, \"indUnk\", \"male\"], [26, \"indUnk\", \"male\"], [26, \"indUnk\", \"male\"], [26, \"indUnk\", \"male\"], [26, \"indUnk\", \"male\"], [26, \"indUnk\", \"male\"], [26, \"indUnk\", \"male\"], [26, \"indUnk\", \"male\"], [26, \"indUnk\", \"male\"], [26, \"indUnk\", \"male\"], [26, \"indUnk\", \"male\"], [26, \"indUnk\", \"male\"], [26, \"indUnk\", \"male\"], [26, \"indUnk\", \"male\"], [26, \"indUnk\", \"male\"], [23, \"indUnk\", \"male\"], [23, \"indUnk\", \"male\"], [23, \"indUnk\", \"male\"], [23, \"indUnk\", \"male\"], [23, \"indUnk\", \"male\"], [23, \"indUnk\", \"male\"], [23, \"indUnk\", \"male\"], [23, \"indUnk\", \"male\"], [23, \"indUnk\", \"male\"], [23, \"indUnk\", \"male\"], [23, \"indUnk\", \"male\"], [23, \"indUnk\", \"male\"], [23, \"indUnk\", \"male\"], [23, \"indUnk\", \"male\"], [23, \"indUnk\", \"male\"], [23, \"indUnk\", \"male\"], [23, \"indUnk\", \"male\"], [23, \"indUnk\", \"male\"], [23, \"indUnk\", \"male\"], [23, \"indUnk\", \"male\"], [23, \"indUnk\", \"male\"], [23, \"indUnk\", \"male\"], [23, \"indUnk\", \"male\"], [23, \"indUnk\", \"male\"], [23, \"indUnk\", \"male\"], [23, \"indUnk\", \"male\"], [23, \"indUnk\", \"male\"], [23, \"indUnk\", \"male\"], [23, \"indUnk\", \"male\"], [23, \"indUnk\", \"male\"], [23, \"indUnk\", \"male\"], [23, \"indUnk\", \"male\"], [23, \"indUnk\", \"male\"], [23, \"indUnk\", \"male\"], [23, \"indUnk\", \"male\"], [23, \"indUnk\", \"male\"], [23, \"indUnk\", \"male\"], [23, \"indUnk\", \"male\"], [23, \"indUnk\", \"male\"], [23, \"indUnk\", \"male\"], [23, \"indUnk\", \"male\"], [23, \"indUnk\", \"male\"], [23, \"indUnk\", \"male\"], [23, \"indUnk\", \"male\"], [23, \"indUnk\", \"male\"], [23, \"indUnk\", \"male\"], [23, \"indUnk\", \"male\"], [23, \"indUnk\", \"male\"], [23, \"indUnk\", \"male\"], [44, \"indUnk\", \"male\"]], \"fillcolor\": \"rgba(255,255,255,0)\", \"hoverlabel\": {\"namelength\": 0}, \"hoveron\": \"points\", \"hovertemplate\": \"topic and gender=topic: indUnk; gender: male<br>age=%{customdata[0]}<br>topic=%{customdata[1]}<br>gender=%{customdata[2]}\", \"jitter\": 0, \"legendgroup\": \"topic and gender=topic: indUnk; gender: male\", \"line\": {\"color\": \"rgba(255,255,255,0)\"}, \"marker\": {\"color\": \"#FF6692\", \"symbol\": \"line-ns-open\"}, \"name\": \"topic and gender=topic: indUnk; gender: male\", \"offsetgroup\": \"topic and gender=topic: indUnk; gender: male\", \"showlegend\": false, \"type\": \"box\", \"x\": [26, 26, 26, 26, 26, 26, 26, 26, 26, 26, 26, 26, 26, 26, 26, 26, 26, 26, 26, 26, 26, 26, 26, 26, 26, 26, 26, 26, 26, 26, 26, 26, 26, 26, 26, 23, 23, 23, 23, 23, 23, 23, 23, 23, 23, 23, 23, 23, 23, 23, 23, 23, 23, 23, 23, 23, 23, 23, 23, 23, 23, 23, 23, 23, 23, 23, 23, 23, 23, 23, 23, 23, 23, 23, 23, 23, 23, 23, 23, 23, 23, 23, 23, 23, 44], \"xaxis\": \"x2\", \"yaxis\": \"y2\"}, {\"alignmentgroup\": \"True\", \"bingroup\": \"x\", \"hoverlabel\": {\"namelength\": 0}, \"hovertemplate\": \"topic and gender=topic: Education; gender: female<br>age=%{x}<br>count=%{y}\", \"legendgroup\": \"topic and gender=topic: Education; gender: female\", \"marker\": {\"color\": \"#B6E880\"}, \"name\": \"topic and gender=topic: Education; gender: female\", \"offsetgroup\": \"topic and gender=topic: Education; gender: female\", \"orientation\": \"v\", \"showlegend\": true, \"type\": \"histogram\", \"x\": [27, 27, 27, 27, 27, 27, 27, 27, 27, 27, 27, 27, 27, 27, 27, 27, 27, 27, 27, 27, 27, 27, 27, 27, 27, 27, 27, 27, 27, 27, 27, 27, 27, 27, 27, 27, 27, 27, 27, 27, 27, 27, 27, 27, 27, 27, 27, 27, 27, 27, 27, 27, 27, 27, 27, 27, 27, 27, 27, 27, 27, 27, 27, 27, 27, 27, 27, 27, 27, 27, 27, 27, 27, 27, 27, 27, 27, 27, 27, 27, 27, 27, 27, 27, 27], \"xaxis\": \"x\", \"yaxis\": \"y\"}, {\"alignmentgroup\": \"True\", \"boxpoints\": \"all\", \"customdata\": [[27, \"Education\", \"female\"], [27, \"Education\", \"female\"], [27, \"Education\", \"female\"], [27, \"Education\", \"female\"], [27, \"Education\", \"female\"], [27, \"Education\", \"female\"], [27, \"Education\", \"female\"], [27, \"Education\", \"female\"], [27, \"Education\", \"female\"], [27, \"Education\", \"female\"], [27, \"Education\", \"female\"], [27, \"Education\", \"female\"], [27, \"Education\", \"female\"], [27, \"Education\", \"female\"], [27, \"Education\", \"female\"], [27, \"Education\", \"female\"], [27, \"Education\", \"female\"], [27, \"Education\", \"female\"], [27, \"Education\", \"female\"], [27, \"Education\", \"female\"], [27, \"Education\", \"female\"], [27, \"Education\", \"female\"], [27, \"Education\", \"female\"], [27, \"Education\", \"female\"], [27, \"Education\", \"female\"], [27, \"Education\", \"female\"], [27, \"Education\", \"female\"], [27, \"Education\", \"female\"], [27, \"Education\", \"female\"], [27, \"Education\", \"female\"], [27, \"Education\", \"female\"], [27, \"Education\", \"female\"], [27, \"Education\", \"female\"], [27, \"Education\", \"female\"], [27, \"Education\", \"female\"], [27, \"Education\", \"female\"], [27, \"Education\", \"female\"], [27, \"Education\", \"female\"], [27, \"Education\", \"female\"], [27, \"Education\", \"female\"], [27, \"Education\", \"female\"], [27, \"Education\", \"female\"], [27, \"Education\", \"female\"], [27, \"Education\", \"female\"], [27, \"Education\", \"female\"], [27, \"Education\", \"female\"], [27, \"Education\", \"female\"], [27, \"Education\", \"female\"], [27, \"Education\", \"female\"], [27, \"Education\", \"female\"], [27, \"Education\", \"female\"], [27, \"Education\", \"female\"], [27, \"Education\", \"female\"], [27, \"Education\", \"female\"], [27, \"Education\", \"female\"], [27, \"Education\", \"female\"], [27, \"Education\", \"female\"], [27, \"Education\", \"female\"], [27, \"Education\", \"female\"], [27, \"Education\", \"female\"], [27, \"Education\", \"female\"], [27, \"Education\", \"female\"], [27, \"Education\", \"female\"], [27, \"Education\", \"female\"], [27, \"Education\", \"female\"], [27, \"Education\", \"female\"], [27, \"Education\", \"female\"], [27, \"Education\", \"female\"], [27, \"Education\", \"female\"], [27, \"Education\", \"female\"], [27, \"Education\", \"female\"], [27, \"Education\", \"female\"], [27, \"Education\", \"female\"], [27, \"Education\", \"female\"], [27, \"Education\", \"female\"], [27, \"Education\", \"female\"], [27, \"Education\", \"female\"], [27, \"Education\", \"female\"], [27, \"Education\", \"female\"], [27, \"Education\", \"female\"], [27, \"Education\", \"female\"], [27, \"Education\", \"female\"], [27, \"Education\", \"female\"], [27, \"Education\", \"female\"], [27, \"Education\", \"female\"]], \"fillcolor\": \"rgba(255,255,255,0)\", \"hoverlabel\": {\"namelength\": 0}, \"hoveron\": \"points\", \"hovertemplate\": \"topic and gender=topic: Education; gender: female<br>age=%{customdata[0]}<br>topic=%{customdata[1]}<br>gender=%{customdata[2]}\", \"jitter\": 0, \"legendgroup\": \"topic and gender=topic: Education; gender: female\", \"line\": {\"color\": \"rgba(255,255,255,0)\"}, \"marker\": {\"color\": \"#B6E880\", \"symbol\": \"line-ns-open\"}, \"name\": \"topic and gender=topic: Education; gender: female\", \"offsetgroup\": \"topic and gender=topic: Education; gender: female\", \"showlegend\": false, \"type\": \"box\", \"x\": [27, 27, 27, 27, 27, 27, 27, 27, 27, 27, 27, 27, 27, 27, 27, 27, 27, 27, 27, 27, 27, 27, 27, 27, 27, 27, 27, 27, 27, 27, 27, 27, 27, 27, 27, 27, 27, 27, 27, 27, 27, 27, 27, 27, 27, 27, 27, 27, 27, 27, 27, 27, 27, 27, 27, 27, 27, 27, 27, 27, 27, 27, 27, 27, 27, 27, 27, 27, 27, 27, 27, 27, 27, 27, 27, 27, 27, 27, 27, 27, 27, 27, 27, 27, 27], \"xaxis\": \"x2\", \"yaxis\": \"y2\"}, {\"alignmentgroup\": \"True\", \"bingroup\": \"x\", \"hoverlabel\": {\"namelength\": 0}, \"hovertemplate\": \"topic and gender=topic: Engineering; gender: male<br>age=%{x}<br>count=%{y}\", \"legendgroup\": \"topic and gender=topic: Engineering; gender: male\", \"marker\": {\"color\": \"#FF97FF\"}, \"name\": \"topic and gender=topic: Engineering; gender: male\", \"offsetgroup\": \"topic and gender=topic: Engineering; gender: male\", \"orientation\": \"v\", \"showlegend\": true, \"type\": \"histogram\", \"x\": [24, 24, 24, 24, 24, 24, 24, 24, 24, 24, 24, 24, 24, 24, 24, 24, 24, 24, 24, 24, 24, 24, 24, 24, 24, 24, 24, 24, 24, 24, 24, 24, 24, 24, 24, 24, 24, 24, 24, 24, 24, 24, 24, 24, 24, 24, 24, 24, 24, 24, 24, 24, 24, 24, 24, 24, 24, 24, 24, 24, 24, 24, 24, 24, 24, 24, 24, 24, 24, 24, 24, 24, 24, 24, 24, 24, 24, 24, 24, 24, 24, 24, 24, 24, 24, 24, 24, 24, 24, 24, 24, 24, 24, 24, 24, 24, 24, 24, 24, 24, 24, 24, 24, 24, 24, 24, 24, 24, 24, 24, 24, 24, 24, 24, 24, 24, 24, 24, 24], \"xaxis\": \"x\", \"yaxis\": \"y\"}, {\"alignmentgroup\": \"True\", \"boxpoints\": \"all\", \"customdata\": [[24, \"Engineering\", \"male\"], [24, \"Engineering\", \"male\"], [24, \"Engineering\", \"male\"], [24, \"Engineering\", \"male\"], [24, \"Engineering\", \"male\"], [24, \"Engineering\", \"male\"], [24, \"Engineering\", \"male\"], [24, \"Engineering\", \"male\"], [24, \"Engineering\", \"male\"], [24, \"Engineering\", \"male\"], [24, \"Engineering\", \"male\"], [24, \"Engineering\", \"male\"], [24, \"Engineering\", \"male\"], [24, \"Engineering\", \"male\"], [24, \"Engineering\", \"male\"], [24, \"Engineering\", \"male\"], [24, \"Engineering\", \"male\"], [24, \"Engineering\", \"male\"], [24, \"Engineering\", \"male\"], [24, \"Engineering\", \"male\"], [24, \"Engineering\", \"male\"], [24, \"Engineering\", \"male\"], [24, \"Engineering\", \"male\"], [24, \"Engineering\", \"male\"], [24, \"Engineering\", \"male\"], [24, \"Engineering\", \"male\"], [24, \"Engineering\", \"male\"], [24, \"Engineering\", \"male\"], [24, \"Engineering\", \"male\"], [24, \"Engineering\", \"male\"], [24, \"Engineering\", \"male\"], [24, \"Engineering\", \"male\"], [24, \"Engineering\", \"male\"], [24, \"Engineering\", \"male\"], [24, \"Engineering\", \"male\"], [24, \"Engineering\", \"male\"], [24, \"Engineering\", \"male\"], [24, \"Engineering\", \"male\"], [24, \"Engineering\", \"male\"], [24, \"Engineering\", \"male\"], [24, \"Engineering\", \"male\"], [24, \"Engineering\", \"male\"], [24, \"Engineering\", \"male\"], [24, \"Engineering\", \"male\"], [24, \"Engineering\", \"male\"], [24, \"Engineering\", \"male\"], [24, \"Engineering\", \"male\"], [24, \"Engineering\", \"male\"], [24, \"Engineering\", \"male\"], [24, \"Engineering\", \"male\"], [24, \"Engineering\", \"male\"], [24, \"Engineering\", \"male\"], [24, \"Engineering\", \"male\"], [24, \"Engineering\", \"male\"], [24, \"Engineering\", \"male\"], [24, \"Engineering\", \"male\"], [24, \"Engineering\", \"male\"], [24, \"Engineering\", \"male\"], [24, \"Engineering\", \"male\"], [24, \"Engineering\", \"male\"], [24, \"Engineering\", \"male\"], [24, \"Engineering\", \"male\"], [24, \"Engineering\", \"male\"], [24, \"Engineering\", \"male\"], [24, \"Engineering\", \"male\"], [24, \"Engineering\", \"male\"], [24, \"Engineering\", \"male\"], [24, \"Engineering\", \"male\"], [24, \"Engineering\", \"male\"], [24, \"Engineering\", \"male\"], [24, \"Engineering\", \"male\"], [24, \"Engineering\", \"male\"], [24, \"Engineering\", \"male\"], [24, \"Engineering\", \"male\"], [24, \"Engineering\", \"male\"], [24, \"Engineering\", \"male\"], [24, \"Engineering\", \"male\"], [24, \"Engineering\", \"male\"], [24, \"Engineering\", \"male\"], [24, \"Engineering\", \"male\"], [24, \"Engineering\", \"male\"], [24, \"Engineering\", \"male\"], [24, \"Engineering\", \"male\"], [24, \"Engineering\", \"male\"], [24, \"Engineering\", \"male\"], [24, \"Engineering\", \"male\"], [24, \"Engineering\", \"male\"], [24, \"Engineering\", \"male\"], [24, \"Engineering\", \"male\"], [24, \"Engineering\", \"male\"], [24, \"Engineering\", \"male\"], [24, \"Engineering\", \"male\"], [24, \"Engineering\", \"male\"], [24, \"Engineering\", \"male\"], [24, \"Engineering\", \"male\"], [24, \"Engineering\", \"male\"], [24, \"Engineering\", \"male\"], [24, \"Engineering\", \"male\"], [24, \"Engineering\", \"male\"], [24, \"Engineering\", \"male\"], [24, \"Engineering\", \"male\"], [24, \"Engineering\", \"male\"], [24, \"Engineering\", \"male\"], [24, \"Engineering\", \"male\"], [24, \"Engineering\", \"male\"], [24, \"Engineering\", \"male\"], [24, \"Engineering\", \"male\"], [24, \"Engineering\", \"male\"], [24, \"Engineering\", \"male\"], [24, \"Engineering\", \"male\"], [24, \"Engineering\", \"male\"], [24, \"Engineering\", \"male\"], [24, \"Engineering\", \"male\"], [24, \"Engineering\", \"male\"], [24, \"Engineering\", \"male\"], [24, \"Engineering\", \"male\"], [24, \"Engineering\", \"male\"], [24, \"Engineering\", \"male\"], [24, \"Engineering\", \"male\"]], \"fillcolor\": \"rgba(255,255,255,0)\", \"hoverlabel\": {\"namelength\": 0}, \"hoveron\": \"points\", \"hovertemplate\": \"topic and gender=topic: Engineering; gender: male<br>age=%{customdata[0]}<br>topic=%{customdata[1]}<br>gender=%{customdata[2]}\", \"jitter\": 0, \"legendgroup\": \"topic and gender=topic: Engineering; gender: male\", \"line\": {\"color\": \"rgba(255,255,255,0)\"}, \"marker\": {\"color\": \"#FF97FF\", \"symbol\": \"line-ns-open\"}, \"name\": \"topic and gender=topic: Engineering; gender: male\", \"offsetgroup\": \"topic and gender=topic: Engineering; gender: male\", \"showlegend\": false, \"type\": \"box\", \"x\": [24, 24, 24, 24, 24, 24, 24, 24, 24, 24, 24, 24, 24, 24, 24, 24, 24, 24, 24, 24, 24, 24, 24, 24, 24, 24, 24, 24, 24, 24, 24, 24, 24, 24, 24, 24, 24, 24, 24, 24, 24, 24, 24, 24, 24, 24, 24, 24, 24, 24, 24, 24, 24, 24, 24, 24, 24, 24, 24, 24, 24, 24, 24, 24, 24, 24, 24, 24, 24, 24, 24, 24, 24, 24, 24, 24, 24, 24, 24, 24, 24, 24, 24, 24, 24, 24, 24, 24, 24, 24, 24, 24, 24, 24, 24, 24, 24, 24, 24, 24, 24, 24, 24, 24, 24, 24, 24, 24, 24, 24, 24, 24, 24, 24, 24, 24, 24, 24, 24], \"xaxis\": \"x2\", \"yaxis\": \"y2\"}, {\"alignmentgroup\": \"True\", \"bingroup\": \"x\", \"hoverlabel\": {\"namelength\": 0}, \"hovertemplate\": \"topic and gender=topic: Science; gender: male<br>age=%{x}<br>count=%{y}\", \"legendgroup\": \"topic and gender=topic: Science; gender: male\", \"marker\": {\"color\": \"#FECB52\"}, \"name\": \"topic and gender=topic: Science; gender: male\", \"offsetgroup\": \"topic and gender=topic: Science; gender: male\", \"orientation\": \"v\", \"showlegend\": true, \"type\": \"histogram\", \"x\": [15, 15, 15, 15, 15, 15, 15, 15, 15, 15, 15, 15, 15, 15, 15, 15, 15, 15, 15, 15, 15, 15, 15, 15, 15, 15, 15, 15, 15], \"xaxis\": \"x\", \"yaxis\": \"y\"}, {\"alignmentgroup\": \"True\", \"boxpoints\": \"all\", \"customdata\": [[15, \"Science\", \"male\"], [15, \"Science\", \"male\"], [15, \"Science\", \"male\"], [15, \"Science\", \"male\"], [15, \"Science\", \"male\"], [15, \"Science\", \"male\"], [15, \"Science\", \"male\"], [15, \"Science\", \"male\"], [15, \"Science\", \"male\"], [15, \"Science\", \"male\"], [15, \"Science\", \"male\"], [15, \"Science\", \"male\"], [15, \"Science\", \"male\"], [15, \"Science\", \"male\"], [15, \"Science\", \"male\"], [15, \"Science\", \"male\"], [15, \"Science\", \"male\"], [15, \"Science\", \"male\"], [15, \"Science\", \"male\"], [15, \"Science\", \"male\"], [15, \"Science\", \"male\"], [15, \"Science\", \"male\"], [15, \"Science\", \"male\"], [15, \"Science\", \"male\"], [15, \"Science\", \"male\"], [15, \"Science\", \"male\"], [15, \"Science\", \"male\"], [15, \"Science\", \"male\"], [15, \"Science\", \"male\"]], \"fillcolor\": \"rgba(255,255,255,0)\", \"hoverlabel\": {\"namelength\": 0}, \"hoveron\": \"points\", \"hovertemplate\": \"topic and gender=topic: Science; gender: male<br>age=%{customdata[0]}<br>topic=%{customdata[1]}<br>gender=%{customdata[2]}\", \"jitter\": 0, \"legendgroup\": \"topic and gender=topic: Science; gender: male\", \"line\": {\"color\": \"rgba(255,255,255,0)\"}, \"marker\": {\"color\": \"#FECB52\", \"symbol\": \"line-ns-open\"}, \"name\": \"topic and gender=topic: Science; gender: male\", \"offsetgroup\": \"topic and gender=topic: Science; gender: male\", \"showlegend\": false, \"type\": \"box\", \"x\": [15, 15, 15, 15, 15, 15, 15, 15, 15, 15, 15, 15, 15, 15, 15, 15, 15, 15, 15, 15, 15, 15, 15, 15, 15, 15, 15, 15, 15], \"xaxis\": \"x2\", \"yaxis\": \"y2\"}, {\"alignmentgroup\": \"True\", \"bingroup\": \"x\", \"hoverlabel\": {\"namelength\": 0}, \"hovertemplate\": \"topic and gender=topic: Communications-Media; gender: male<br>age=%{x}<br>count=%{y}\", \"legendgroup\": \"topic and gender=topic: Communications-Media; gender: male\", \"marker\": {\"color\": \"#636efa\"}, \"name\": \"topic and gender=topic: Communications-Media; gender: male\", \"offsetgroup\": \"topic and gender=topic: Communications-Media; gender: male\", \"orientation\": \"v\", \"showlegend\": true, \"type\": \"histogram\", \"x\": [41, 41, 41, 41, 41, 41, 41, 41, 41, 41, 41, 41, 41, 41], \"xaxis\": \"x\", \"yaxis\": \"y\"}, {\"alignmentgroup\": \"True\", \"boxpoints\": \"all\", \"customdata\": [[41, \"Communications-Media\", \"male\"], [41, \"Communications-Media\", \"male\"], [41, \"Communications-Media\", \"male\"], [41, \"Communications-Media\", \"male\"], [41, \"Communications-Media\", \"male\"], [41, \"Communications-Media\", \"male\"], [41, \"Communications-Media\", \"male\"], [41, \"Communications-Media\", \"male\"], [41, \"Communications-Media\", \"male\"], [41, \"Communications-Media\", \"male\"], [41, \"Communications-Media\", \"male\"], [41, \"Communications-Media\", \"male\"], [41, \"Communications-Media\", \"male\"], [41, \"Communications-Media\", \"male\"]], \"fillcolor\": \"rgba(255,255,255,0)\", \"hoverlabel\": {\"namelength\": 0}, \"hoveron\": \"points\", \"hovertemplate\": \"topic and gender=topic: Communications-Media; gender: male<br>age=%{customdata[0]}<br>topic=%{customdata[1]}<br>gender=%{customdata[2]}\", \"jitter\": 0, \"legendgroup\": \"topic and gender=topic: Communications-Media; gender: male\", \"line\": {\"color\": \"rgba(255,255,255,0)\"}, \"marker\": {\"color\": \"#636efa\", \"symbol\": \"line-ns-open\"}, \"name\": \"topic and gender=topic: Communications-Media; gender: male\", \"offsetgroup\": \"topic and gender=topic: Communications-Media; gender: male\", \"showlegend\": false, \"type\": \"box\", \"x\": [41, 41, 41, 41, 41, 41, 41, 41, 41, 41, 41, 41, 41, 41], \"xaxis\": \"x2\", \"yaxis\": \"y2\"}, {\"alignmentgroup\": \"True\", \"bingroup\": \"x\", \"hoverlabel\": {\"namelength\": 0}, \"hovertemplate\": \"topic and gender=topic: BusinessServices; gender: male<br>age=%{x}<br>count=%{y}\", \"legendgroup\": \"topic and gender=topic: BusinessServices; gender: male\", \"marker\": {\"color\": \"#EF553B\"}, \"name\": \"topic and gender=topic: BusinessServices; gender: male\", \"offsetgroup\": \"topic and gender=topic: BusinessServices; gender: male\", \"orientation\": \"v\", \"showlegend\": true, \"type\": \"histogram\", \"x\": [24, 24, 24, 24, 24, 24, 24, 24, 24, 24, 24, 24, 24, 24, 24, 24, 24, 24, 24, 24, 24], \"xaxis\": \"x\", \"yaxis\": \"y\"}, {\"alignmentgroup\": \"True\", \"boxpoints\": \"all\", \"customdata\": [[24, \"BusinessServices\", \"male\"], [24, \"BusinessServices\", \"male\"], [24, \"BusinessServices\", \"male\"], [24, \"BusinessServices\", \"male\"], [24, \"BusinessServices\", \"male\"], [24, \"BusinessServices\", \"male\"], [24, \"BusinessServices\", \"male\"], [24, \"BusinessServices\", \"male\"], [24, \"BusinessServices\", \"male\"], [24, \"BusinessServices\", \"male\"], [24, \"BusinessServices\", \"male\"], [24, \"BusinessServices\", \"male\"], [24, \"BusinessServices\", \"male\"], [24, \"BusinessServices\", \"male\"], [24, \"BusinessServices\", \"male\"], [24, \"BusinessServices\", \"male\"], [24, \"BusinessServices\", \"male\"], [24, \"BusinessServices\", \"male\"], [24, \"BusinessServices\", \"male\"], [24, \"BusinessServices\", \"male\"], [24, \"BusinessServices\", \"male\"]], \"fillcolor\": \"rgba(255,255,255,0)\", \"hoverlabel\": {\"namelength\": 0}, \"hoveron\": \"points\", \"hovertemplate\": \"topic and gender=topic: BusinessServices; gender: male<br>age=%{customdata[0]}<br>topic=%{customdata[1]}<br>gender=%{customdata[2]}\", \"jitter\": 0, \"legendgroup\": \"topic and gender=topic: BusinessServices; gender: male\", \"line\": {\"color\": \"rgba(255,255,255,0)\"}, \"marker\": {\"color\": \"#EF553B\", \"symbol\": \"line-ns-open\"}, \"name\": \"topic and gender=topic: BusinessServices; gender: male\", \"offsetgroup\": \"topic and gender=topic: BusinessServices; gender: male\", \"showlegend\": false, \"type\": \"box\", \"x\": [24, 24, 24, 24, 24, 24, 24, 24, 24, 24, 24, 24, 24, 24, 24, 24, 24, 24, 24, 24, 24], \"xaxis\": \"x2\", \"yaxis\": \"y2\"}, {\"alignmentgroup\": \"True\", \"bingroup\": \"x\", \"hoverlabel\": {\"namelength\": 0}, \"hovertemplate\": \"topic and gender=topic: Sports-Recreation; gender: male<br>age=%{x}<br>count=%{y}\", \"legendgroup\": \"topic and gender=topic: Sports-Recreation; gender: male\", \"marker\": {\"color\": \"#00cc96\"}, \"name\": \"topic and gender=topic: Sports-Recreation; gender: male\", \"offsetgroup\": \"topic and gender=topic: Sports-Recreation; gender: male\", \"orientation\": \"v\", \"showlegend\": true, \"type\": \"histogram\", \"x\": [17, 17, 17, 17, 17, 17, 17, 17, 17, 17, 17, 17, 17, 17, 17, 17, 17, 17, 17, 17, 17, 17, 17, 17, 17, 17, 17, 17, 17, 17, 17, 17, 17, 17, 17, 17, 17, 17, 17, 17, 17, 17, 17, 17, 17, 17, 17, 17, 17, 17, 17, 17, 17, 17, 17, 17, 17, 17, 17, 17, 17, 17, 17, 17, 17, 17, 17, 17, 17, 17, 17, 17, 17, 17, 17], \"xaxis\": \"x\", \"yaxis\": \"y\"}, {\"alignmentgroup\": \"True\", \"boxpoints\": \"all\", \"customdata\": [[17, \"Sports-Recreation\", \"male\"], [17, \"Sports-Recreation\", \"male\"], [17, \"Sports-Recreation\", \"male\"], [17, \"Sports-Recreation\", \"male\"], [17, \"Sports-Recreation\", \"male\"], [17, \"Sports-Recreation\", \"male\"], [17, \"Sports-Recreation\", \"male\"], [17, \"Sports-Recreation\", \"male\"], [17, \"Sports-Recreation\", \"male\"], [17, \"Sports-Recreation\", \"male\"], [17, \"Sports-Recreation\", \"male\"], [17, \"Sports-Recreation\", \"male\"], [17, \"Sports-Recreation\", \"male\"], [17, \"Sports-Recreation\", \"male\"], [17, \"Sports-Recreation\", \"male\"], [17, \"Sports-Recreation\", \"male\"], [17, \"Sports-Recreation\", \"male\"], [17, \"Sports-Recreation\", \"male\"], [17, \"Sports-Recreation\", \"male\"], [17, \"Sports-Recreation\", \"male\"], [17, \"Sports-Recreation\", \"male\"], [17, \"Sports-Recreation\", \"male\"], [17, \"Sports-Recreation\", \"male\"], [17, \"Sports-Recreation\", \"male\"], [17, \"Sports-Recreation\", \"male\"], [17, \"Sports-Recreation\", \"male\"], [17, \"Sports-Recreation\", \"male\"], [17, \"Sports-Recreation\", \"male\"], [17, \"Sports-Recreation\", \"male\"], [17, \"Sports-Recreation\", \"male\"], [17, \"Sports-Recreation\", \"male\"], [17, \"Sports-Recreation\", \"male\"], [17, \"Sports-Recreation\", \"male\"], [17, \"Sports-Recreation\", \"male\"], [17, \"Sports-Recreation\", \"male\"], [17, \"Sports-Recreation\", \"male\"], [17, \"Sports-Recreation\", \"male\"], [17, \"Sports-Recreation\", \"male\"], [17, \"Sports-Recreation\", \"male\"], [17, \"Sports-Recreation\", \"male\"], [17, \"Sports-Recreation\", \"male\"], [17, \"Sports-Recreation\", \"male\"], [17, \"Sports-Recreation\", \"male\"], [17, \"Sports-Recreation\", \"male\"], [17, \"Sports-Recreation\", \"male\"], [17, \"Sports-Recreation\", \"male\"], [17, \"Sports-Recreation\", \"male\"], [17, \"Sports-Recreation\", \"male\"], [17, \"Sports-Recreation\", \"male\"], [17, \"Sports-Recreation\", \"male\"], [17, \"Sports-Recreation\", \"male\"], [17, \"Sports-Recreation\", \"male\"], [17, \"Sports-Recreation\", \"male\"], [17, \"Sports-Recreation\", \"male\"], [17, \"Sports-Recreation\", \"male\"], [17, \"Sports-Recreation\", \"male\"], [17, \"Sports-Recreation\", \"male\"], [17, \"Sports-Recreation\", \"male\"], [17, \"Sports-Recreation\", \"male\"], [17, \"Sports-Recreation\", \"male\"], [17, \"Sports-Recreation\", \"male\"], [17, \"Sports-Recreation\", \"male\"], [17, \"Sports-Recreation\", \"male\"], [17, \"Sports-Recreation\", \"male\"], [17, \"Sports-Recreation\", \"male\"], [17, \"Sports-Recreation\", \"male\"], [17, \"Sports-Recreation\", \"male\"], [17, \"Sports-Recreation\", \"male\"], [17, \"Sports-Recreation\", \"male\"], [17, \"Sports-Recreation\", \"male\"], [17, \"Sports-Recreation\", \"male\"], [17, \"Sports-Recreation\", \"male\"], [17, \"Sports-Recreation\", \"male\"], [17, \"Sports-Recreation\", \"male\"], [17, \"Sports-Recreation\", \"male\"]], \"fillcolor\": \"rgba(255,255,255,0)\", \"hoverlabel\": {\"namelength\": 0}, \"hoveron\": \"points\", \"hovertemplate\": \"topic and gender=topic: Sports-Recreation; gender: male<br>age=%{customdata[0]}<br>topic=%{customdata[1]}<br>gender=%{customdata[2]}\", \"jitter\": 0, \"legendgroup\": \"topic and gender=topic: Sports-Recreation; gender: male\", \"line\": {\"color\": \"rgba(255,255,255,0)\"}, \"marker\": {\"color\": \"#00cc96\", \"symbol\": \"line-ns-open\"}, \"name\": \"topic and gender=topic: Sports-Recreation; gender: male\", \"offsetgroup\": \"topic and gender=topic: Sports-Recreation; gender: male\", \"showlegend\": false, \"type\": \"box\", \"x\": [17, 17, 17, 17, 17, 17, 17, 17, 17, 17, 17, 17, 17, 17, 17, 17, 17, 17, 17, 17, 17, 17, 17, 17, 17, 17, 17, 17, 17, 17, 17, 17, 17, 17, 17, 17, 17, 17, 17, 17, 17, 17, 17, 17, 17, 17, 17, 17, 17, 17, 17, 17, 17, 17, 17, 17, 17, 17, 17, 17, 17, 17, 17, 17, 17, 17, 17, 17, 17, 17, 17, 17, 17, 17, 17], \"xaxis\": \"x2\", \"yaxis\": \"y2\"}, {\"alignmentgroup\": \"True\", \"bingroup\": \"x\", \"hoverlabel\": {\"namelength\": 0}, \"hovertemplate\": \"topic and gender=topic: Arts; gender: female<br>age=%{x}<br>count=%{y}\", \"legendgroup\": \"topic and gender=topic: Arts; gender: female\", \"marker\": {\"color\": \"#ab63fa\"}, \"name\": \"topic and gender=topic: Arts; gender: female\", \"offsetgroup\": \"topic and gender=topic: Arts; gender: female\", \"orientation\": \"v\", \"showlegend\": true, \"type\": \"histogram\", \"x\": [15, 15], \"xaxis\": \"x\", \"yaxis\": \"y\"}, {\"alignmentgroup\": \"True\", \"boxpoints\": \"all\", \"customdata\": [[15, \"Arts\", \"female\"], [15, \"Arts\", \"female\"]], \"fillcolor\": \"rgba(255,255,255,0)\", \"hoverlabel\": {\"namelength\": 0}, \"hoveron\": \"points\", \"hovertemplate\": \"topic and gender=topic: Arts; gender: female<br>age=%{customdata[0]}<br>topic=%{customdata[1]}<br>gender=%{customdata[2]}\", \"jitter\": 0, \"legendgroup\": \"topic and gender=topic: Arts; gender: female\", \"line\": {\"color\": \"rgba(255,255,255,0)\"}, \"marker\": {\"color\": \"#ab63fa\", \"symbol\": \"line-ns-open\"}, \"name\": \"topic and gender=topic: Arts; gender: female\", \"offsetgroup\": \"topic and gender=topic: Arts; gender: female\", \"showlegend\": false, \"type\": \"box\", \"x\": [15, 15], \"xaxis\": \"x2\", \"yaxis\": \"y2\"}],\n",
              "                        {\"barmode\": \"relative\", \"legend\": {\"tracegroupgap\": 0}, \"margin\": {\"t\": 60}, \"template\": {\"data\": {\"bar\": [{\"error_x\": {\"color\": \"#2a3f5f\"}, \"error_y\": {\"color\": \"#2a3f5f\"}, \"marker\": {\"line\": {\"color\": \"#E5ECF6\", \"width\": 0.5}}, \"type\": \"bar\"}], \"barpolar\": [{\"marker\": {\"line\": {\"color\": \"#E5ECF6\", \"width\": 0.5}}, \"type\": \"barpolar\"}], \"carpet\": [{\"aaxis\": {\"endlinecolor\": \"#2a3f5f\", \"gridcolor\": \"white\", \"linecolor\": \"white\", \"minorgridcolor\": \"white\", \"startlinecolor\": \"#2a3f5f\"}, \"baxis\": {\"endlinecolor\": \"#2a3f5f\", \"gridcolor\": \"white\", \"linecolor\": \"white\", \"minorgridcolor\": \"white\", \"startlinecolor\": \"#2a3f5f\"}, \"type\": \"carpet\"}], \"choropleth\": [{\"colorbar\": {\"outlinewidth\": 0, \"ticks\": \"\"}, \"type\": \"choropleth\"}], \"contour\": [{\"colorbar\": {\"outlinewidth\": 0, \"ticks\": \"\"}, \"colorscale\": [[0.0, \"#0d0887\"], [0.1111111111111111, \"#46039f\"], [0.2222222222222222, \"#7201a8\"], [0.3333333333333333, \"#9c179e\"], [0.4444444444444444, \"#bd3786\"], [0.5555555555555556, \"#d8576b\"], [0.6666666666666666, \"#ed7953\"], [0.7777777777777778, \"#fb9f3a\"], [0.8888888888888888, \"#fdca26\"], [1.0, \"#f0f921\"]], \"type\": \"contour\"}], \"contourcarpet\": [{\"colorbar\": {\"outlinewidth\": 0, \"ticks\": \"\"}, \"type\": \"contourcarpet\"}], \"heatmap\": [{\"colorbar\": {\"outlinewidth\": 0, \"ticks\": \"\"}, \"colorscale\": [[0.0, \"#0d0887\"], [0.1111111111111111, \"#46039f\"], [0.2222222222222222, \"#7201a8\"], [0.3333333333333333, \"#9c179e\"], [0.4444444444444444, \"#bd3786\"], [0.5555555555555556, \"#d8576b\"], [0.6666666666666666, \"#ed7953\"], [0.7777777777777778, \"#fb9f3a\"], [0.8888888888888888, \"#fdca26\"], [1.0, \"#f0f921\"]], \"type\": \"heatmap\"}], \"heatmapgl\": [{\"colorbar\": {\"outlinewidth\": 0, \"ticks\": \"\"}, \"colorscale\": [[0.0, \"#0d0887\"], [0.1111111111111111, \"#46039f\"], [0.2222222222222222, \"#7201a8\"], [0.3333333333333333, \"#9c179e\"], [0.4444444444444444, \"#bd3786\"], [0.5555555555555556, \"#d8576b\"], [0.6666666666666666, \"#ed7953\"], [0.7777777777777778, \"#fb9f3a\"], [0.8888888888888888, \"#fdca26\"], [1.0, \"#f0f921\"]], \"type\": \"heatmapgl\"}], \"histogram\": [{\"marker\": {\"colorbar\": {\"outlinewidth\": 0, \"ticks\": \"\"}}, \"type\": \"histogram\"}], \"histogram2d\": [{\"colorbar\": {\"outlinewidth\": 0, \"ticks\": \"\"}, \"colorscale\": [[0.0, \"#0d0887\"], [0.1111111111111111, \"#46039f\"], [0.2222222222222222, \"#7201a8\"], [0.3333333333333333, \"#9c179e\"], [0.4444444444444444, \"#bd3786\"], [0.5555555555555556, \"#d8576b\"], [0.6666666666666666, \"#ed7953\"], [0.7777777777777778, \"#fb9f3a\"], [0.8888888888888888, \"#fdca26\"], [1.0, \"#f0f921\"]], \"type\": \"histogram2d\"}], \"histogram2dcontour\": [{\"colorbar\": {\"outlinewidth\": 0, \"ticks\": \"\"}, \"colorscale\": [[0.0, \"#0d0887\"], [0.1111111111111111, \"#46039f\"], [0.2222222222222222, \"#7201a8\"], [0.3333333333333333, \"#9c179e\"], [0.4444444444444444, \"#bd3786\"], [0.5555555555555556, \"#d8576b\"], [0.6666666666666666, \"#ed7953\"], [0.7777777777777778, \"#fb9f3a\"], [0.8888888888888888, \"#fdca26\"], [1.0, \"#f0f921\"]], \"type\": \"histogram2dcontour\"}], \"mesh3d\": [{\"colorbar\": {\"outlinewidth\": 0, \"ticks\": \"\"}, \"type\": \"mesh3d\"}], \"parcoords\": [{\"line\": {\"colorbar\": {\"outlinewidth\": 0, \"ticks\": \"\"}}, \"type\": \"parcoords\"}], \"pie\": [{\"automargin\": true, \"type\": \"pie\"}], \"scatter\": [{\"marker\": {\"colorbar\": {\"outlinewidth\": 0, \"ticks\": \"\"}}, \"type\": \"scatter\"}], \"scatter3d\": [{\"line\": {\"colorbar\": {\"outlinewidth\": 0, \"ticks\": \"\"}}, \"marker\": {\"colorbar\": {\"outlinewidth\": 0, \"ticks\": \"\"}}, \"type\": \"scatter3d\"}], \"scattercarpet\": [{\"marker\": {\"colorbar\": {\"outlinewidth\": 0, \"ticks\": \"\"}}, \"type\": \"scattercarpet\"}], \"scattergeo\": [{\"marker\": {\"colorbar\": {\"outlinewidth\": 0, \"ticks\": \"\"}}, \"type\": \"scattergeo\"}], \"scattergl\": [{\"marker\": {\"colorbar\": {\"outlinewidth\": 0, \"ticks\": \"\"}}, \"type\": \"scattergl\"}], \"scattermapbox\": [{\"marker\": {\"colorbar\": {\"outlinewidth\": 0, \"ticks\": \"\"}}, \"type\": \"scattermapbox\"}], \"scatterpolar\": [{\"marker\": {\"colorbar\": {\"outlinewidth\": 0, \"ticks\": \"\"}}, \"type\": \"scatterpolar\"}], \"scatterpolargl\": [{\"marker\": {\"colorbar\": {\"outlinewidth\": 0, \"ticks\": \"\"}}, \"type\": \"scatterpolargl\"}], \"scatterternary\": [{\"marker\": {\"colorbar\": {\"outlinewidth\": 0, \"ticks\": \"\"}}, \"type\": \"scatterternary\"}], \"surface\": [{\"colorbar\": {\"outlinewidth\": 0, \"ticks\": \"\"}, \"colorscale\": [[0.0, \"#0d0887\"], [0.1111111111111111, \"#46039f\"], [0.2222222222222222, \"#7201a8\"], [0.3333333333333333, \"#9c179e\"], [0.4444444444444444, \"#bd3786\"], [0.5555555555555556, \"#d8576b\"], [0.6666666666666666, \"#ed7953\"], [0.7777777777777778, \"#fb9f3a\"], [0.8888888888888888, \"#fdca26\"], [1.0, \"#f0f921\"]], \"type\": \"surface\"}], \"table\": [{\"cells\": {\"fill\": {\"color\": \"#EBF0F8\"}, \"line\": {\"color\": \"white\"}}, \"header\": {\"fill\": {\"color\": \"#C8D4E3\"}, \"line\": {\"color\": \"white\"}}, \"type\": \"table\"}]}, \"layout\": {\"annotationdefaults\": {\"arrowcolor\": \"#2a3f5f\", \"arrowhead\": 0, \"arrowwidth\": 1}, \"coloraxis\": {\"colorbar\": {\"outlinewidth\": 0, \"ticks\": \"\"}}, \"colorscale\": {\"diverging\": [[0, \"#8e0152\"], [0.1, \"#c51b7d\"], [0.2, \"#de77ae\"], [0.3, \"#f1b6da\"], [0.4, \"#fde0ef\"], [0.5, \"#f7f7f7\"], [0.6, \"#e6f5d0\"], [0.7, \"#b8e186\"], [0.8, \"#7fbc41\"], [0.9, \"#4d9221\"], [1, \"#276419\"]], \"sequential\": [[0.0, \"#0d0887\"], [0.1111111111111111, \"#46039f\"], [0.2222222222222222, \"#7201a8\"], [0.3333333333333333, \"#9c179e\"], [0.4444444444444444, \"#bd3786\"], [0.5555555555555556, \"#d8576b\"], [0.6666666666666666, \"#ed7953\"], [0.7777777777777778, \"#fb9f3a\"], [0.8888888888888888, \"#fdca26\"], [1.0, \"#f0f921\"]], \"sequentialminus\": [[0.0, \"#0d0887\"], [0.1111111111111111, \"#46039f\"], [0.2222222222222222, \"#7201a8\"], [0.3333333333333333, \"#9c179e\"], [0.4444444444444444, \"#bd3786\"], [0.5555555555555556, \"#d8576b\"], [0.6666666666666666, \"#ed7953\"], [0.7777777777777778, \"#fb9f3a\"], [0.8888888888888888, \"#fdca26\"], [1.0, \"#f0f921\"]]}, \"colorway\": [\"#636efa\", \"#EF553B\", \"#00cc96\", \"#ab63fa\", \"#FFA15A\", \"#19d3f3\", \"#FF6692\", \"#B6E880\", \"#FF97FF\", \"#FECB52\"], \"font\": {\"color\": \"#2a3f5f\"}, \"geo\": {\"bgcolor\": \"white\", \"lakecolor\": \"white\", \"landcolor\": \"#E5ECF6\", \"showlakes\": true, \"showland\": true, \"subunitcolor\": \"white\"}, \"hoverlabel\": {\"align\": \"left\"}, \"hovermode\": \"closest\", \"mapbox\": {\"style\": \"light\"}, \"paper_bgcolor\": \"white\", \"plot_bgcolor\": \"#E5ECF6\", \"polar\": {\"angularaxis\": {\"gridcolor\": \"white\", \"linecolor\": \"white\", \"ticks\": \"\"}, \"bgcolor\": \"#E5ECF6\", \"radialaxis\": {\"gridcolor\": \"white\", \"linecolor\": \"white\", \"ticks\": \"\"}}, \"scene\": {\"xaxis\": {\"backgroundcolor\": \"#E5ECF6\", \"gridcolor\": \"white\", \"gridwidth\": 2, \"linecolor\": \"white\", \"showbackground\": true, \"ticks\": \"\", \"zerolinecolor\": \"white\"}, \"yaxis\": {\"backgroundcolor\": \"#E5ECF6\", \"gridcolor\": \"white\", \"gridwidth\": 2, \"linecolor\": \"white\", \"showbackground\": true, \"ticks\": \"\", \"zerolinecolor\": \"white\"}, \"zaxis\": {\"backgroundcolor\": \"#E5ECF6\", \"gridcolor\": \"white\", \"gridwidth\": 2, \"linecolor\": \"white\", \"showbackground\": true, \"ticks\": \"\", \"zerolinecolor\": \"white\"}}, \"shapedefaults\": {\"line\": {\"color\": \"#2a3f5f\"}}, \"ternary\": {\"aaxis\": {\"gridcolor\": \"white\", \"linecolor\": \"white\", \"ticks\": \"\"}, \"baxis\": {\"gridcolor\": \"white\", \"linecolor\": \"white\", \"ticks\": \"\"}, \"bgcolor\": \"#E5ECF6\", \"caxis\": {\"gridcolor\": \"white\", \"linecolor\": \"white\", \"ticks\": \"\"}}, \"title\": {\"x\": 0.05}, \"xaxis\": {\"automargin\": true, \"gridcolor\": \"white\", \"linecolor\": \"white\", \"ticks\": \"\", \"title\": {\"standoff\": 15}, \"zerolinecolor\": \"white\", \"zerolinewidth\": 2}, \"yaxis\": {\"automargin\": true, \"gridcolor\": \"white\", \"linecolor\": \"white\", \"ticks\": \"\", \"title\": {\"standoff\": 15}, \"zerolinecolor\": \"white\", \"zerolinewidth\": 2}}}, \"xaxis\": {\"anchor\": \"y\", \"domain\": [0.0, 1.0], \"title\": {\"text\": \"age\"}}, \"xaxis2\": {\"anchor\": \"y2\", \"domain\": [0.0, 1.0], \"matches\": \"x\", \"showgrid\": true, \"showticklabels\": false}, \"yaxis\": {\"anchor\": \"x\", \"domain\": [0.0, 0.7326], \"title\": {\"text\": \"count\"}}, \"yaxis2\": {\"anchor\": \"x2\", \"domain\": [0.7426, 1.0], \"matches\": \"y2\", \"showgrid\": false, \"showline\": false, \"showticklabels\": false, \"ticks\": \"\"}},\n",
              "                        {\"responsive\": true}\n",
              "                    ).then(function(){\n",
              "                            \n",
              "var gd = document.getElementById('261bf712-1325-4041-bd2a-c63ff0696ce1');\n",
              "var x = new MutationObserver(function (mutations, observer) {{\n",
              "        var display = window.getComputedStyle(gd).display;\n",
              "        if (!display || display === 'none') {{\n",
              "            console.log([gd, 'removed!']);\n",
              "            Plotly.purge(gd);\n",
              "            observer.disconnect();\n",
              "        }}\n",
              "}});\n",
              "\n",
              "// Listen for the removal of the full notebook cells\n",
              "var notebookContainer = gd.closest('#notebook-container');\n",
              "if (notebookContainer) {{\n",
              "    x.observe(notebookContainer, {childList: true});\n",
              "}}\n",
              "\n",
              "// Listen for the clearing of the current output cell\n",
              "var outputEl = gd.closest('.output');\n",
              "if (outputEl) {{\n",
              "    x.observe(outputEl, {childList: true});\n",
              "}}\n",
              "\n",
              "                        })\n",
              "                };\n",
              "                \n",
              "            </script>\n",
              "        </div>\n",
              "</body>\n",
              "</html>"
            ]
          },
          "metadata": {}
        }
      ]
    },
    {
      "cell_type": "markdown",
      "metadata": {
        "id": "HoIuWd1A0P2x"
      },
      "source": [
        "**Question 5:** Using the  [SJR Journal Ranking of 2018](https://www.scimagojr.com/journalrank.php) dataset and Seaborn, visualize\n",
        "    the H-index distributions according to the SJR Best Quartile (15pt). Using a grid, visualize the _Cites / Doc. (2years)_ histograms values of each publisher (15pt).\n",
        "    \n"
      ]
    },
    {
      "cell_type": "code",
      "metadata": {
        "id": "soD7HIrZqgjA"
      },
      "source": [
        "import pandas as pd"
      ],
      "execution_count": 19,
      "outputs": []
    },
    {
      "cell_type": "code",
      "metadata": {
        "colab": {
          "base_uri": "https://localhost:8080/",
          "height": 207
        },
        "id": "u_xEdLY3pTSa",
        "outputId": "7bd540c3-8182-4fd3-f12f-293708ce224a"
      },
      "source": [
        "sf = tc.SFrame.read_csv(\"/content/gdrive/MyDrive/Studying/Big Data/HW3_203837695/scimagojr 2020.csv\", nrows=10000)\n"
      ],
      "execution_count": 20,
      "outputs": [
        {
          "output_type": "display_data",
          "data": {
            "text/html": [
              "<pre>Finished parsing file /content/gdrive/MyDrive/Studying/Big Data/HW3_203837695/scimagojr 2020.csv</pre>"
            ],
            "text/plain": [
              "Finished parsing file /content/gdrive/MyDrive/Studying/Big Data/HW3_203837695/scimagojr 2020.csv"
            ]
          },
          "metadata": {}
        },
        {
          "output_type": "display_data",
          "data": {
            "text/html": [
              "<pre>Parsing completed. Parsed 100 lines in 0.710921 secs.</pre>"
            ],
            "text/plain": [
              "Parsing completed. Parsed 100 lines in 0.710921 secs."
            ]
          },
          "metadata": {}
        },
        {
          "output_type": "stream",
          "name": "stdout",
          "text": [
            "------------------------------------------------------\n",
            "Inferred types from first 100 line(s) of file as \n",
            "column_type_hints=[int,int,str,str,str,int,str,int,int,int,int,int,int,int,int,str,str,str,str,str]\n",
            "If parsing fails due to incorrect types, you can correct\n",
            "the inferred type list above and pass it to read_csv in\n",
            "the column_type_hints argument\n",
            "------------------------------------------------------\n"
          ]
        },
        {
          "output_type": "display_data",
          "data": {
            "text/html": [
              "<pre>Finished parsing file /content/gdrive/MyDrive/Studying/Big Data/HW3_203837695/scimagojr 2020.csv</pre>"
            ],
            "text/plain": [
              "Finished parsing file /content/gdrive/MyDrive/Studying/Big Data/HW3_203837695/scimagojr 2020.csv"
            ]
          },
          "metadata": {}
        },
        {
          "output_type": "display_data",
          "data": {
            "text/html": [
              "<pre>Parsing completed. Parsed 10000 lines in 0.200554 secs.</pre>"
            ],
            "text/plain": [
              "Parsing completed. Parsed 10000 lines in 0.200554 secs."
            ]
          },
          "metadata": {}
        }
      ]
    },
    {
      "cell_type": "code",
      "metadata": {
        "colab": {
          "base_uri": "https://localhost:8080/",
          "height": 1000
        },
        "id": "fK34c7v6qXud",
        "outputId": "7f03b660-eb39-4a34-a7e8-248268448e75"
      },
      "source": [
        "sf"
      ],
      "execution_count": 21,
      "outputs": [
        {
          "output_type": "execute_result",
          "data": {
            "text/html": [
              "<div style=\"max-height:1000px;max-width:1500px;overflow:auto;\"><table frame=\"box\" rules=\"cols\">\n",
              "    <tr>\n",
              "        <th style=\"padding-left: 1em; padding-right: 1em; text-align: center\">Rank</th>\n",
              "        <th style=\"padding-left: 1em; padding-right: 1em; text-align: center\">Sourceid</th>\n",
              "        <th style=\"padding-left: 1em; padding-right: 1em; text-align: center\">Title</th>\n",
              "        <th style=\"padding-left: 1em; padding-right: 1em; text-align: center\">Type</th>\n",
              "        <th style=\"padding-left: 1em; padding-right: 1em; text-align: center\">Issn</th>\n",
              "        <th style=\"padding-left: 1em; padding-right: 1em; text-align: center\">SJR</th>\n",
              "        <th style=\"padding-left: 1em; padding-right: 1em; text-align: center\">SJR Best Quartile</th>\n",
              "        <th style=\"padding-left: 1em; padding-right: 1em; text-align: center\">H index</th>\n",
              "    </tr>\n",
              "    <tr>\n",
              "        <td style=\"padding-left: 1em; padding-right: 1em; text-align: center; vertical-align: top\">1</td>\n",
              "        <td style=\"padding-left: 1em; padding-right: 1em; text-align: center; vertical-align: top\">28773</td>\n",
              "        <td style=\"padding-left: 1em; padding-right: 1em; text-align: center; vertical-align: top\">Ca-A Cancer Journal for<br>Clinicians ...</td>\n",
              "        <td style=\"padding-left: 1em; padding-right: 1em; text-align: center; vertical-align: top\">journal</td>\n",
              "        <td style=\"padding-left: 1em; padding-right: 1em; text-align: center; vertical-align: top\">15424863, 00079235</td>\n",
              "        <td style=\"padding-left: 1em; padding-right: 1em; text-align: center; vertical-align: top\">62937</td>\n",
              "        <td style=\"padding-left: 1em; padding-right: 1em; text-align: center; vertical-align: top\">Q1</td>\n",
              "        <td style=\"padding-left: 1em; padding-right: 1em; text-align: center; vertical-align: top\">168</td>\n",
              "    </tr>\n",
              "    <tr>\n",
              "        <td style=\"padding-left: 1em; padding-right: 1em; text-align: center; vertical-align: top\">2</td>\n",
              "        <td style=\"padding-left: 1em; padding-right: 1em; text-align: center; vertical-align: top\">19434</td>\n",
              "        <td style=\"padding-left: 1em; padding-right: 1em; text-align: center; vertical-align: top\">MMWR Recommendations and<br>Reports ...</td>\n",
              "        <td style=\"padding-left: 1em; padding-right: 1em; text-align: center; vertical-align: top\">journal</td>\n",
              "        <td style=\"padding-left: 1em; padding-right: 1em; text-align: center; vertical-align: top\">10575987, 15458601</td>\n",
              "        <td style=\"padding-left: 1em; padding-right: 1em; text-align: center; vertical-align: top\">40949</td>\n",
              "        <td style=\"padding-left: 1em; padding-right: 1em; text-align: center; vertical-align: top\">Q1</td>\n",
              "        <td style=\"padding-left: 1em; padding-right: 1em; text-align: center; vertical-align: top\">143</td>\n",
              "    </tr>\n",
              "    <tr>\n",
              "        <td style=\"padding-left: 1em; padding-right: 1em; text-align: center; vertical-align: top\">3</td>\n",
              "        <td style=\"padding-left: 1em; padding-right: 1em; text-align: center; vertical-align: top\">20315</td>\n",
              "        <td style=\"padding-left: 1em; padding-right: 1em; text-align: center; vertical-align: top\">Nature Reviews Molecular<br>Cell Biology ...</td>\n",
              "        <td style=\"padding-left: 1em; padding-right: 1em; text-align: center; vertical-align: top\">journal</td>\n",
              "        <td style=\"padding-left: 1em; padding-right: 1em; text-align: center; vertical-align: top\">14710072, 14710080</td>\n",
              "        <td style=\"padding-left: 1em; padding-right: 1em; text-align: center; vertical-align: top\">37461</td>\n",
              "        <td style=\"padding-left: 1em; padding-right: 1em; text-align: center; vertical-align: top\">Q1</td>\n",
              "        <td style=\"padding-left: 1em; padding-right: 1em; text-align: center; vertical-align: top\">431</td>\n",
              "    </tr>\n",
              "    <tr>\n",
              "        <td style=\"padding-left: 1em; padding-right: 1em; text-align: center; vertical-align: top\">4</td>\n",
              "        <td style=\"padding-left: 1em; padding-right: 1em; text-align: center; vertical-align: top\">29431</td>\n",
              "        <td style=\"padding-left: 1em; padding-right: 1em; text-align: center; vertical-align: top\">Quarterly Journal of<br>Economics ...</td>\n",
              "        <td style=\"padding-left: 1em; padding-right: 1em; text-align: center; vertical-align: top\">journal</td>\n",
              "        <td style=\"padding-left: 1em; padding-right: 1em; text-align: center; vertical-align: top\">00335533, 15314650</td>\n",
              "        <td style=\"padding-left: 1em; padding-right: 1em; text-align: center; vertical-align: top\">34573</td>\n",
              "        <td style=\"padding-left: 1em; padding-right: 1em; text-align: center; vertical-align: top\">Q1</td>\n",
              "        <td style=\"padding-left: 1em; padding-right: 1em; text-align: center; vertical-align: top\">259</td>\n",
              "    </tr>\n",
              "    <tr>\n",
              "        <td style=\"padding-left: 1em; padding-right: 1em; text-align: center; vertical-align: top\">5</td>\n",
              "        <td style=\"padding-left: 1em; padding-right: 1em; text-align: center; vertical-align: top\">21100812243</td>\n",
              "        <td style=\"padding-left: 1em; padding-right: 1em; text-align: center; vertical-align: top\">Nature Reviews Materials</td>\n",
              "        <td style=\"padding-left: 1em; padding-right: 1em; text-align: center; vertical-align: top\">journal</td>\n",
              "        <td style=\"padding-left: 1em; padding-right: 1em; text-align: center; vertical-align: top\">20588437</td>\n",
              "        <td style=\"padding-left: 1em; padding-right: 1em; text-align: center; vertical-align: top\">32011</td>\n",
              "        <td style=\"padding-left: 1em; padding-right: 1em; text-align: center; vertical-align: top\">Q1</td>\n",
              "        <td style=\"padding-left: 1em; padding-right: 1em; text-align: center; vertical-align: top\">108</td>\n",
              "    </tr>\n",
              "    <tr>\n",
              "        <td style=\"padding-left: 1em; padding-right: 1em; text-align: center; vertical-align: top\">6</td>\n",
              "        <td style=\"padding-left: 1em; padding-right: 1em; text-align: center; vertical-align: top\">58530</td>\n",
              "        <td style=\"padding-left: 1em; padding-right: 1em; text-align: center; vertical-align: top\">National vital statistics<br>reports : from the ...</td>\n",
              "        <td style=\"padding-left: 1em; padding-right: 1em; text-align: center; vertical-align: top\">journal</td>\n",
              "        <td style=\"padding-left: 1em; padding-right: 1em; text-align: center; vertical-align: top\">15518922, 15518930</td>\n",
              "        <td style=\"padding-left: 1em; padding-right: 1em; text-align: center; vertical-align: top\">28083</td>\n",
              "        <td style=\"padding-left: 1em; padding-right: 1em; text-align: center; vertical-align: top\">Q1</td>\n",
              "        <td style=\"padding-left: 1em; padding-right: 1em; text-align: center; vertical-align: top\">100</td>\n",
              "    </tr>\n",
              "    <tr>\n",
              "        <td style=\"padding-left: 1em; padding-right: 1em; text-align: center; vertical-align: top\">7</td>\n",
              "        <td style=\"padding-left: 1em; padding-right: 1em; text-align: center; vertical-align: top\">18434</td>\n",
              "        <td style=\"padding-left: 1em; padding-right: 1em; text-align: center; vertical-align: top\">Cell</td>\n",
              "        <td style=\"padding-left: 1em; padding-right: 1em; text-align: center; vertical-align: top\">journal</td>\n",
              "        <td style=\"padding-left: 1em; padding-right: 1em; text-align: center; vertical-align: top\">00928674, 10974172</td>\n",
              "        <td style=\"padding-left: 1em; padding-right: 1em; text-align: center; vertical-align: top\">26304</td>\n",
              "        <td style=\"padding-left: 1em; padding-right: 1em; text-align: center; vertical-align: top\">Q1</td>\n",
              "        <td style=\"padding-left: 1em; padding-right: 1em; text-align: center; vertical-align: top\">776</td>\n",
              "    </tr>\n",
              "    <tr>\n",
              "        <td style=\"padding-left: 1em; padding-right: 1em; text-align: center; vertical-align: top\">8</td>\n",
              "        <td style=\"padding-left: 1em; padding-right: 1em; text-align: center; vertical-align: top\">18991</td>\n",
              "        <td style=\"padding-left: 1em; padding-right: 1em; text-align: center; vertical-align: top\">Nature Reviews Genetics</td>\n",
              "        <td style=\"padding-left: 1em; padding-right: 1em; text-align: center; vertical-align: top\">journal</td>\n",
              "        <td style=\"padding-left: 1em; padding-right: 1em; text-align: center; vertical-align: top\">14710056, 14710064</td>\n",
              "        <td style=\"padding-left: 1em; padding-right: 1em; text-align: center; vertical-align: top\">26214</td>\n",
              "        <td style=\"padding-left: 1em; padding-right: 1em; text-align: center; vertical-align: top\">Q1</td>\n",
              "        <td style=\"padding-left: 1em; padding-right: 1em; text-align: center; vertical-align: top\">365</td>\n",
              "    </tr>\n",
              "    <tr>\n",
              "        <td style=\"padding-left: 1em; padding-right: 1em; text-align: center; vertical-align: top\">9</td>\n",
              "        <td style=\"padding-left: 1em; padding-right: 1em; text-align: center; vertical-align: top\">29719</td>\n",
              "        <td style=\"padding-left: 1em; padding-right: 1em; text-align: center; vertical-align: top\">Reviews of Modern Physics</td>\n",
              "        <td style=\"padding-left: 1em; padding-right: 1em; text-align: center; vertical-align: top\">journal</td>\n",
              "        <td style=\"padding-left: 1em; padding-right: 1em; text-align: center; vertical-align: top\">00346861, 15390756</td>\n",
              "        <td style=\"padding-left: 1em; padding-right: 1em; text-align: center; vertical-align: top\">24877</td>\n",
              "        <td style=\"padding-left: 1em; padding-right: 1em; text-align: center; vertical-align: top\">Q1</td>\n",
              "        <td style=\"padding-left: 1em; padding-right: 1em; text-align: center; vertical-align: top\">363</td>\n",
              "    </tr>\n",
              "    <tr>\n",
              "        <td style=\"padding-left: 1em; padding-right: 1em; text-align: center; vertical-align: top\">10</td>\n",
              "        <td style=\"padding-left: 1em; padding-right: 1em; text-align: center; vertical-align: top\">24404</td>\n",
              "        <td style=\"padding-left: 1em; padding-right: 1em; text-align: center; vertical-align: top\">Journal of Political<br>Economy ...</td>\n",
              "        <td style=\"padding-left: 1em; padding-right: 1em; text-align: center; vertical-align: top\">journal</td>\n",
              "        <td style=\"padding-left: 1em; padding-right: 1em; text-align: center; vertical-align: top\">00223808, 1537534X</td>\n",
              "        <td style=\"padding-left: 1em; padding-right: 1em; text-align: center; vertical-align: top\">21034</td>\n",
              "        <td style=\"padding-left: 1em; padding-right: 1em; text-align: center; vertical-align: top\">Q1</td>\n",
              "        <td style=\"padding-left: 1em; padding-right: 1em; text-align: center; vertical-align: top\">186</td>\n",
              "    </tr>\n",
              "</table>\n",
              "<table frame=\"box\" rules=\"cols\">\n",
              "    <tr>\n",
              "        <th style=\"padding-left: 1em; padding-right: 1em; text-align: center\">Total Docs. (2020)</th>\n",
              "        <th style=\"padding-left: 1em; padding-right: 1em; text-align: center\">Total Docs. (3years)</th>\n",
              "        <th style=\"padding-left: 1em; padding-right: 1em; text-align: center\">Total Refs.</th>\n",
              "        <th style=\"padding-left: 1em; padding-right: 1em; text-align: center\">Total Cites (3years)</th>\n",
              "        <th style=\"padding-left: 1em; padding-right: 1em; text-align: center\">Citable Docs. (3years)</th>\n",
              "        <th style=\"padding-left: 1em; padding-right: 1em; text-align: center\">Cites / Doc. (2years)</th>\n",
              "    </tr>\n",
              "    <tr>\n",
              "        <td style=\"padding-left: 1em; padding-right: 1em; text-align: center; vertical-align: top\">47</td>\n",
              "        <td style=\"padding-left: 1em; padding-right: 1em; text-align: center; vertical-align: top\">119</td>\n",
              "        <td style=\"padding-left: 1em; padding-right: 1em; text-align: center; vertical-align: top\">3452</td>\n",
              "        <td style=\"padding-left: 1em; padding-right: 1em; text-align: center; vertical-align: top\">15499</td>\n",
              "        <td style=\"padding-left: 1em; padding-right: 1em; text-align: center; vertical-align: top\">80</td>\n",
              "        <td style=\"padding-left: 1em; padding-right: 1em; text-align: center; vertical-align: top\">12634</td>\n",
              "    </tr>\n",
              "    <tr>\n",
              "        <td style=\"padding-left: 1em; padding-right: 1em; text-align: center; vertical-align: top\">10</td>\n",
              "        <td style=\"padding-left: 1em; padding-right: 1em; text-align: center; vertical-align: top\">9</td>\n",
              "        <td style=\"padding-left: 1em; padding-right: 1em; text-align: center; vertical-align: top\">1292</td>\n",
              "        <td style=\"padding-left: 1em; padding-right: 1em; text-align: center; vertical-align: top\">492</td>\n",
              "        <td style=\"padding-left: 1em; padding-right: 1em; text-align: center; vertical-align: top\">9</td>\n",
              "        <td style=\"padding-left: 1em; padding-right: 1em; text-align: center; vertical-align: top\">5000</td>\n",
              "    </tr>\n",
              "    <tr>\n",
              "        <td style=\"padding-left: 1em; padding-right: 1em; text-align: center; vertical-align: top\">115</td>\n",
              "        <td style=\"padding-left: 1em; padding-right: 1em; text-align: center; vertical-align: top\">338</td>\n",
              "        <td style=\"padding-left: 1em; padding-right: 1em; text-align: center; vertical-align: top\">8439</td>\n",
              "        <td style=\"padding-left: 1em; padding-right: 1em; text-align: center; vertical-align: top\">10844</td>\n",
              "        <td style=\"padding-left: 1em; padding-right: 1em; text-align: center; vertical-align: top\">167</td>\n",
              "        <td style=\"padding-left: 1em; padding-right: 1em; text-align: center; vertical-align: top\">3283</td>\n",
              "    </tr>\n",
              "    <tr>\n",
              "        <td style=\"padding-left: 1em; padding-right: 1em; text-align: center; vertical-align: top\">40</td>\n",
              "        <td style=\"padding-left: 1em; padding-right: 1em; text-align: center; vertical-align: top\">110</td>\n",
              "        <td style=\"padding-left: 1em; padding-right: 1em; text-align: center; vertical-align: top\">2733</td>\n",
              "        <td style=\"padding-left: 1em; padding-right: 1em; text-align: center; vertical-align: top\">1945</td>\n",
              "        <td style=\"padding-left: 1em; padding-right: 1em; text-align: center; vertical-align: top\">109</td>\n",
              "        <td style=\"padding-left: 1em; padding-right: 1em; text-align: center; vertical-align: top\">1600</td>\n",
              "    </tr>\n",
              "    <tr>\n",
              "        <td style=\"padding-left: 1em; padding-right: 1em; text-align: center; vertical-align: top\">92</td>\n",
              "        <td style=\"padding-left: 1em; padding-right: 1em; text-align: center; vertical-align: top\">264</td>\n",
              "        <td style=\"padding-left: 1em; padding-right: 1em; text-align: center; vertical-align: top\">10632</td>\n",
              "        <td style=\"padding-left: 1em; padding-right: 1em; text-align: center; vertical-align: top\">11188</td>\n",
              "        <td style=\"padding-left: 1em; padding-right: 1em; text-align: center; vertical-align: top\">138</td>\n",
              "        <td style=\"padding-left: 1em; padding-right: 1em; text-align: center; vertical-align: top\">3215</td>\n",
              "    </tr>\n",
              "    <tr>\n",
              "        <td style=\"padding-left: 1em; padding-right: 1em; text-align: center; vertical-align: top\">12</td>\n",
              "        <td style=\"padding-left: 1em; padding-right: 1em; text-align: center; vertical-align: top\">34</td>\n",
              "        <td style=\"padding-left: 1em; padding-right: 1em; text-align: center; vertical-align: top\">211</td>\n",
              "        <td style=\"padding-left: 1em; padding-right: 1em; text-align: center; vertical-align: top\">1225</td>\n",
              "        <td style=\"padding-left: 1em; padding-right: 1em; text-align: center; vertical-align: top\">34</td>\n",
              "        <td style=\"padding-left: 1em; padding-right: 1em; text-align: center; vertical-align: top\">3600</td>\n",
              "    </tr>\n",
              "    <tr>\n",
              "        <td style=\"padding-left: 1em; padding-right: 1em; text-align: center; vertical-align: top\">572</td>\n",
              "        <td style=\"padding-left: 1em; padding-right: 1em; text-align: center; vertical-align: top\">1690</td>\n",
              "        <td style=\"padding-left: 1em; padding-right: 1em; text-align: center; vertical-align: top\">35345</td>\n",
              "        <td style=\"padding-left: 1em; padding-right: 1em; text-align: center; vertical-align: top\">52644</td>\n",
              "        <td style=\"padding-left: 1em; padding-right: 1em; text-align: center; vertical-align: top\">1563</td>\n",
              "        <td style=\"padding-left: 1em; padding-right: 1em; text-align: center; vertical-align: top\">2845</td>\n",
              "    </tr>\n",
              "    <tr>\n",
              "        <td style=\"padding-left: 1em; padding-right: 1em; text-align: center; vertical-align: top\">106</td>\n",
              "        <td style=\"padding-left: 1em; padding-right: 1em; text-align: center; vertical-align: top\">325</td>\n",
              "        <td style=\"padding-left: 1em; padding-right: 1em; text-align: center; vertical-align: top\">7332</td>\n",
              "        <td style=\"padding-left: 1em; padding-right: 1em; text-align: center; vertical-align: top\">6348</td>\n",
              "        <td style=\"padding-left: 1em; padding-right: 1em; text-align: center; vertical-align: top\">149</td>\n",
              "        <td style=\"padding-left: 1em; padding-right: 1em; text-align: center; vertical-align: top\">2122</td>\n",
              "    </tr>\n",
              "    <tr>\n",
              "        <td style=\"padding-left: 1em; padding-right: 1em; text-align: center; vertical-align: top\">34</td>\n",
              "        <td style=\"padding-left: 1em; padding-right: 1em; text-align: center; vertical-align: top\">124</td>\n",
              "        <td style=\"padding-left: 1em; padding-right: 1em; text-align: center; vertical-align: top\">9662</td>\n",
              "        <td style=\"padding-left: 1em; padding-right: 1em; text-align: center; vertical-align: top\">10251</td>\n",
              "        <td style=\"padding-left: 1em; padding-right: 1em; text-align: center; vertical-align: top\">120</td>\n",
              "        <td style=\"padding-left: 1em; padding-right: 1em; text-align: center; vertical-align: top\">8573</td>\n",
              "    </tr>\n",
              "    <tr>\n",
              "        <td style=\"padding-left: 1em; padding-right: 1em; text-align: center; vertical-align: top\">104</td>\n",
              "        <td style=\"padding-left: 1em; padding-right: 1em; text-align: center; vertical-align: top\">217</td>\n",
              "        <td style=\"padding-left: 1em; padding-right: 1em; text-align: center; vertical-align: top\">5807</td>\n",
              "        <td style=\"padding-left: 1em; padding-right: 1em; text-align: center; vertical-align: top\">1773</td>\n",
              "        <td style=\"padding-left: 1em; padding-right: 1em; text-align: center; vertical-align: top\">176</td>\n",
              "        <td style=\"padding-left: 1em; padding-right: 1em; text-align: center; vertical-align: top\">870</td>\n",
              "    </tr>\n",
              "</table>\n",
              "<table frame=\"box\" rules=\"cols\">\n",
              "    <tr>\n",
              "        <th style=\"padding-left: 1em; padding-right: 1em; text-align: center\">Ref. / Doc.</th>\n",
              "        <th style=\"padding-left: 1em; padding-right: 1em; text-align: center\">Country</th>\n",
              "        <th style=\"padding-left: 1em; padding-right: 1em; text-align: center\">Region</th>\n",
              "        <th style=\"padding-left: 1em; padding-right: 1em; text-align: center\">Publisher</th>\n",
              "        <th style=\"padding-left: 1em; padding-right: 1em; text-align: center\">Coverage</th>\n",
              "    </tr>\n",
              "    <tr>\n",
              "        <td style=\"padding-left: 1em; padding-right: 1em; text-align: center; vertical-align: top\">7345</td>\n",
              "        <td style=\"padding-left: 1em; padding-right: 1em; text-align: center; vertical-align: top\">United States</td>\n",
              "        <td style=\"padding-left: 1em; padding-right: 1em; text-align: center; vertical-align: top\">Northern America</td>\n",
              "        <td style=\"padding-left: 1em; padding-right: 1em; text-align: center; vertical-align: top\">Wiley-Blackwell</td>\n",
              "        <td style=\"padding-left: 1em; padding-right: 1em; text-align: center; vertical-align: top\">1950-2020</td>\n",
              "    </tr>\n",
              "    <tr>\n",
              "        <td style=\"padding-left: 1em; padding-right: 1em; text-align: center; vertical-align: top\">12920</td>\n",
              "        <td style=\"padding-left: 1em; padding-right: 1em; text-align: center; vertical-align: top\">United States</td>\n",
              "        <td style=\"padding-left: 1em; padding-right: 1em; text-align: center; vertical-align: top\">Northern America</td>\n",
              "        <td style=\"padding-left: 1em; padding-right: 1em; text-align: center; vertical-align: top\">Centers for Disease<br>Control and Prevention ...</td>\n",
              "        <td style=\"padding-left: 1em; padding-right: 1em; text-align: center; vertical-align: top\">1990-2020</td>\n",
              "    </tr>\n",
              "    <tr>\n",
              "        <td style=\"padding-left: 1em; padding-right: 1em; text-align: center; vertical-align: top\">7338</td>\n",
              "        <td style=\"padding-left: 1em; padding-right: 1em; text-align: center; vertical-align: top\">United Kingdom</td>\n",
              "        <td style=\"padding-left: 1em; padding-right: 1em; text-align: center; vertical-align: top\">Western Europe</td>\n",
              "        <td style=\"padding-left: 1em; padding-right: 1em; text-align: center; vertical-align: top\">Nature Publishing Group</td>\n",
              "        <td style=\"padding-left: 1em; padding-right: 1em; text-align: center; vertical-align: top\">2000-2020</td>\n",
              "    </tr>\n",
              "    <tr>\n",
              "        <td style=\"padding-left: 1em; padding-right: 1em; text-align: center; vertical-align: top\">6833</td>\n",
              "        <td style=\"padding-left: 1em; padding-right: 1em; text-align: center; vertical-align: top\">United Kingdom</td>\n",
              "        <td style=\"padding-left: 1em; padding-right: 1em; text-align: center; vertical-align: top\">Western Europe</td>\n",
              "        <td style=\"padding-left: 1em; padding-right: 1em; text-align: center; vertical-align: top\">Oxford University Press</td>\n",
              "        <td style=\"padding-left: 1em; padding-right: 1em; text-align: center; vertical-align: top\">1886-2020</td>\n",
              "    </tr>\n",
              "    <tr>\n",
              "        <td style=\"padding-left: 1em; padding-right: 1em; text-align: center; vertical-align: top\">11557</td>\n",
              "        <td style=\"padding-left: 1em; padding-right: 1em; text-align: center; vertical-align: top\">United Kingdom</td>\n",
              "        <td style=\"padding-left: 1em; padding-right: 1em; text-align: center; vertical-align: top\">Western Europe</td>\n",
              "        <td style=\"padding-left: 1em; padding-right: 1em; text-align: center; vertical-align: top\">Nature Publishing Group</td>\n",
              "        <td style=\"padding-left: 1em; padding-right: 1em; text-align: center; vertical-align: top\">2016-2020</td>\n",
              "    </tr>\n",
              "    <tr>\n",
              "        <td style=\"padding-left: 1em; padding-right: 1em; text-align: center; vertical-align: top\">1758</td>\n",
              "        <td style=\"padding-left: 1em; padding-right: 1em; text-align: center; vertical-align: top\">United States</td>\n",
              "        <td style=\"padding-left: 1em; padding-right: 1em; text-align: center; vertical-align: top\">Northern America</td>\n",
              "        <td style=\"padding-left: 1em; padding-right: 1em; text-align: center; vertical-align: top\">Public Health Services,<br>US Dept of Health and ...</td>\n",
              "        <td style=\"padding-left: 1em; padding-right: 1em; text-align: center; vertical-align: top\">1998-2020</td>\n",
              "    </tr>\n",
              "    <tr>\n",
              "        <td style=\"padding-left: 1em; padding-right: 1em; text-align: center; vertical-align: top\">6179</td>\n",
              "        <td style=\"padding-left: 1em; padding-right: 1em; text-align: center; vertical-align: top\">United States</td>\n",
              "        <td style=\"padding-left: 1em; padding-right: 1em; text-align: center; vertical-align: top\">Northern America</td>\n",
              "        <td style=\"padding-left: 1em; padding-right: 1em; text-align: center; vertical-align: top\">Cell Press</td>\n",
              "        <td style=\"padding-left: 1em; padding-right: 1em; text-align: center; vertical-align: top\">1974-2020</td>\n",
              "    </tr>\n",
              "    <tr>\n",
              "        <td style=\"padding-left: 1em; padding-right: 1em; text-align: center; vertical-align: top\">6917</td>\n",
              "        <td style=\"padding-left: 1em; padding-right: 1em; text-align: center; vertical-align: top\">United Kingdom</td>\n",
              "        <td style=\"padding-left: 1em; padding-right: 1em; text-align: center; vertical-align: top\">Western Europe</td>\n",
              "        <td style=\"padding-left: 1em; padding-right: 1em; text-align: center; vertical-align: top\">Nature Publishing Group</td>\n",
              "        <td style=\"padding-left: 1em; padding-right: 1em; text-align: center; vertical-align: top\">2000-2020</td>\n",
              "    </tr>\n",
              "    <tr>\n",
              "        <td style=\"padding-left: 1em; padding-right: 1em; text-align: center; vertical-align: top\">28418</td>\n",
              "        <td style=\"padding-left: 1em; padding-right: 1em; text-align: center; vertical-align: top\">United States</td>\n",
              "        <td style=\"padding-left: 1em; padding-right: 1em; text-align: center; vertical-align: top\">Northern America</td>\n",
              "        <td style=\"padding-left: 1em; padding-right: 1em; text-align: center; vertical-align: top\">American Physical Society</td>\n",
              "        <td style=\"padding-left: 1em; padding-right: 1em; text-align: center; vertical-align: top\">1929-2020</td>\n",
              "    </tr>\n",
              "    <tr>\n",
              "        <td style=\"padding-left: 1em; padding-right: 1em; text-align: center; vertical-align: top\">5584</td>\n",
              "        <td style=\"padding-left: 1em; padding-right: 1em; text-align: center; vertical-align: top\">United States</td>\n",
              "        <td style=\"padding-left: 1em; padding-right: 1em; text-align: center; vertical-align: top\">Northern America</td>\n",
              "        <td style=\"padding-left: 1em; padding-right: 1em; text-align: center; vertical-align: top\">University of Chicago</td>\n",
              "        <td style=\"padding-left: 1em; padding-right: 1em; text-align: center; vertical-align: top\">1969, 1973-1974,<br>1979-1985, 1987-2020 ...</td>\n",
              "    </tr>\n",
              "</table>\n",
              "<table frame=\"box\" rules=\"cols\">\n",
              "    <tr>\n",
              "        <th style=\"padding-left: 1em; padding-right: 1em; text-align: center\">Categories</th>\n",
              "    </tr>\n",
              "    <tr>\n",
              "        <td style=\"padding-left: 1em; padding-right: 1em; text-align: center; vertical-align: top\">Hematology (Q1); Oncology<br>(Q1) ...</td>\n",
              "    </tr>\n",
              "    <tr>\n",
              "        <td style=\"padding-left: 1em; padding-right: 1em; text-align: center; vertical-align: top\">Epidemiology (Q1); Health<br>Information Management ...</td>\n",
              "    </tr>\n",
              "    <tr>\n",
              "        <td style=\"padding-left: 1em; padding-right: 1em; text-align: center; vertical-align: top\">Cell Biology (Q1);<br>Molecular Biology (Q1) ...</td>\n",
              "    </tr>\n",
              "    <tr>\n",
              "        <td style=\"padding-left: 1em; padding-right: 1em; text-align: center; vertical-align: top\">Economics and<br>Econometrics (Q1) ...</td>\n",
              "    </tr>\n",
              "    <tr>\n",
              "        <td style=\"padding-left: 1em; padding-right: 1em; text-align: center; vertical-align: top\">Biomaterials (Q1);<br>Electronic, Optical and ...</td>\n",
              "    </tr>\n",
              "    <tr>\n",
              "        <td style=\"padding-left: 1em; padding-right: 1em; text-align: center; vertical-align: top\">Life-span and Life-course<br>Studies (Q1) ...</td>\n",
              "    </tr>\n",
              "    <tr>\n",
              "        <td style=\"padding-left: 1em; padding-right: 1em; text-align: center; vertical-align: top\">Biochemistry, Genetics<br>and Molecular Biology ...</td>\n",
              "    </tr>\n",
              "    <tr>\n",
              "        <td style=\"padding-left: 1em; padding-right: 1em; text-align: center; vertical-align: top\">Genetics (Q1); Genetics<br>(clinical) (Q1); ...</td>\n",
              "    </tr>\n",
              "    <tr>\n",
              "        <td style=\"padding-left: 1em; padding-right: 1em; text-align: center; vertical-align: top\">Physics and Astronomy<br>(miscellaneous) (Q1) ...</td>\n",
              "    </tr>\n",
              "    <tr>\n",
              "        <td style=\"padding-left: 1em; padding-right: 1em; text-align: center; vertical-align: top\">Economics and<br>Econometrics (Q1) ...</td>\n",
              "    </tr>\n",
              "</table>\n",
              "[10000 rows x 20 columns]<br/>Note: Only the head of the SFrame is printed.<br/>You can use print_rows(num_rows=m, num_columns=n) to print more rows and columns.\n",
              "</div>"
            ],
            "text/plain": [
              "Columns:\n",
              "\tRank\tint\n",
              "\tSourceid\tint\n",
              "\tTitle\tstr\n",
              "\tType\tstr\n",
              "\tIssn\tstr\n",
              "\tSJR\tint\n",
              "\tSJR Best Quartile\tstr\n",
              "\tH index\tint\n",
              "\tTotal Docs. (2020)\tint\n",
              "\tTotal Docs. (3years)\tint\n",
              "\tTotal Refs.\tint\n",
              "\tTotal Cites (3years)\tint\n",
              "\tCitable Docs. (3years)\tint\n",
              "\tCites / Doc. (2years)\tint\n",
              "\tRef. / Doc.\tint\n",
              "\tCountry\tstr\n",
              "\tRegion\tstr\n",
              "\tPublisher\tstr\n",
              "\tCoverage\tstr\n",
              "\tCategories\tstr\n",
              "\n",
              "Rows: 10000\n",
              "\n",
              "Data:\n",
              "+------+-------------+--------------------------------+---------+\n",
              "| Rank |   Sourceid  |             Title              |   Type  |\n",
              "+------+-------------+--------------------------------+---------+\n",
              "|  1   |    28773    | Ca-A Cancer Journal for Cl...  | journal |\n",
              "|  2   |    19434    | MMWR Recommendations and R...  | journal |\n",
              "|  3   |    20315    | Nature Reviews Molecular C...  | journal |\n",
              "|  4   |    29431    | Quarterly Journal of Economics | journal |\n",
              "|  5   | 21100812243 |    Nature Reviews Materials    | journal |\n",
              "|  6   |    58530    | National vital statistics ...  | journal |\n",
              "|  7   |    18434    |              Cell              | journal |\n",
              "|  8   |    18991    |    Nature Reviews Genetics     | journal |\n",
              "|  9   |    29719    |   Reviews of Modern Physics    | journal |\n",
              "|  10  |    24404    |  Journal of Political Economy  | journal |\n",
              "+------+-------------+--------------------------------+---------+\n",
              "+--------------------+-------+-------------------+---------+--------------------+\n",
              "|        Issn        |  SJR  | SJR Best Quartile | H index | Total Docs. (2020) |\n",
              "+--------------------+-------+-------------------+---------+--------------------+\n",
              "| 15424863, 00079235 | 62937 |         Q1        |   168   |         47         |\n",
              "| 10575987, 15458601 | 40949 |         Q1        |   143   |         10         |\n",
              "| 14710072, 14710080 | 37461 |         Q1        |   431   |        115         |\n",
              "| 00335533, 15314650 | 34573 |         Q1        |   259   |         40         |\n",
              "|      20588437      | 32011 |         Q1        |   108   |         92         |\n",
              "| 15518922, 15518930 | 28083 |         Q1        |   100   |         12         |\n",
              "| 00928674, 10974172 | 26304 |         Q1        |   776   |        572         |\n",
              "| 14710056, 14710064 | 26214 |         Q1        |   365   |        106         |\n",
              "| 00346861, 15390756 | 24877 |         Q1        |   363   |         34         |\n",
              "| 00223808, 1537534X | 21034 |         Q1        |   186   |        104         |\n",
              "+--------------------+-------+-------------------+---------+--------------------+\n",
              "+----------------------+-------------+----------------------+------------------------+\n",
              "| Total Docs. (3years) | Total Refs. | Total Cites (3years) | Citable Docs. (3years) |\n",
              "+----------------------+-------------+----------------------+------------------------+\n",
              "|         119          |     3452    |        15499         |           80           |\n",
              "|          9           |     1292    |         492          |           9            |\n",
              "|         338          |     8439    |        10844         |          167           |\n",
              "|         110          |     2733    |         1945         |          109           |\n",
              "|         264          |    10632    |        11188         |          138           |\n",
              "|          34          |     211     |         1225         |           34           |\n",
              "|         1690         |    35345    |        52644         |          1563          |\n",
              "|         325          |     7332    |         6348         |          149           |\n",
              "|         124          |     9662    |        10251         |          120           |\n",
              "|         217          |     5807    |         1773         |          176           |\n",
              "+----------------------+-------------+----------------------+------------------------+\n",
              "+-----------------------+-------------+----------------+------------------+\n",
              "| Cites / Doc. (2years) | Ref. / Doc. |    Country     |      Region      |\n",
              "+-----------------------+-------------+----------------+------------------+\n",
              "|         12634         |     7345    | United States  | Northern America |\n",
              "|          5000         |    12920    | United States  | Northern America |\n",
              "|          3283         |     7338    | United Kingdom |  Western Europe  |\n",
              "|          1600         |     6833    | United Kingdom |  Western Europe  |\n",
              "|          3215         |    11557    | United Kingdom |  Western Europe  |\n",
              "|          3600         |     1758    | United States  | Northern America |\n",
              "|          2845         |     6179    | United States  | Northern America |\n",
              "|          2122         |     6917    | United Kingdom |  Western Europe  |\n",
              "|          8573         |    28418    | United States  | Northern America |\n",
              "|          870          |     5584    | United States  | Northern America |\n",
              "+-----------------------+-------------+----------------+------------------+\n",
              "+-------------------------------+-------------------------------+\n",
              "|           Publisher           |            Coverage           |\n",
              "+-------------------------------+-------------------------------+\n",
              "|        Wiley-Blackwell        |           1950-2020           |\n",
              "| Centers for Disease Contro... |           1990-2020           |\n",
              "|    Nature Publishing Group    |           2000-2020           |\n",
              "|    Oxford University Press    |           1886-2020           |\n",
              "|    Nature Publishing Group    |           2016-2020           |\n",
              "| Public Health Services, US... |           1998-2020           |\n",
              "|           Cell Press          |           1974-2020           |\n",
              "|    Nature Publishing Group    |           2000-2020           |\n",
              "|   American Physical Society   |           1929-2020           |\n",
              "|     University of Chicago     | 1969, 1973-1974, 1979-1985... |\n",
              "+-------------------------------+-------------------------------+\n",
              "+--------------------------------+\n",
              "|           Categories           |\n",
              "+--------------------------------+\n",
              "| Hematology (Q1); Oncology (Q1) |\n",
              "| Epidemiology (Q1); Health ...  |\n",
              "| Cell Biology (Q1); Molecul...  |\n",
              "| Economics and Econometrics...  |\n",
              "| Biomaterials (Q1); Electro...  |\n",
              "| Life-span and Life-course ...  |\n",
              "| Biochemistry, Genetics and...  |\n",
              "| Genetics (Q1); Genetics (c...  |\n",
              "| Physics and Astronomy (mis...  |\n",
              "| Economics and Econometrics...  |\n",
              "+--------------------------------+\n",
              "[10000 rows x 20 columns]\n",
              "Note: Only the head of the SFrame is printed.\n",
              "You can use print_rows(num_rows=m, num_columns=n) to print more rows and columns."
            ]
          },
          "metadata": {},
          "execution_count": 21
        }
      ]
    },
    {
      "cell_type": "code",
      "metadata": {
        "colab": {
          "base_uri": "https://localhost:8080/",
          "height": 386
        },
        "id": "F-tKdcKeqaC7",
        "outputId": "e08b468a-dc12-4473-9a93-d4d33aeebf6b"
      },
      "source": [
        "sns.displot(data=sf.to_dataframe(),y=\"H index\",x=\"SJR Best Quartile\")"
      ],
      "execution_count": 22,
      "outputs": [
        {
          "output_type": "execute_result",
          "data": {
            "text/plain": [
              "<seaborn.axisgrid.FacetGrid at 0x7f64c4da5550>"
            ]
          },
          "metadata": {},
          "execution_count": 22
        },
        {
          "output_type": "display_data",
          "data": {
            "image/png": "[encoded data removed]",
            "text/plain": [
              "<Figure size 360x360 with 1 Axes>"
            ]
          },
          "metadata": {
            "needs_background": "light"
          }
        }
      ]
    },
    {
      "cell_type": "markdown",
      "metadata": {
        "id": "I4nBAeosuhct"
      },
      "source": [
        "### too many publisher, lets look at top 5"
      ]
    },
    {
      "cell_type": "code",
      "metadata": {
        "id": "Fz1PiCzXudYq"
      },
      "source": [
        "g=sf.groupby(\"Publisher\", {\"Count\":agg.COUNT()})\n",
        "best_5=g.sort(\"Count\", ascending=False)[:5]\n",
        "df=sf.to_dataframe()"
      ],
      "execution_count": 23,
      "outputs": []
    },
    {
      "cell_type": "code",
      "metadata": {
        "colab": {
          "base_uri": "https://localhost:8080/",
          "height": 242
        },
        "id": "pF8Q7FK1shCb",
        "outputId": "19372736-33a6-4ea5-e84b-dd04802b5337"
      },
      "source": [
        "g = sns.FacetGrid(df[df[\"Publisher\"].isin(best_5.to_dataframe()[\"Publisher\"])], col=\"Publisher\")\n",
        "g.map(sns.kdeplot, \"Cites / Doc. (2years)\")"
      ],
      "execution_count": 24,
      "outputs": [
        {
          "output_type": "execute_result",
          "data": {
            "text/plain": [
              "<seaborn.axisgrid.FacetGrid at 0x7f64c0ebd810>"
            ]
          },
          "metadata": {},
          "execution_count": 24
        },
        {
          "output_type": "display_data",
          "data": {
            "image/png": "[encoded data removed]",
            "text/plain": [
              "<Figure size 1080x216 with 5 Axes>"
            ]
          },
          "metadata": {
            "needs_background": "light"
          }
        }
      ]
    },
    {
      "cell_type": "code",
      "metadata": {
        "id": "WRTzDspPwBzF"
      },
      "source": [
        ""
      ],
      "execution_count": 24,
      "outputs": []
    }
  ]
}